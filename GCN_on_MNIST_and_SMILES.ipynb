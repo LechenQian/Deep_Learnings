{
  "cells": [
    {
      "cell_type": "markdown",
      "metadata": {
        "id": "fSz6FZp_6T6a"
      },
      "source": [
        "# The MNIST Dataset\n",
        "The MNIST dataset is a repository of handwritten digits with\n",
        "- 60,000 training images\n",
        "- 10,000 testing images\n",
        "- 28x28x1 images\n",
        "\n",
        "\n",
        "Will be trying to classify the class (numeric value) of the handwritten digit from the image using various DNN architectures.\n",
        "\n",
        "- Multilayer Perceptron (MLP)\n",
        "- Convolutional Neural Network (CNN)\n",
        "- Graph Neural Network (GNN)"
      ]
    },
    {
      "cell_type": "code",
      "execution_count": null,
      "metadata": {
        "id": "9imqRxveZl-J",
        "colab": {
          "base_uri": "https://localhost:8080/"
        },
        "outputId": "817b1e4f-053b-4741-a5c2-c4cf7c4085dc"
      },
      "outputs": [
        {
          "output_type": "stream",
          "name": "stdout",
          "text": [
            "Looking in indexes: https://pypi.org/simple, https://us-python.pkg.dev/colab-wheels/public/simple/\n",
            "Looking in links: https://pytorch-geometric.com/whl/torch-1.12.1+cu113.html\n",
            "Collecting torch-scatter\n",
            "  Downloading https://data.pyg.org/whl/torch-1.12.0%2Bcu113/torch_scatter-2.0.9-cp37-cp37m-linux_x86_64.whl (7.9 MB)\n",
            "\u001b[K     |████████████████████████████████| 7.9 MB 7.3 MB/s \n",
            "\u001b[?25hInstalling collected packages: torch-scatter\n",
            "Successfully installed torch-scatter-2.0.9\n",
            "Looking in indexes: https://pypi.org/simple, https://us-python.pkg.dev/colab-wheels/public/simple/\n",
            "Looking in links: https://pytorch-geometric.com/whl/torch-1.12.1+cu113.html\n",
            "Collecting torch-sparse\n",
            "  Downloading https://data.pyg.org/whl/torch-1.12.0%2Bcu113/torch_sparse-0.6.15-cp37-cp37m-linux_x86_64.whl (3.5 MB)\n",
            "\u001b[K     |████████████████████████████████| 3.5 MB 8.0 MB/s \n",
            "\u001b[?25hRequirement already satisfied: scipy in /usr/local/lib/python3.7/dist-packages (from torch-sparse) (1.7.3)\n",
            "Requirement already satisfied: numpy<1.23.0,>=1.16.5 in /usr/local/lib/python3.7/dist-packages (from scipy->torch-sparse) (1.21.6)\n",
            "Installing collected packages: torch-sparse\n",
            "Successfully installed torch-sparse-0.6.15\n",
            "Looking in indexes: https://pypi.org/simple, https://us-python.pkg.dev/colab-wheels/public/simple/\n",
            "Looking in links: https://pytorch-geometric.com/whl/torch-1.12.1+cu113.html\n",
            "Collecting torch-cluster\n",
            "  Downloading https://data.pyg.org/whl/torch-1.12.0%2Bcu113/torch_cluster-1.6.0-cp37-cp37m-linux_x86_64.whl (2.4 MB)\n",
            "\u001b[K     |████████████████████████████████| 2.4 MB 8.7 MB/s \n",
            "\u001b[?25hInstalling collected packages: torch-cluster\n",
            "Successfully installed torch-cluster-1.6.0\n",
            "Looking in indexes: https://pypi.org/simple, https://us-python.pkg.dev/colab-wheels/public/simple/\n",
            "Looking in links: https://pytorch-geometric.com/whl/torch-1.12.1+cu113.html\n",
            "Collecting torch-spline-conv\n",
            "  Downloading https://data.pyg.org/whl/torch-1.12.0%2Bcu113/torch_spline_conv-1.2.1-cp37-cp37m-linux_x86_64.whl (709 kB)\n",
            "\u001b[K     |████████████████████████████████| 709 kB 7.5 MB/s \n",
            "\u001b[?25hInstalling collected packages: torch-spline-conv\n",
            "Successfully installed torch-spline-conv-1.2.1\n",
            "Looking in indexes: https://pypi.org/simple, https://us-python.pkg.dev/colab-wheels/public/simple/\n",
            "Collecting torch-geometric\n",
            "  Downloading torch_geometric-2.1.0.post1.tar.gz (467 kB)\n",
            "\u001b[K     |████████████████████████████████| 467 kB 6.8 MB/s \n",
            "\u001b[?25hRequirement already satisfied: tqdm in /usr/local/lib/python3.7/dist-packages (from torch-geometric) (4.64.1)\n",
            "Requirement already satisfied: numpy in /usr/local/lib/python3.7/dist-packages (from torch-geometric) (1.21.6)\n",
            "Requirement already satisfied: scipy in /usr/local/lib/python3.7/dist-packages (from torch-geometric) (1.7.3)\n",
            "Requirement already satisfied: jinja2 in /usr/local/lib/python3.7/dist-packages (from torch-geometric) (2.11.3)\n",
            "Requirement already satisfied: requests in /usr/local/lib/python3.7/dist-packages (from torch-geometric) (2.23.0)\n",
            "Requirement already satisfied: pyparsing in /usr/local/lib/python3.7/dist-packages (from torch-geometric) (3.0.9)\n",
            "Requirement already satisfied: scikit-learn in /usr/local/lib/python3.7/dist-packages (from torch-geometric) (1.0.2)\n",
            "Requirement already satisfied: MarkupSafe>=0.23 in /usr/local/lib/python3.7/dist-packages (from jinja2->torch-geometric) (2.0.1)\n",
            "Requirement already satisfied: certifi>=2017.4.17 in /usr/local/lib/python3.7/dist-packages (from requests->torch-geometric) (2022.9.24)\n",
            "Requirement already satisfied: idna<3,>=2.5 in /usr/local/lib/python3.7/dist-packages (from requests->torch-geometric) (2.10)\n",
            "Requirement already satisfied: urllib3!=1.25.0,!=1.25.1,<1.26,>=1.21.1 in /usr/local/lib/python3.7/dist-packages (from requests->torch-geometric) (1.24.3)\n",
            "Requirement already satisfied: chardet<4,>=3.0.2 in /usr/local/lib/python3.7/dist-packages (from requests->torch-geometric) (3.0.4)\n",
            "Requirement already satisfied: joblib>=0.11 in /usr/local/lib/python3.7/dist-packages (from scikit-learn->torch-geometric) (1.2.0)\n",
            "Requirement already satisfied: threadpoolctl>=2.0.0 in /usr/local/lib/python3.7/dist-packages (from scikit-learn->torch-geometric) (3.1.0)\n",
            "Building wheels for collected packages: torch-geometric\n",
            "  Building wheel for torch-geometric (setup.py) ... \u001b[?25l\u001b[?25hdone\n",
            "  Created wheel for torch-geometric: filename=torch_geometric-2.1.0.post1-py3-none-any.whl size=689859 sha256=a8bbc95b479c3ab271509063dc641b80ec267b56819347d2ea41cf21f5e24e97\n",
            "  Stored in directory: /root/.cache/pip/wheels/d1/cb/43/f7f2e472de4d7cff31bceddadc36d634e1e545fbc17961c282\n",
            "Successfully built torch-geometric\n",
            "Installing collected packages: torch-geometric\n",
            "Successfully installed torch-geometric-2.1.0.post1\n"
          ]
        }
      ],
      "source": [
        "#Basic pre-reqs:\n",
        "\n",
        "import torch\n",
        "\n",
        "def format_pytorch_version(version):\n",
        "  return version.split('+')[0]\n",
        "\n",
        "TORCH_version = torch.__version__\n",
        "TORCH = format_pytorch_version(TORCH_version)\n",
        "\n",
        "def format_cuda_version(version):\n",
        "  return 'cu' + version.replace('.', '')\n",
        "\n",
        "CUDA_version = torch.version.cuda\n",
        "CUDA = format_cuda_version(CUDA_version)\n",
        "\n",
        "!pip install torch-scatter     -f https://pytorch-geometric.com/whl/torch-{TORCH}+{CUDA}.html\n",
        "!pip install torch-sparse      -f https://pytorch-geometric.com/whl/torch-{TORCH}+{CUDA}.html\n",
        "!pip install torch-cluster     -f https://pytorch-geometric.com/whl/torch-{TORCH}+{CUDA}.html\n",
        "!pip install torch-spline-conv -f https://pytorch-geometric.com/whl/torch-{TORCH}+{CUDA}.html\n",
        "!pip install torch-geometric \n",
        "\n",
        "import numpy as np\n",
        "from torch.autograd import Variable\n",
        "from matplotlib import pyplot as plt\n",
        "import torch\n",
        "from torch import nn\n",
        "import math\n",
        "from torch.functional import F\n",
        "from torch.optim import Adam\n",
        "from torch_geometric.nn import MessagePassing, global_max_pool\n",
        "from torchvision import datasets, transforms\n",
        "from torch_geometric.data import Data, DataLoader\n",
        "import torch.utils.data as data_utils\n",
        "import torch_geometric\n",
        "from torch_scatter import scatter_max\n",
        "import dataclasses\n",
        "import networkx as nx\n",
        "from typing import *\n",
        "from tqdm import tqdm\n",
        "import os\n",
        "import jax\n",
        "from scipy.integrate import odeint\n",
        "from torch_geometric.nn import GCNConv\n",
        "import copy\n",
        "\n",
        "from torch_geometric.utils import add_self_loops, degree, remove_self_loops\n",
        "\n",
        "NUM_EPOCHS = 20\n",
        "LR = 5e-4\n",
        "device = torch.device(\"cuda\")\n",
        "%matplotlib inline"
      ]
    },
    {
      "cell_type": "markdown",
      "metadata": {
        "id": "ohT54vcC6T6a"
      },
      "source": [
        "## Load in the dataset"
      ]
    },
    {
      "cell_type": "code",
      "execution_count": null,
      "metadata": {
        "id": "2DxjgK2B6T6b",
        "colab": {
          "base_uri": "https://localhost:8080/",
          "height": 664,
          "referenced_widgets": [
            "d4ee35c925cf44d18ac139bd4fa161d0",
            "bf830994de4f41da8c7a31bc054583ea",
            "5d8ee8bb4bc84f4088f5f3b6a94059b3",
            "25eef309a9fc47bbbae95ffabd96367f",
            "72ea20e8f3e44fbfb9d46a6f77790324",
            "4d1f395b98294bd5819551842062ecb4",
            "c604f7cebfc74d7eb32bcb3749bde216",
            "a81297ee54a745cc9d875f11804ee292",
            "82c41084368f4fc5b501102b777c67f5",
            "9ce931f186184b09b516ec350be832c0",
            "a994d16fcd5e4ab09c49b059a56ae60a",
            "9cec7930cd63470981f37ff5c8f72181",
            "e17a1aff5c4d435ea8c59cb8c1f771e3",
            "56f308043264407d80c78768304d2725",
            "34d14e81588449b0be7cc68144993680",
            "0608686637274884aae5b4d50bc93181",
            "5edbd2702a844edaa01772f13d7be027",
            "1016db4b49f04aac80528fe6145674bd",
            "b2db969f39f14767987d3a89bcd896db",
            "ac9960964e5b4883a1e75a57443f18eb",
            "0d0d3679c43e4dc3af722131fda17427",
            "b407f143b63249c1b77a7e031922dc7f",
            "13ddcd49c3a64d4f9522cce30fec356a",
            "4eac9f6ab882402ab5a6394382d513fc",
            "f804eb4272154cd688dbfe027ab1e8ea",
            "318dabbace42473abc291e1f3feb78e0",
            "144699ae557940469e342a33a6a22bb4",
            "244e6bfafcab41808833788aecb0f66d",
            "93d5060710b24d53b608ef7b6f7ac556",
            "03d791d37a7d46b18884ccde3c3f0ce3",
            "44c2d54b37ee46ccbe9b0936c2266a5d",
            "8e0f78f7c66e45caad2303bf20d8e106",
            "f8023fcba1d44369b8a390fed8e030f0",
            "25bca2429d39437bac406b75c1ff203c",
            "a67c0f5b435d45f2b7c9786fd4de6566",
            "4f5736704bdf411b8059a8f08ff6265d",
            "ea12a994827f43e082e1d204470404bd",
            "389f1212e92e4320ad6775e59943aabc",
            "44c7a24c37584b138d280b16a82524e6",
            "06fe66ea32004200b59e099c0e7e2472",
            "dbe7687c9d5743f189e2b3635a6975d1",
            "14b8a10935464ed994446ac745ce70e6",
            "aa31fdb0d84f4a028c4dfeaa8a6648c5",
            "3484b892499e49cd87f83294b598cd9e"
          ]
        },
        "outputId": "17fe2557-9a49-4b86-d1ae-36d8a05c3f06"
      },
      "outputs": [
        {
          "output_type": "stream",
          "name": "stdout",
          "text": [
            "Downloading http://yann.lecun.com/exdb/mnist/train-images-idx3-ubyte.gz\n",
            "Downloading http://yann.lecun.com/exdb/mnist/train-images-idx3-ubyte.gz to ../data/MNIST/raw/train-images-idx3-ubyte.gz\n"
          ]
        },
        {
          "output_type": "display_data",
          "data": {
            "text/plain": [
              "  0%|          | 0/9912422 [00:00<?, ?it/s]"
            ],
            "application/vnd.jupyter.widget-view+json": {
              "version_major": 2,
              "version_minor": 0,
              "model_id": "d4ee35c925cf44d18ac139bd4fa161d0"
            }
          },
          "metadata": {}
        },
        {
          "output_type": "stream",
          "name": "stdout",
          "text": [
            "Extracting ../data/MNIST/raw/train-images-idx3-ubyte.gz to ../data/MNIST/raw\n",
            "\n",
            "Downloading http://yann.lecun.com/exdb/mnist/train-labels-idx1-ubyte.gz\n",
            "Downloading http://yann.lecun.com/exdb/mnist/train-labels-idx1-ubyte.gz to ../data/MNIST/raw/train-labels-idx1-ubyte.gz\n"
          ]
        },
        {
          "output_type": "display_data",
          "data": {
            "text/plain": [
              "  0%|          | 0/28881 [00:00<?, ?it/s]"
            ],
            "application/vnd.jupyter.widget-view+json": {
              "version_major": 2,
              "version_minor": 0,
              "model_id": "9cec7930cd63470981f37ff5c8f72181"
            }
          },
          "metadata": {}
        },
        {
          "output_type": "stream",
          "name": "stdout",
          "text": [
            "Extracting ../data/MNIST/raw/train-labels-idx1-ubyte.gz to ../data/MNIST/raw\n",
            "\n",
            "Downloading http://yann.lecun.com/exdb/mnist/t10k-images-idx3-ubyte.gz\n",
            "Downloading http://yann.lecun.com/exdb/mnist/t10k-images-idx3-ubyte.gz to ../data/MNIST/raw/t10k-images-idx3-ubyte.gz\n"
          ]
        },
        {
          "output_type": "display_data",
          "data": {
            "text/plain": [
              "  0%|          | 0/1648877 [00:00<?, ?it/s]"
            ],
            "application/vnd.jupyter.widget-view+json": {
              "version_major": 2,
              "version_minor": 0,
              "model_id": "13ddcd49c3a64d4f9522cce30fec356a"
            }
          },
          "metadata": {}
        },
        {
          "output_type": "stream",
          "name": "stdout",
          "text": [
            "Extracting ../data/MNIST/raw/t10k-images-idx3-ubyte.gz to ../data/MNIST/raw\n",
            "\n",
            "Downloading http://yann.lecun.com/exdb/mnist/t10k-labels-idx1-ubyte.gz\n",
            "Downloading http://yann.lecun.com/exdb/mnist/t10k-labels-idx1-ubyte.gz to ../data/MNIST/raw/t10k-labels-idx1-ubyte.gz\n"
          ]
        },
        {
          "output_type": "display_data",
          "data": {
            "text/plain": [
              "  0%|          | 0/4542 [00:00<?, ?it/s]"
            ],
            "application/vnd.jupyter.widget-view+json": {
              "version_major": 2,
              "version_minor": 0,
              "model_id": "25bca2429d39437bac406b75c1ff203c"
            }
          },
          "metadata": {}
        },
        {
          "output_type": "stream",
          "name": "stdout",
          "text": [
            "Extracting ../data/MNIST/raw/t10k-labels-idx1-ubyte.gz to ../data/MNIST/raw\n",
            "\n"
          ]
        },
        {
          "output_type": "display_data",
          "data": {
            "text/plain": [
              "<Figure size 432x288 with 40 Axes>"
            ],
            "image/png": "[encoded data removed]"
          },
          "metadata": {
            "needs_background": "light"
          }
        }
      ],
      "source": [
        "mnist_train = datasets.MNIST(\"../data\", train=True, download=True, transform=transforms.Compose([transforms.ToTensor(), transforms.Normalize((0.1307, ), (0.3081, ))]))\n",
        "mnist_test = datasets.MNIST(\"../data\", train=False, download=True, transform=transforms.Compose([transforms.ToTensor(), transforms.Normalize((0.1307, ), (0.3081, ))]))\n",
        "\n",
        "# Use 1/10th of the dataset for efficiency purposes\n",
        "mnist_train = data_utils.Subset(mnist_train, np.arange(len(mnist_train)//10))\n",
        "mnist_test = data_utils.Subset(mnist_test, np.arange(len(mnist_test)//10))\n",
        "\n",
        "for i in range(40):\n",
        "    plt.subplot(5,8,i+1)\n",
        "    plt.imshow(mnist_train[i][0].squeeze(), cmap=\"gray\")\n",
        "    plt.axis('off')"
      ]
    },
    {
      "cell_type": "markdown",
      "source": [
        "## Training Utilities"
      ],
      "metadata": {
        "id": "zI4TibnoBsVS"
      }
    },
    {
      "cell_type": "code",
      "execution_count": null,
      "metadata": {
        "id": "macIVgge6T6b"
      },
      "outputs": [],
      "source": [
        "\n",
        "@dataclasses.dataclass\n",
        "class TrainResult:\n",
        "    r\"\"\"\n",
        "    A collection containing everything we need to know about the training results\n",
        "    \"\"\"\n",
        "\n",
        "    num_epochs: int\n",
        "    lr: float\n",
        "\n",
        "    # The trained model\n",
        "    model: nn.Module\n",
        "\n",
        "    # Training loss (saved at each iteration in `train_epoch`)\n",
        "    train_losses: List[float]\n",
        "\n",
        "    # Training accuracies, before training and after each epoch\n",
        "    train_accs: List[float]\n",
        "    \n",
        "    # Validation accuracies, before training and after each epoch\n",
        "    val_accs: List[float]\n",
        "        \n",
        "def learning_curve(result: TrainResult, *, title: str = 'Learning Curve'):\n",
        "    r\"\"\"\n",
        "    Plot the training loss, training accuracy, and validation accuracy versus\n",
        "    epochs taken.\n",
        "    \"\"\"\n",
        "    fig, ax_loss = plt.subplots(figsize=(8, 5))\n",
        "    ax_loss.set_title(title, fontsize=16)\n",
        "    ax_loss.set_xlabel('Epoch', fontsize=12)\n",
        "\n",
        "    l_trloss = ax_loss.plot(\n",
        "        torch.arange(len(result.train_losses)) / len(result.train_losses) * result.num_epochs, \n",
        "        result.train_losses, \n",
        "        label='Train loss',\n",
        "        color='C0',\n",
        "    )\n",
        "    ax_loss.set_ylim(0, max(result.train_losses))\n",
        "    ax_loss.set_ylabel('Train loss', color='C0', fontsize=12)\n",
        "    ax_loss.tick_params(axis='y', labelcolor='C0')\n",
        "\n",
        "    ax_acc = ax_loss.twinx()\n",
        "    if len(result.val_accs):\n",
        "        l_valacc = ax_acc.plot(result.val_accs, label='Val', color='C1')\n",
        "    else:\n",
        "        l_valacc = ()\n",
        "    ax_acc.set_ylim(0, max(max(result.val_accs), 1))\n",
        "    ax_acc.set_ylabel('Validation', color='C1', fontsize=12)\n",
        "    ax_acc.tick_params(axis='y', labelcolor='C1')\n",
        "\n",
        "    lines = l_trloss + l_valacc\n",
        "\n",
        "    ax_loss.legend(lines, [l.get_label() for l in lines], loc='upper left', fontsize=13)\n",
        "    \n",
        "def train_nn(model, train_dataset, test_dataset, batch_size=32, num_epochs=NUM_EPOCHS, lr=LR, graph=False, criterion=nn.CrossEntropyLoss(), regression=False):\n",
        "    \n",
        "    train_result = TrainResult(num_epochs, lr, model, train_losses = [], train_accs=[], val_accs=[])\n",
        "    \n",
        "    if(graph):\n",
        "        train_loader = torch_geometric.loader.DataLoader(train_dataset, batch_size = batch_size, shuffle=True)\n",
        "        test_loader = torch_geometric.loader.DataLoader(test_dataset, batch_size = batch_size, shuffle=False)\n",
        "    else:\n",
        "        train_loader = torch.utils.data.DataLoader(train_dataset, batch_size = batch_size, shuffle=True)\n",
        "        test_loader = torch.utils.data.DataLoader(test_dataset, batch_size = batch_size, shuffle=False)\n",
        "        \n",
        "    optimizer = torch.optim.Adam(model.parameters(), lr=lr)\n",
        "    model.train()\n",
        "    total_train = 0\n",
        "    for epoch in range(num_epochs):\n",
        "        \n",
        "        model.train()\n",
        "        for datapoint in tqdm(train_loader):\n",
        "            if(graph):\n",
        "                datapoint = datapoint.to(device)\n",
        "                X, y = datapoint, datapoint.y\n",
        "            else:\n",
        "                X, y = datapoint[0].to(device), datapoint[1].to(device)\n",
        "            optimizer.zero_grad()\n",
        "            output = model(X)\n",
        "   \n",
        "            loss = criterion(output, y)\n",
        "            train_result.train_losses.append(loss.item())\n",
        "            total_train += loss.item()\n",
        "            loss.backward()\n",
        "            optimizer.step()\n",
        "        \n",
        "        total_train = total_train/len(train_loader)\n",
        "\n",
        "        model.eval()\n",
        "        total_val = 0\n",
        "        with torch.no_grad():\n",
        "            for bidx, datapoint in enumerate(test_loader):\n",
        "                if(graph):\n",
        "                    datapoint = datapoint.to(device)\n",
        "                    X, y = datapoint, datapoint.y\n",
        "                else:\n",
        "                    X, y = datapoint[0].to(device), datapoint[1].to(device)\n",
        "                output = model(X)\n",
        "                if(regression):\n",
        "                    total_val += criterion(output, y).item()\n",
        "                else:\n",
        "                    total_val += torch.sum(torch.argmax(output, dim=-1)==y).item()/output.size(dim=0)\n",
        "        train_result.val_accs.append(total_val/len(test_loader))\n",
        "\n",
        "        if(regression):\n",
        "            print(\"Epoch {}: Train Loss={} Validation Loss={}\".format(epoch, total_train, train_result.val_accs[-1]))\n",
        "        else:\n",
        "            print(\"Epoch {}: Train Loss={} Validation Accuracy={}%\".format(epoch, total_train, train_result.val_accs[-1]*100))\n",
        "\n",
        "    return train_result"
      ]
    },
    {
      "cell_type": "markdown",
      "metadata": {
        "id": "j9PcrYNC6T6c"
      },
      "source": [
        "## MLP Architecture\n",
        "\n",
        "\n"
      ]
    },
    {
      "cell_type": "code",
      "execution_count": null,
      "metadata": {
        "id": "ATLfU9LK6T6c"
      },
      "outputs": [],
      "source": [
        "class MLP(nn.Module):\n",
        "    def __init__(self, in_channels= 784, out_channels=10, num_hidden=128):\n",
        "\n",
        "      super(MLP, self).__init__()\n",
        "      self.flatten = nn.Flatten()\n",
        "      self.layers = nn.ModuleList()\n",
        "      self.linear_relu_stack = nn.Sequential(\n",
        "            nn.Linear(in_channels, num_hidden),\n",
        "            nn.ReLU(),\n",
        "            nn.Linear(num_hidden, num_hidden),\n",
        "            nn.ReLU(),\n",
        "            nn.Linear(num_hidden, num_hidden),\n",
        "            nn.ReLU(),\n",
        "            nn.Linear(num_hidden, num_hidden),\n",
        "            nn.ReLU(),\n",
        "            nn.Linear(num_hidden, num_hidden),\n",
        "            nn.ReLU(),\n",
        "            nn.Linear(num_hidden, out_channels)\n",
        "        )\n",
        "\n",
        "    def forward(self, x):\n",
        "\n",
        "      x = self.flatten(x)\n",
        "      x = self.linear_relu_stack(x)\n",
        "      return x"
      ]
    },
    {
      "cell_type": "markdown",
      "metadata": {
        "id": "pEJfujK36T6d"
      },
      "source": [
        "## Train the MLP"
      ]
    },
    {
      "cell_type": "code",
      "execution_count": null,
      "metadata": {
        "id": "srme0tqm6T6d",
        "colab": {
          "base_uri": "https://localhost:8080/",
          "height": 1000
        },
        "outputId": "9a92b2af-3907-4efe-ca6b-9d792d3159a1"
      },
      "outputs": [
        {
          "output_type": "stream",
          "name": "stderr",
          "text": [
            "100%|██████████| 188/188 [00:03<00:00, 47.02it/s] \n"
          ]
        },
        {
          "output_type": "stream",
          "name": "stdout",
          "text": [
            "Epoch 0: Train Loss=0.9397408581794576 Validation Accuracy=85.15625%\n"
          ]
        },
        {
          "output_type": "stream",
          "name": "stderr",
          "text": [
            "100%|██████████| 188/188 [00:01<00:00, 116.72it/s]\n"
          ]
        },
        {
          "output_type": "stream",
          "name": "stdout",
          "text": [
            "Epoch 1: Train Loss=0.3345086240028771 Validation Accuracy=86.1328125%\n"
          ]
        },
        {
          "output_type": "stream",
          "name": "stderr",
          "text": [
            "100%|██████████| 188/188 [00:01<00:00, 122.74it/s]\n"
          ]
        },
        {
          "output_type": "stream",
          "name": "stdout",
          "text": [
            "Epoch 2: Train Loss=0.2351920344533943 Validation Accuracy=88.76953125%\n"
          ]
        },
        {
          "output_type": "stream",
          "name": "stderr",
          "text": [
            "100%|██████████| 188/188 [00:01<00:00, 122.32it/s]\n"
          ]
        },
        {
          "output_type": "stream",
          "name": "stdout",
          "text": [
            "Epoch 3: Train Loss=0.1826594913916556 Validation Accuracy=87.6953125%\n"
          ]
        },
        {
          "output_type": "stream",
          "name": "stderr",
          "text": [
            "100%|██████████| 188/188 [00:01<00:00, 120.85it/s]\n"
          ]
        },
        {
          "output_type": "stream",
          "name": "stdout",
          "text": [
            "Epoch 4: Train Loss=0.14159506292586566 Validation Accuracy=90.72265625%\n"
          ]
        },
        {
          "output_type": "stream",
          "name": "stderr",
          "text": [
            "100%|██████████| 188/188 [00:01<00:00, 120.13it/s]\n"
          ]
        },
        {
          "output_type": "stream",
          "name": "stdout",
          "text": [
            "Epoch 5: Train Loss=0.10919992898489514 Validation Accuracy=91.9921875%\n"
          ]
        },
        {
          "output_type": "stream",
          "name": "stderr",
          "text": [
            "100%|██████████| 188/188 [00:01<00:00, 124.01it/s]\n"
          ]
        },
        {
          "output_type": "stream",
          "name": "stdout",
          "text": [
            "Epoch 6: Train Loss=0.07980827375421098 Validation Accuracy=92.28515625%\n"
          ]
        },
        {
          "output_type": "stream",
          "name": "stderr",
          "text": [
            "100%|██████████| 188/188 [00:01<00:00, 121.89it/s]\n"
          ]
        },
        {
          "output_type": "stream",
          "name": "stdout",
          "text": [
            "Epoch 7: Train Loss=0.07486622524723241 Validation Accuracy=91.89453125%\n"
          ]
        },
        {
          "output_type": "stream",
          "name": "stderr",
          "text": [
            "100%|██████████| 188/188 [00:01<00:00, 122.18it/s]\n"
          ]
        },
        {
          "output_type": "stream",
          "name": "stdout",
          "text": [
            "Epoch 8: Train Loss=0.053636429941623286 Validation Accuracy=92.1875%\n"
          ]
        },
        {
          "output_type": "stream",
          "name": "stderr",
          "text": [
            "100%|██████████| 188/188 [00:01<00:00, 122.56it/s]\n"
          ]
        },
        {
          "output_type": "stream",
          "name": "stdout",
          "text": [
            "Epoch 9: Train Loss=0.050994143812287375 Validation Accuracy=93.75%\n"
          ]
        },
        {
          "output_type": "stream",
          "name": "stderr",
          "text": [
            "100%|██████████| 188/188 [00:01<00:00, 124.82it/s]\n"
          ]
        },
        {
          "output_type": "stream",
          "name": "stdout",
          "text": [
            "Epoch 10: Train Loss=0.044277719329242925 Validation Accuracy=92.3828125%\n"
          ]
        },
        {
          "output_type": "stream",
          "name": "stderr",
          "text": [
            "100%|██████████| 188/188 [00:01<00:00, 124.13it/s]\n"
          ]
        },
        {
          "output_type": "stream",
          "name": "stdout",
          "text": [
            "Epoch 11: Train Loss=0.03615787615090619 Validation Accuracy=93.75%\n"
          ]
        },
        {
          "output_type": "stream",
          "name": "stderr",
          "text": [
            "100%|██████████| 188/188 [00:01<00:00, 123.23it/s]\n"
          ]
        },
        {
          "output_type": "stream",
          "name": "stdout",
          "text": [
            "Epoch 12: Train Loss=0.026329286924782504 Validation Accuracy=93.84765625%\n"
          ]
        },
        {
          "output_type": "stream",
          "name": "stderr",
          "text": [
            "100%|██████████| 188/188 [00:01<00:00, 122.33it/s]\n"
          ]
        },
        {
          "output_type": "stream",
          "name": "stdout",
          "text": [
            "Epoch 13: Train Loss=0.030235309111556228 Validation Accuracy=94.140625%\n"
          ]
        },
        {
          "output_type": "stream",
          "name": "stderr",
          "text": [
            "100%|██████████| 188/188 [00:01<00:00, 125.02it/s]\n"
          ]
        },
        {
          "output_type": "stream",
          "name": "stdout",
          "text": [
            "Epoch 14: Train Loss=0.021527362152413097 Validation Accuracy=94.62890625%\n"
          ]
        },
        {
          "output_type": "stream",
          "name": "stderr",
          "text": [
            "100%|██████████| 188/188 [00:01<00:00, 126.92it/s]\n"
          ]
        },
        {
          "output_type": "stream",
          "name": "stdout",
          "text": [
            "Epoch 15: Train Loss=0.032657156398165695 Validation Accuracy=93.1640625%\n"
          ]
        },
        {
          "output_type": "stream",
          "name": "stderr",
          "text": [
            "100%|██████████| 188/188 [00:01<00:00, 123.26it/s]\n"
          ]
        },
        {
          "output_type": "stream",
          "name": "stdout",
          "text": [
            "Epoch 16: Train Loss=0.03206848019245821 Validation Accuracy=92.7734375%\n"
          ]
        },
        {
          "output_type": "stream",
          "name": "stderr",
          "text": [
            "100%|██████████| 188/188 [00:01<00:00, 121.04it/s]\n"
          ]
        },
        {
          "output_type": "stream",
          "name": "stdout",
          "text": [
            "Epoch 17: Train Loss=0.026885044065416218 Validation Accuracy=92.28515625%\n"
          ]
        },
        {
          "output_type": "stream",
          "name": "stderr",
          "text": [
            "100%|██████████| 188/188 [00:01<00:00, 109.72it/s]\n"
          ]
        },
        {
          "output_type": "stream",
          "name": "stdout",
          "text": [
            "Epoch 18: Train Loss=0.011546766455501959 Validation Accuracy=93.75%\n"
          ]
        },
        {
          "output_type": "stream",
          "name": "stderr",
          "text": [
            "100%|██████████| 188/188 [00:02<00:00, 86.56it/s]\n"
          ]
        },
        {
          "output_type": "stream",
          "name": "stdout",
          "text": [
            "Epoch 19: Train Loss=0.017400853382923926 Validation Accuracy=93.26171875%\n"
          ]
        },
        {
          "output_type": "display_data",
          "data": {
            "text/plain": [
              "<Figure size 576x360 with 2 Axes>"
            ],
            "image/png": "[encoded data removed]"
          },
          "metadata": {}
        }
      ],
      "source": [
        "model = MLP()\n",
        "model.to(device)\n",
        "mlp_mnist_results = train_nn(model, mnist_train, mnist_test)\n",
        "learning_curve(mlp_mnist_results)"
      ]
    },
    {
      "cell_type": "markdown",
      "metadata": {
        "id": "NBZFbCos6T6d"
      },
      "source": [
        "## CNN Architecture\n",
        "\n"
      ]
    },
    {
      "cell_type": "code",
      "execution_count": null,
      "metadata": {
        "id": "B38slN3C6T6d"
      },
      "outputs": [],
      "source": [
        "class CNN(nn.Module):\n",
        "    def __init__(self, in_channels=1, out_channels=10, image_size=28):\n",
        "        super(CNN, self).__init__()\n",
        "\n",
        "        self.conv1 = nn.Sequential(         \n",
        "            nn.Conv2d(in_channels, 16, 5, 1, 2),                              \n",
        "            nn.ReLU(),                      \n",
        "            nn.MaxPool2d(kernel_size=2),    \n",
        "        )\n",
        "        \n",
        "        self.conv2 = nn.Sequential(         \n",
        "            nn.Conv2d(16, 32, 5, 1, 2),     \n",
        "            nn.ReLU(),                      \n",
        "            nn.AdaptiveMaxPool2d((1, 1)),                \n",
        "        )\n",
        "        self.out = nn.Linear(32, out_channels)\n",
        "        \n",
        "    def forward(self, x):\n",
        "        x = self.conv1(x)\n",
        "        x = self.conv2(x) \n",
        "        x = x.view(x.size(0), -1)       \n",
        "        output = self.out(x)\n",
        "        return output\n"
      ]
    },
    {
      "cell_type": "markdown",
      "metadata": {
        "id": "1cPqVmC_6T6e"
      },
      "source": [
        "## Train the CNN"
      ]
    },
    {
      "cell_type": "code",
      "execution_count": null,
      "metadata": {
        "id": "MFJXSxFQ6T6e",
        "colab": {
          "base_uri": "https://localhost:8080/",
          "height": 1000
        },
        "outputId": "8d0ce801-c398-4d2a-cd7a-1f19a016badf"
      },
      "outputs": [
        {
          "output_type": "stream",
          "name": "stderr",
          "text": [
            "100%|██████████| 188/188 [00:02<00:00, 66.43it/s]\n"
          ]
        },
        {
          "output_type": "stream",
          "name": "stdout",
          "text": [
            "Epoch 0: Train Loss=1.5056666985471199 Validation Accuracy=87.01171875%\n"
          ]
        },
        {
          "output_type": "stream",
          "name": "stderr",
          "text": [
            "100%|██████████| 188/188 [00:03<00:00, 53.88it/s]\n"
          ]
        },
        {
          "output_type": "stream",
          "name": "stdout",
          "text": [
            "Epoch 1: Train Loss=0.3878810287791782 Validation Accuracy=92.1875%\n"
          ]
        },
        {
          "output_type": "stream",
          "name": "stderr",
          "text": [
            "100%|██████████| 188/188 [00:01<00:00, 126.52it/s]\n"
          ]
        },
        {
          "output_type": "stream",
          "name": "stdout",
          "text": [
            "Epoch 2: Train Loss=0.21990018044368714 Validation Accuracy=93.5546875%\n"
          ]
        },
        {
          "output_type": "stream",
          "name": "stderr",
          "text": [
            "100%|██████████| 188/188 [00:01<00:00, 129.52it/s]\n"
          ]
        },
        {
          "output_type": "stream",
          "name": "stdout",
          "text": [
            "Epoch 3: Train Loss=0.17394715180406314 Validation Accuracy=94.04296875%\n"
          ]
        },
        {
          "output_type": "stream",
          "name": "stderr",
          "text": [
            "100%|██████████| 188/188 [00:01<00:00, 122.98it/s]\n"
          ]
        },
        {
          "output_type": "stream",
          "name": "stdout",
          "text": [
            "Epoch 4: Train Loss=0.1378369411714063 Validation Accuracy=93.45703125%\n"
          ]
        },
        {
          "output_type": "stream",
          "name": "stderr",
          "text": [
            "100%|██████████| 188/188 [00:01<00:00, 124.73it/s]\n"
          ]
        },
        {
          "output_type": "stream",
          "name": "stdout",
          "text": [
            "Epoch 5: Train Loss=0.11896105080737934 Validation Accuracy=94.921875%\n"
          ]
        },
        {
          "output_type": "stream",
          "name": "stderr",
          "text": [
            "100%|██████████| 188/188 [00:01<00:00, 125.85it/s]\n"
          ]
        },
        {
          "output_type": "stream",
          "name": "stdout",
          "text": [
            "Epoch 6: Train Loss=0.10147105042782469 Validation Accuracy=95.01953125%\n"
          ]
        },
        {
          "output_type": "stream",
          "name": "stderr",
          "text": [
            "100%|██████████| 188/188 [00:01<00:00, 127.52it/s]\n"
          ]
        },
        {
          "output_type": "stream",
          "name": "stdout",
          "text": [
            "Epoch 7: Train Loss=0.0883721773540877 Validation Accuracy=96.09375%\n"
          ]
        },
        {
          "output_type": "stream",
          "name": "stderr",
          "text": [
            "100%|██████████| 188/188 [00:01<00:00, 123.58it/s]\n"
          ]
        },
        {
          "output_type": "stream",
          "name": "stdout",
          "text": [
            "Epoch 8: Train Loss=0.07694513926809134 Validation Accuracy=95.41015625%\n"
          ]
        },
        {
          "output_type": "stream",
          "name": "stderr",
          "text": [
            "100%|██████████| 188/188 [00:01<00:00, 127.38it/s]\n"
          ]
        },
        {
          "output_type": "stream",
          "name": "stdout",
          "text": [
            "Epoch 9: Train Loss=0.07068491390592029 Validation Accuracy=95.99609375%\n"
          ]
        },
        {
          "output_type": "stream",
          "name": "stderr",
          "text": [
            "100%|██████████| 188/188 [00:01<00:00, 127.82it/s]\n"
          ]
        },
        {
          "output_type": "stream",
          "name": "stdout",
          "text": [
            "Epoch 10: Train Loss=0.06250969046284259 Validation Accuracy=96.19140625%\n"
          ]
        },
        {
          "output_type": "stream",
          "name": "stderr",
          "text": [
            "100%|██████████| 188/188 [00:01<00:00, 126.20it/s]\n"
          ]
        },
        {
          "output_type": "stream",
          "name": "stdout",
          "text": [
            "Epoch 11: Train Loss=0.055246218881952476 Validation Accuracy=95.80078125%\n"
          ]
        },
        {
          "output_type": "stream",
          "name": "stderr",
          "text": [
            "100%|██████████| 188/188 [00:01<00:00, 126.63it/s]\n"
          ]
        },
        {
          "output_type": "stream",
          "name": "stdout",
          "text": [
            "Epoch 12: Train Loss=0.05123571324836607 Validation Accuracy=95.8984375%\n"
          ]
        },
        {
          "output_type": "stream",
          "name": "stderr",
          "text": [
            "100%|██████████| 188/188 [00:01<00:00, 125.69it/s]\n"
          ]
        },
        {
          "output_type": "stream",
          "name": "stdout",
          "text": [
            "Epoch 13: Train Loss=0.043922944096933786 Validation Accuracy=96.2890625%\n"
          ]
        },
        {
          "output_type": "stream",
          "name": "stderr",
          "text": [
            "100%|██████████| 188/188 [00:01<00:00, 126.31it/s]\n"
          ]
        },
        {
          "output_type": "stream",
          "name": "stdout",
          "text": [
            "Epoch 14: Train Loss=0.040032928375369196 Validation Accuracy=96.484375%\n"
          ]
        },
        {
          "output_type": "stream",
          "name": "stderr",
          "text": [
            "100%|██████████| 188/188 [00:01<00:00, 126.94it/s]\n"
          ]
        },
        {
          "output_type": "stream",
          "name": "stdout",
          "text": [
            "Epoch 15: Train Loss=0.03586854255760123 Validation Accuracy=95.8984375%\n"
          ]
        },
        {
          "output_type": "stream",
          "name": "stderr",
          "text": [
            "100%|██████████| 188/188 [00:01<00:00, 123.76it/s]\n"
          ]
        },
        {
          "output_type": "stream",
          "name": "stdout",
          "text": [
            "Epoch 16: Train Loss=0.0314151043604139 Validation Accuracy=96.38671875%\n"
          ]
        },
        {
          "output_type": "stream",
          "name": "stderr",
          "text": [
            "100%|██████████| 188/188 [00:01<00:00, 128.46it/s]\n"
          ]
        },
        {
          "output_type": "stream",
          "name": "stdout",
          "text": [
            "Epoch 17: Train Loss=0.03145791739736674 Validation Accuracy=96.6796875%\n"
          ]
        },
        {
          "output_type": "stream",
          "name": "stderr",
          "text": [
            "100%|██████████| 188/188 [00:01<00:00, 119.09it/s]\n"
          ]
        },
        {
          "output_type": "stream",
          "name": "stdout",
          "text": [
            "Epoch 18: Train Loss=0.030976281573086867 Validation Accuracy=96.09375%\n"
          ]
        },
        {
          "output_type": "stream",
          "name": "stderr",
          "text": [
            "100%|██████████| 188/188 [00:01<00:00, 125.85it/s]\n"
          ]
        },
        {
          "output_type": "stream",
          "name": "stdout",
          "text": [
            "Epoch 19: Train Loss=0.02480509655496633 Validation Accuracy=96.97265625%\n"
          ]
        },
        {
          "output_type": "display_data",
          "data": {
            "text/plain": [
              "<Figure size 576x360 with 2 Axes>"
            ],
            "image/png": "[encoded data removed]"
          },
          "metadata": {}
        }
      ],
      "source": [
        "model = CNN()\n",
        "model.to(device)\n",
        "cnn_mnist_results = train_nn(model, mnist_train, mnist_test)\n",
        "learning_curve(cnn_mnist_results)"
      ]
    },
    {
      "cell_type": "markdown",
      "metadata": {
        "id": "nJYaQd8R6T6e"
      },
      "source": [
        "## GNN Architecture\n",
        "\n",
        "Graph neural networks subscribe to a slightly different API from [pytorch geometric](https://pytorch-geometric.readthedocs.io/en/latest/). In addition to the input features of shape [N, in_channels] for N nodes and `in_channels` node features per node, they also expect an edge_index tensor of shape [2, E] for E edges that specifies the *structure* of the graph.\n",
        "\n",
        "Instead of sliding window convolutions used in the CNN, Graph neural networks use graph convolutions implemented via message passing. There are many ways to aggregate and normalize messages during graph convolutions. [Graph Convolutional Networks](https://arxiv.org/abs/1609.02907) (GCN). \n",
        "\n",
        "GCNs normalize the messages by *both* the degrees from the source node and target node. More specifically, GCN message passing has the following form.\n",
        "\n",
        "$$x_i^{(k)} = \\sum_{j\\in{\\mathcal{N}(i)\\cup{\\{i\\}}}}C\\Big(W\\cdot{x_j^{(k-1)}}\\Big)+b$$\n",
        "\n",
        "\n",
        "$$C=\\frac{1}{\\sqrt{\\text{deg}(i)}\\cdot\\sqrt{\\text{deg}(j)}}$$\n",
        "\n",
        "\n"
      ]
    },
    {
      "cell_type": "code",
      "execution_count": null,
      "metadata": {
        "id": "Z3hpbIsO6T6e"
      },
      "outputs": [],
      "source": [
        "\n",
        "class GCNConv(MessagePassing):\n",
        "    def __init__(self, in_channels, out_channels):\n",
        "        super().__init__(aggr='add')\n",
        "        self.lin = nn.Linear(in_channels, out_channels, bias=False)\n",
        "        self.bias = nn.Parameter(torch.Tensor(out_channels))\n",
        "\n",
        "        self.reset_parameters()\n",
        "\n",
        "    def reset_parameters(self):\n",
        "        self.lin.reset_parameters()\n",
        "        self.bias.data.zero_()\n",
        "\n",
        "    def forward(self, x, edge_index):\n",
        "        # x has shape [N, in_channels]\n",
        "        # edge_index has shape [2, E]\n",
        "\n",
        "        #  Add self-loops to the adjacency matrix.\n",
        "        edge_index, _ = add_self_loops(edge_index, num_nodes=x.size(0))\n",
        "        # print('done')\n",
        "        #  Linearly transform node feature matrix.\n",
        "        # print(x.shape, flush=True)\n",
        "        x = self.lin(x)\n",
        "        \n",
        "\n",
        "        # Compute normalization.\n",
        "        row, col = edge_index\n",
        "        deg = degree(col, x.size(0), dtype=x.dtype)\n",
        "        deg_inv_sqrt = deg.pow(-0.5)\n",
        "        deg_inv_sqrt[deg_inv_sqrt == float('inf')] = 0\n",
        "        norm = deg_inv_sqrt[row] * deg_inv_sqrt[col]\n",
        "\n",
        "        # Start propagating messages.\n",
        "        out = self.propagate(edge_index, x=x, norm=norm)\n",
        "\n",
        "        # Apply a final bias vector.\n",
        "        out += self.bias\n",
        "\n",
        "        return out\n",
        "\n",
        "    def message(self, x_j, norm):\n",
        "        # x_j has shape [E, out_channels]\n",
        "\n",
        "        # Normalize node features.\n",
        "        return norm.view(-1, 1) * x_j\n",
        "\n",
        "\n",
        "\n",
        "class GNN(torch.nn.Module):\n",
        "    def __init__(self, in_channels=3, out_channels = 10):\n",
        "        super(GNN, self).__init__()\n",
        "        self.conv1 = GCNConv(in_channels, 16)\n",
        "        \n",
        "        self.conv2 = GCNConv(16, 32)\n",
        "        self.conv3 = GCNConv(32, 48)\n",
        "        self.conv4 = GCNConv(48, 64)\n",
        "        self.linear1 = torch.nn.Linear(64,64)\n",
        "        self.linear2 = torch.nn.Linear(64,out_channels)\n",
        "\n",
        "    def forward(self, data):\n",
        "        # Graph convolutional layers\n",
        "        x, edge_index = data.x, data.edge_index\n",
        "        # print('first', flush=True)\n",
        "        x = F.relu(self.conv1(x, edge_index))\n",
        "        x = F.relu(self.conv2(x, edge_index))\n",
        "        x = F.relu(self.conv3(x, edge_index))\n",
        "        x = F.relu(self.conv4(x, edge_index))\n",
        "\n",
        "        out, _ = scatter_max(x, data.batch, dim = 0)\n",
        "\n",
        "        # linear\n",
        "        data = F.relu(self.linear1(out))\n",
        "        data = self.linear2(data)\n",
        "        return data"
      ]
    },
    {
      "cell_type": "markdown",
      "metadata": {
        "id": "LAGHX40F6T6e"
      },
      "source": [
        "## GNN Utilities"
      ]
    },
    {
      "cell_type": "code",
      "execution_count": null,
      "metadata": {
        "id": "TmAKeOqm6T6e"
      },
      "outputs": [],
      "source": [
        "def tograph(dataset, edge_matrix_fn, position_encoding=False):\n",
        "    new_dataset = []\n",
        "    for i in tqdm(range(len(dataset))):\n",
        "        adjacency_matrix = edge_matrix_fn(dataset[i][0])\n",
        "        x = torch.flatten(dataset[i][0])\n",
        "        active, = np.where(np.sum(adjacency_matrix, axis=1)>0)\n",
        "        if(position_encoding):\n",
        "            positions1 = torch.flatten(torch.tensor((np.repeat(np.expand_dims(np.arange(28)/28.0, axis=0), 28 , axis=0)))).type(torch.FloatTensor)\n",
        "            positions2 = torch.flatten(torch.tensor((np.repeat(np.expand_dims(np.arange(28)/28.0, axis=0), 28, axis=0).T))).type(torch.FloatTensor)\n",
        "            stacked = torch.cat([torch.unsqueeze(x, 1), torch.unsqueeze(positions1, 1), torch.unsqueeze(positions2, 1)], dim=1)\n",
        "        else:\n",
        "            stacked = torch.cat([torch.unsqueeze(x, 1)], dim=1)\n",
        "\n",
        "        x = Variable(stacked[active, :])\n",
        "        edge_matrix = torch.tensor(adjacency_matrix[active, :][:, active])\n",
        "        edge_index = edge_matrix.nonzero().t().contiguous()\n",
        "        y = Variable(torch.tensor([dataset[i][1]]))\n",
        "        new_dataset.append(Data(x, edge_index=edge_index, y=y))\n",
        "    return new_dataset\n",
        "    \n",
        "    \n",
        "def plot_adjacency_matrix(matrix):\n",
        "    G = nx.Graph()\n",
        "    nodes = []\n",
        "    pos = {}\n",
        "    for x1 in range(int(math.sqrt(matrix.shape[0]))):\n",
        "        for x2 in range(int(math.sqrt(matrix.shape[0]))):\n",
        "            node = len(nodes)\n",
        "            pos[node] = (x2, 28-x1)\n",
        "            nodes.append(node)\n",
        "    edges = []\n",
        "    for node1 in range(len(nodes)):\n",
        "        for node2 in range(len(nodes)):\n",
        "            if(matrix[node1, node2]>0 and node1!=node2):\n",
        "                edges.append((node1, node2))\n",
        "    G.add_nodes_from(nodes)\n",
        "    G.add_edges_from(edges)\n",
        "    plt.figure(figsize=(5, 5))\n",
        "    nx.draw(G, pos, node_size=10, width = [1 for _ in range(len(edges))])"
      ]
    },
    {
      "cell_type": "markdown",
      "metadata": {
        "id": "6KfYaTTJ6T6f"
      },
      "source": [
        "## GNN dataset and training\n",
        "\n",
        "\n"
      ]
    },
    {
      "cell_type": "code",
      "execution_count": null,
      "metadata": {
        "id": "-OIR5VI26T6f",
        "colab": {
          "base_uri": "https://localhost:8080/",
          "height": 463
        },
        "outputId": "c641820f-9145-4bd7-e4cc-d3cf2859bb70"
      },
      "outputs": [
        {
          "output_type": "stream",
          "name": "stderr",
          "text": [
            "100%|██████████| 6000/6000 [00:43<00:00, 137.07it/s]\n",
            "100%|██████████| 1000/1000 [00:06<00:00, 146.78it/s]\n",
            "100%|██████████| 6000/6000 [00:46<00:00, 127.87it/s]\n",
            "100%|██████████| 1000/1000 [00:07<00:00, 137.33it/s]\n"
          ]
        },
        {
          "output_type": "display_data",
          "data": {
            "text/plain": [
              "<Figure size 360x360 with 1 Axes>"
            ],
            "image/png": "[encoded data removed]"
          },
          "metadata": {}
        }
      ],
      "source": [
        "def uniform_edge_matrix(x):\n",
        "    W = 28\n",
        "    grid_matrix = np.zeros((W**2, W**2))\n",
        "    for i in range(W):\n",
        "        for j in range(W):\n",
        "            if(i>=1):\n",
        "                grid_matrix[i*W+j, (i-1)*W+j] = 1\n",
        "            if(i<27):\n",
        "                grid_matrix[i*W+j, (i+1)*W+j] = 1\n",
        "            if(j>=1):\n",
        "                grid_matrix[i*W+j, (i)*W+(j-1)] = 1\n",
        "            if(j<27):\n",
        "                grid_matrix[i*W+j, (i)*W+(j+1)] = 1\n",
        "    return grid_matrix\n",
        "\n",
        "\n",
        "plot_adjacency_matrix(uniform_edge_matrix(mnist_train[0]))\n",
        "\n",
        "mnist_train_uniform = tograph(mnist_train, uniform_edge_matrix, position_encoding=False)\n",
        "mnist_test_uniform = tograph(mnist_test, uniform_edge_matrix, position_encoding=False)\n",
        "\n",
        "mnist_train_uniform_pe = tograph(mnist_train, uniform_edge_matrix, position_encoding=True)\n",
        "mnist_test_uniform_pe = tograph(mnist_test, uniform_edge_matrix, position_encoding=True)"
      ]
    },
    {
      "cell_type": "code",
      "execution_count": null,
      "metadata": {
        "id": "ZX_NrNCa6T6f",
        "colab": {
          "base_uri": "https://localhost:8080/",
          "height": 1000
        },
        "outputId": "dba1ab8a-ccdd-4cbd-cb49-1ff52d369931"
      },
      "outputs": [
        {
          "output_type": "stream",
          "name": "stderr",
          "text": [
            "100%|██████████| 188/188 [00:02<00:00, 86.80it/s]\n"
          ]
        },
        {
          "output_type": "stream",
          "name": "stdout",
          "text": [
            "Epoch 0: Train Loss=2.3007272849691676 Validation Accuracy=9.765625%\n"
          ]
        },
        {
          "output_type": "stream",
          "name": "stderr",
          "text": [
            "100%|██████████| 188/188 [00:01<00:00, 94.80it/s]\n"
          ]
        },
        {
          "output_type": "stream",
          "name": "stdout",
          "text": [
            "Epoch 1: Train Loss=2.3103802719702813 Validation Accuracy=11.1328125%\n"
          ]
        },
        {
          "output_type": "stream",
          "name": "stderr",
          "text": [
            "100%|██████████| 188/188 [00:01<00:00, 94.23it/s]\n"
          ]
        },
        {
          "output_type": "stream",
          "name": "stdout",
          "text": [
            "Epoch 2: Train Loss=2.3073785117538 Validation Accuracy=13.37890625%\n"
          ]
        },
        {
          "output_type": "stream",
          "name": "stderr",
          "text": [
            "100%|██████████| 188/188 [00:01<00:00, 95.25it/s]\n"
          ]
        },
        {
          "output_type": "stream",
          "name": "stdout",
          "text": [
            "Epoch 3: Train Loss=2.3002587987024263 Validation Accuracy=12.59765625%\n"
          ]
        },
        {
          "output_type": "stream",
          "name": "stderr",
          "text": [
            "100%|██████████| 188/188 [00:01<00:00, 95.62it/s]\n"
          ]
        },
        {
          "output_type": "stream",
          "name": "stdout",
          "text": [
            "Epoch 4: Train Loss=2.289709374854454 Validation Accuracy=16.9921875%\n"
          ]
        },
        {
          "output_type": "stream",
          "name": "stderr",
          "text": [
            "100%|██████████| 188/188 [00:01<00:00, 96.17it/s]\n"
          ]
        },
        {
          "output_type": "stream",
          "name": "stdout",
          "text": [
            "Epoch 5: Train Loss=2.277761146349843 Validation Accuracy=16.69921875%\n"
          ]
        },
        {
          "output_type": "stream",
          "name": "stderr",
          "text": [
            "100%|██████████| 188/188 [00:01<00:00, 94.81it/s]\n"
          ]
        },
        {
          "output_type": "stream",
          "name": "stdout",
          "text": [
            "Epoch 6: Train Loss=2.263320805781927 Validation Accuracy=17.7734375%\n"
          ]
        },
        {
          "output_type": "stream",
          "name": "stderr",
          "text": [
            "100%|██████████| 188/188 [00:01<00:00, 95.49it/s]\n"
          ]
        },
        {
          "output_type": "stream",
          "name": "stdout",
          "text": [
            "Epoch 7: Train Loss=2.2237614792826004 Validation Accuracy=21.484375%\n"
          ]
        },
        {
          "output_type": "stream",
          "name": "stderr",
          "text": [
            "100%|██████████| 188/188 [00:01<00:00, 96.32it/s]\n"
          ]
        },
        {
          "output_type": "stream",
          "name": "stdout",
          "text": [
            "Epoch 8: Train Loss=2.1474300923088774 Validation Accuracy=21.58203125%\n"
          ]
        },
        {
          "output_type": "stream",
          "name": "stderr",
          "text": [
            "100%|██████████| 188/188 [00:01<00:00, 96.20it/s]\n"
          ]
        },
        {
          "output_type": "stream",
          "name": "stdout",
          "text": [
            "Epoch 9: Train Loss=2.081784011995401 Validation Accuracy=25.29296875%\n"
          ]
        },
        {
          "output_type": "stream",
          "name": "stderr",
          "text": [
            "100%|██████████| 188/188 [00:01<00:00, 95.03it/s]\n"
          ]
        },
        {
          "output_type": "stream",
          "name": "stdout",
          "text": [
            "Epoch 10: Train Loss=2.045988686552261 Validation Accuracy=24.21875%\n"
          ]
        },
        {
          "output_type": "stream",
          "name": "stderr",
          "text": [
            "100%|██████████| 188/188 [00:01<00:00, 96.50it/s]\n"
          ]
        },
        {
          "output_type": "stream",
          "name": "stdout",
          "text": [
            "Epoch 11: Train Loss=2.02457809959569 Validation Accuracy=22.16796875%\n"
          ]
        },
        {
          "output_type": "stream",
          "name": "stderr",
          "text": [
            "100%|██████████| 188/188 [00:01<00:00, 96.12it/s]\n"
          ]
        },
        {
          "output_type": "stream",
          "name": "stdout",
          "text": [
            "Epoch 12: Train Loss=2.008140158173184 Validation Accuracy=22.4609375%\n"
          ]
        },
        {
          "output_type": "stream",
          "name": "stderr",
          "text": [
            "100%|██████████| 188/188 [00:01<00:00, 96.77it/s]\n"
          ]
        },
        {
          "output_type": "stream",
          "name": "stdout",
          "text": [
            "Epoch 13: Train Loss=1.9914345675300873 Validation Accuracy=25.68359375%\n"
          ]
        },
        {
          "output_type": "stream",
          "name": "stderr",
          "text": [
            "100%|██████████| 188/188 [00:01<00:00, 96.25it/s]\n"
          ]
        },
        {
          "output_type": "stream",
          "name": "stdout",
          "text": [
            "Epoch 14: Train Loss=1.9795341110893128 Validation Accuracy=25.87890625%\n"
          ]
        },
        {
          "output_type": "stream",
          "name": "stderr",
          "text": [
            "100%|██████████| 188/188 [00:01<00:00, 95.24it/s]\n"
          ]
        },
        {
          "output_type": "stream",
          "name": "stdout",
          "text": [
            "Epoch 15: Train Loss=1.972717813152301 Validation Accuracy=25.390625%\n"
          ]
        },
        {
          "output_type": "stream",
          "name": "stderr",
          "text": [
            "100%|██████████| 188/188 [00:01<00:00, 94.80it/s]\n"
          ]
        },
        {
          "output_type": "stream",
          "name": "stdout",
          "text": [
            "Epoch 16: Train Loss=1.9661535604387852 Validation Accuracy=22.8515625%\n"
          ]
        },
        {
          "output_type": "stream",
          "name": "stderr",
          "text": [
            "100%|██████████| 188/188 [00:02<00:00, 92.99it/s]\n"
          ]
        },
        {
          "output_type": "stream",
          "name": "stdout",
          "text": [
            "Epoch 17: Train Loss=1.9572125923673684 Validation Accuracy=25.5859375%\n"
          ]
        },
        {
          "output_type": "stream",
          "name": "stderr",
          "text": [
            "100%|██████████| 188/188 [00:01<00:00, 95.28it/s]\n"
          ]
        },
        {
          "output_type": "stream",
          "name": "stdout",
          "text": [
            "Epoch 18: Train Loss=1.9473706123740326 Validation Accuracy=26.26953125%\n"
          ]
        },
        {
          "output_type": "stream",
          "name": "stderr",
          "text": [
            "100%|██████████| 188/188 [00:01<00:00, 96.13it/s]\n"
          ]
        },
        {
          "output_type": "stream",
          "name": "stdout",
          "text": [
            "Epoch 19: Train Loss=1.9424956832147187 Validation Accuracy=27.44140625%\n"
          ]
        },
        {
          "output_type": "stream",
          "name": "stderr",
          "text": [
            "100%|██████████| 188/188 [00:02<00:00, 85.45it/s]\n"
          ]
        },
        {
          "output_type": "stream",
          "name": "stdout",
          "text": [
            "Epoch 0: Train Loss=2.2998465261560805 Validation Accuracy=12.59765625%\n"
          ]
        },
        {
          "output_type": "stream",
          "name": "stderr",
          "text": [
            "100%|██████████| 188/188 [00:02<00:00, 87.41it/s]\n"
          ]
        },
        {
          "output_type": "stream",
          "name": "stdout",
          "text": [
            "Epoch 1: Train Loss=2.2097055880110856 Validation Accuracy=34.5703125%\n"
          ]
        },
        {
          "output_type": "stream",
          "name": "stderr",
          "text": [
            "100%|██████████| 188/188 [00:02<00:00, 88.84it/s]\n"
          ]
        },
        {
          "output_type": "stream",
          "name": "stdout",
          "text": [
            "Epoch 2: Train Loss=1.669006149802585 Validation Accuracy=45.703125%\n"
          ]
        },
        {
          "output_type": "stream",
          "name": "stderr",
          "text": [
            "100%|██████████| 188/188 [00:02<00:00, 87.74it/s]\n"
          ]
        },
        {
          "output_type": "stream",
          "name": "stdout",
          "text": [
            "Epoch 3: Train Loss=1.353154028248459 Validation Accuracy=55.17578125%\n"
          ]
        },
        {
          "output_type": "stream",
          "name": "stderr",
          "text": [
            "100%|██████████| 188/188 [00:02<00:00, 89.12it/s]\n"
          ]
        },
        {
          "output_type": "stream",
          "name": "stdout",
          "text": [
            "Epoch 4: Train Loss=1.1701630421817286 Validation Accuracy=55.078125%\n"
          ]
        },
        {
          "output_type": "stream",
          "name": "stderr",
          "text": [
            "100%|██████████| 188/188 [00:02<00:00, 88.92it/s]\n"
          ]
        },
        {
          "output_type": "stream",
          "name": "stdout",
          "text": [
            "Epoch 5: Train Loss=1.071423085482165 Validation Accuracy=61.03515625%\n"
          ]
        },
        {
          "output_type": "stream",
          "name": "stderr",
          "text": [
            "100%|██████████| 188/188 [00:02<00:00, 88.50it/s]\n"
          ]
        },
        {
          "output_type": "stream",
          "name": "stdout",
          "text": [
            "Epoch 6: Train Loss=0.9936983266829559 Validation Accuracy=62.3046875%\n"
          ]
        },
        {
          "output_type": "stream",
          "name": "stderr",
          "text": [
            "100%|██████████| 188/188 [00:02<00:00, 89.40it/s]\n"
          ]
        },
        {
          "output_type": "stream",
          "name": "stdout",
          "text": [
            "Epoch 7: Train Loss=0.9516225271610499 Validation Accuracy=63.8671875%\n"
          ]
        },
        {
          "output_type": "stream",
          "name": "stderr",
          "text": [
            "100%|██████████| 188/188 [00:02<00:00, 89.20it/s]\n"
          ]
        },
        {
          "output_type": "stream",
          "name": "stdout",
          "text": [
            "Epoch 8: Train Loss=0.9017740889713634 Validation Accuracy=65.8203125%\n"
          ]
        },
        {
          "output_type": "stream",
          "name": "stderr",
          "text": [
            "100%|██████████| 188/188 [00:02<00:00, 89.15it/s]\n"
          ]
        },
        {
          "output_type": "stream",
          "name": "stdout",
          "text": [
            "Epoch 9: Train Loss=0.874031951983519 Validation Accuracy=66.015625%\n"
          ]
        },
        {
          "output_type": "stream",
          "name": "stderr",
          "text": [
            "100%|██████████| 188/188 [00:02<00:00, 88.93it/s]\n"
          ]
        },
        {
          "output_type": "stream",
          "name": "stdout",
          "text": [
            "Epoch 10: Train Loss=0.8547814086870085 Validation Accuracy=63.4765625%\n"
          ]
        },
        {
          "output_type": "stream",
          "name": "stderr",
          "text": [
            "100%|██████████| 188/188 [00:02<00:00, 88.80it/s]\n"
          ]
        },
        {
          "output_type": "stream",
          "name": "stdout",
          "text": [
            "Epoch 11: Train Loss=0.8268842853530691 Validation Accuracy=67.96875%\n"
          ]
        },
        {
          "output_type": "stream",
          "name": "stderr",
          "text": [
            "100%|██████████| 188/188 [00:02<00:00, 90.20it/s]\n"
          ]
        },
        {
          "output_type": "stream",
          "name": "stdout",
          "text": [
            "Epoch 12: Train Loss=0.8058283518484216 Validation Accuracy=62.98828125%\n"
          ]
        },
        {
          "output_type": "stream",
          "name": "stderr",
          "text": [
            "100%|██████████| 188/188 [00:02<00:00, 87.40it/s]\n"
          ]
        },
        {
          "output_type": "stream",
          "name": "stdout",
          "text": [
            "Epoch 13: Train Loss=0.7999570140869963 Validation Accuracy=70.1171875%\n"
          ]
        },
        {
          "output_type": "stream",
          "name": "stderr",
          "text": [
            "100%|██████████| 188/188 [00:02<00:00, 87.07it/s]\n"
          ]
        },
        {
          "output_type": "stream",
          "name": "stdout",
          "text": [
            "Epoch 14: Train Loss=0.7745731229211589 Validation Accuracy=68.65234375%\n"
          ]
        },
        {
          "output_type": "stream",
          "name": "stderr",
          "text": [
            "100%|██████████| 188/188 [00:02<00:00, 88.85it/s]\n"
          ]
        },
        {
          "output_type": "stream",
          "name": "stdout",
          "text": [
            "Epoch 15: Train Loss=0.753632029666242 Validation Accuracy=69.43359375%\n"
          ]
        },
        {
          "output_type": "stream",
          "name": "stderr",
          "text": [
            "100%|██████████| 188/188 [00:02<00:00, 89.45it/s]\n"
          ]
        },
        {
          "output_type": "stream",
          "name": "stdout",
          "text": [
            "Epoch 16: Train Loss=0.7429423073334355 Validation Accuracy=70.21484375%\n"
          ]
        },
        {
          "output_type": "stream",
          "name": "stderr",
          "text": [
            "100%|██████████| 188/188 [00:02<00:00, 88.57it/s]\n"
          ]
        },
        {
          "output_type": "stream",
          "name": "stdout",
          "text": [
            "Epoch 17: Train Loss=0.7175873457959584 Validation Accuracy=72.265625%\n"
          ]
        },
        {
          "output_type": "stream",
          "name": "stderr",
          "text": [
            "100%|██████████| 188/188 [00:02<00:00, 88.46it/s]\n"
          ]
        },
        {
          "output_type": "stream",
          "name": "stdout",
          "text": [
            "Epoch 18: Train Loss=0.7048289669318673 Validation Accuracy=71.97265625%\n"
          ]
        },
        {
          "output_type": "stream",
          "name": "stderr",
          "text": [
            "100%|██████████| 188/188 [00:02<00:00, 88.67it/s]\n"
          ]
        },
        {
          "output_type": "stream",
          "name": "stdout",
          "text": [
            "Epoch 19: Train Loss=0.6925074787283428 Validation Accuracy=73.828125%\n"
          ]
        },
        {
          "output_type": "display_data",
          "data": {
            "text/plain": [
              "<Figure size 576x360 with 2 Axes>"
            ],
            "image/png": "[encoded data removed]"
          },
          "metadata": {}
        },
        {
          "output_type": "display_data",
          "data": {
            "text/plain": [
              "<Figure size 576x360 with 2 Axes>"
            ],
            "image/png": "[encoded data removed]"
          },
          "metadata": {}
        }
      ],
      "source": [
        "# Train the GNN\n",
        "model = GNN(in_channels=1)\n",
        "model.to(device)\n",
        "gnn1_mnist_results = train_nn(model, mnist_train_uniform, mnist_test_uniform, graph=True)\n",
        "learning_curve(gnn1_mnist_results)\n",
        "\n",
        "model = GNN(in_channels=3)\n",
        "model.to(device)\n",
        "gnn2_mnist_results = train_nn(model, mnist_train_uniform_pe, mnist_test_uniform_pe, graph=True)\n",
        "learning_curve(gnn2_mnist_results)"
      ]
    },
    {
      "cell_type": "code",
      "source": [
        "mnist_train[0][0].shape"
      ],
      "metadata": {
        "colab": {
          "base_uri": "https://localhost:8080/"
        },
        "id": "Vud4fmXeNDvu",
        "outputId": "b28afc60-b7a1-4f33-b230-8b9a030c896f"
      },
      "execution_count": null,
      "outputs": [
        {
          "output_type": "execute_result",
          "data": {
            "text/plain": [
              "torch.Size([1, 28, 28])"
            ]
          },
          "metadata": {},
          "execution_count": 34
        }
      ]
    },
    {
      "cell_type": "code",
      "execution_count": null,
      "metadata": {
        "id": "MJiuE1N-6T6f",
        "colab": {
          "base_uri": "https://localhost:8080/",
          "height": 391
        },
        "outputId": "14894c3a-02c4-487a-a567-6bd2cea6aa8c"
      },
      "outputs": [
        {
          "output_type": "display_data",
          "data": {
            "text/plain": [
              "<Figure size 360x360 with 1 Axes>"
            ],
            "image/png": "[encoded data removed]"
          },
          "metadata": {}
        }
      ],
      "source": [
        "def structured_edge_matrix(x):\n",
        "    # FIXME: Create an adjacency matrix for a structured grid\n",
        "\n",
        "    W = x.shape[1]\n",
        "    \n",
        "    grid_matrix = np.zeros((W*W, W*W))\n",
        "    for i in range(W):\n",
        "        for j in range(W):\n",
        "            if(i>=1) and x[0][i,j]>0.4 and x[0][(i-1),j] >0.4:\n",
        "                grid_matrix[i*W+j, (i-1)*W+j] = 1\n",
        "            if i>=2 and x[0][i,j]>0.4 and x[0][(i-2),j] >0.4:\n",
        "                grid_matrix[i*W+j, (i-2)*W+j] = 1\n",
        "            if(i<W-1) and x[0][i,j]>0.4 and x[0][(i+1),j] >0.4:\n",
        "                grid_matrix[i*W+j, (i+1)*W+j] = 1\n",
        "            if(i<W-2) and x[0][i,j]>0.4 and x[0][(i+2),j] >0.4:\n",
        "                grid_matrix[i*W+j, (i+2)*W+j] = 1\n",
        "  \n",
        "            if(j>=1)and x[0][i,j]>0.4 and x[0][(i),(j-1)] >0.4:\n",
        "                grid_matrix[i*W+j, (i)*W+(j-1)] = 1\n",
        "            if(j<W-1) and x[0][i,j]>0.4 and x[0][(i),(j+1)] >0.4:\n",
        "                grid_matrix[i*W+j, (i)*W+(j+1)] = 1\n",
        "            if(j>=2) and x[0][i,j]>0.4 and x[0][(i),(j-2)] >0.4:\n",
        "                grid_matrix[i*W+j, (i)*W+(j-2)] = 1\n",
        "            if(j<W-2) and x[0][i,j]>0.4 and x[0][(i),(j+2)] >0.4:\n",
        "                grid_matrix[i*W+j, (i)*W+(j+2)] = 1\n",
        "    return grid_matrix\n",
        "\n",
        "\n",
        "\n",
        "\n",
        "# Verify your implementation before converting the entire dataset.\n",
        "plot_adjacency_matrix(structured_edge_matrix(mnist_train[0][0]))\n",
        "\n"
      ]
    },
    {
      "cell_type": "code",
      "source": [
        "# These may take some time, but it shouldn't be more than a few minutes.\n",
        "mnist_train_structured = tograph(mnist_train, structured_edge_matrix, position_encoding=False)\n",
        "mnist_test_structured = tograph(mnist_test, structured_edge_matrix, position_encoding=False)\n",
        "\n",
        "mnist_train_structured_pe = tograph(mnist_train, structured_edge_matrix, position_encoding=True)\n",
        "mnist_test_structured_pe = tograph(mnist_test, structured_edge_matrix, position_encoding=True)"
      ],
      "metadata": {
        "colab": {
          "base_uri": "https://localhost:8080/"
        },
        "id": "g9uaFiFcIfwv",
        "outputId": "471f4c1c-68c7-457b-d998-d6ab85319875"
      },
      "execution_count": null,
      "outputs": [
        {
          "output_type": "stream",
          "name": "stderr",
          "text": [
            "100%|██████████| 6000/6000 [07:59<00:00, 12.52it/s]\n",
            "100%|██████████| 1000/1000 [01:19<00:00, 12.60it/s]\n",
            "100%|██████████| 6000/6000 [07:56<00:00, 12.59it/s]\n",
            "100%|██████████| 1000/1000 [01:19<00:00, 12.64it/s]\n"
          ]
        }
      ]
    },
    {
      "cell_type": "code",
      "execution_count": null,
      "metadata": {
        "id": "CW8iiKxv6T6f",
        "colab": {
          "base_uri": "https://localhost:8080/",
          "height": 1000
        },
        "outputId": "77f574e8-dc98-4dfb-af12-40e5582111cd"
      },
      "outputs": [
        {
          "output_type": "stream",
          "name": "stderr",
          "text": [
            "100%|██████████| 188/188 [00:01<00:00, 127.64it/s]\n"
          ]
        },
        {
          "output_type": "stream",
          "name": "stdout",
          "text": [
            "Epoch 0: Train Loss=2.3025671142212887 Validation Accuracy=9.66796875%\n"
          ]
        },
        {
          "output_type": "stream",
          "name": "stderr",
          "text": [
            "100%|██████████| 188/188 [00:01<00:00, 127.73it/s]\n"
          ]
        },
        {
          "output_type": "stream",
          "name": "stdout",
          "text": [
            "Epoch 1: Train Loss=2.3132664414890862 Validation Accuracy=9.66796875%\n"
          ]
        },
        {
          "output_type": "stream",
          "name": "stderr",
          "text": [
            "100%|██████████| 188/188 [00:01<00:00, 129.80it/s]\n"
          ]
        },
        {
          "output_type": "stream",
          "name": "stdout",
          "text": [
            "Epoch 2: Train Loss=2.3131172513563625 Validation Accuracy=12.59765625%\n"
          ]
        },
        {
          "output_type": "stream",
          "name": "stderr",
          "text": [
            "100%|██████████| 188/188 [00:01<00:00, 128.99it/s]\n"
          ]
        },
        {
          "output_type": "stream",
          "name": "stdout",
          "text": [
            "Epoch 3: Train Loss=2.3132061691231334 Validation Accuracy=13.0859375%\n"
          ]
        },
        {
          "output_type": "stream",
          "name": "stderr",
          "text": [
            "100%|██████████| 188/188 [00:01<00:00, 131.51it/s]\n"
          ]
        },
        {
          "output_type": "stream",
          "name": "stdout",
          "text": [
            "Epoch 4: Train Loss=2.3127323831497075 Validation Accuracy=12.59765625%\n"
          ]
        },
        {
          "output_type": "stream",
          "name": "stderr",
          "text": [
            "100%|██████████| 188/188 [00:01<00:00, 131.36it/s]\n"
          ]
        },
        {
          "output_type": "stream",
          "name": "stdout",
          "text": [
            "Epoch 5: Train Loss=2.312836805157933 Validation Accuracy=12.59765625%\n"
          ]
        },
        {
          "output_type": "stream",
          "name": "stderr",
          "text": [
            "100%|██████████| 188/188 [00:01<00:00, 131.22it/s]\n"
          ]
        },
        {
          "output_type": "stream",
          "name": "stdout",
          "text": [
            "Epoch 6: Train Loss=2.3126519039123883 Validation Accuracy=12.59765625%\n"
          ]
        },
        {
          "output_type": "stream",
          "name": "stderr",
          "text": [
            "100%|██████████| 188/188 [00:01<00:00, 128.25it/s]\n"
          ]
        },
        {
          "output_type": "stream",
          "name": "stdout",
          "text": [
            "Epoch 7: Train Loss=2.3127991419284744 Validation Accuracy=12.59765625%\n"
          ]
        },
        {
          "output_type": "stream",
          "name": "stderr",
          "text": [
            "100%|██████████| 188/188 [00:01<00:00, 130.35it/s]\n"
          ]
        },
        {
          "output_type": "stream",
          "name": "stdout",
          "text": [
            "Epoch 8: Train Loss=2.312593012023717 Validation Accuracy=12.59765625%\n"
          ]
        },
        {
          "output_type": "stream",
          "name": "stderr",
          "text": [
            "100%|██████████| 188/188 [00:01<00:00, 131.02it/s]\n"
          ]
        },
        {
          "output_type": "stream",
          "name": "stdout",
          "text": [
            "Epoch 9: Train Loss=2.3123822442023085 Validation Accuracy=12.59765625%\n"
          ]
        },
        {
          "output_type": "stream",
          "name": "stderr",
          "text": [
            "100%|██████████| 188/188 [00:01<00:00, 129.00it/s]\n"
          ]
        },
        {
          "output_type": "stream",
          "name": "stdout",
          "text": [
            "Epoch 10: Train Loss=2.3123258188638114 Validation Accuracy=12.59765625%\n"
          ]
        },
        {
          "output_type": "stream",
          "name": "stderr",
          "text": [
            "100%|██████████| 188/188 [00:01<00:00, 128.92it/s]\n"
          ]
        },
        {
          "output_type": "stream",
          "name": "stdout",
          "text": [
            "Epoch 11: Train Loss=2.312111382067665 Validation Accuracy=12.59765625%\n"
          ]
        },
        {
          "output_type": "stream",
          "name": "stderr",
          "text": [
            "100%|██████████| 188/188 [00:01<00:00, 129.29it/s]\n"
          ]
        },
        {
          "output_type": "stream",
          "name": "stdout",
          "text": [
            "Epoch 12: Train Loss=2.3122414312695594 Validation Accuracy=12.59765625%\n"
          ]
        },
        {
          "output_type": "stream",
          "name": "stderr",
          "text": [
            "100%|██████████| 188/188 [00:01<00:00, 128.40it/s]\n"
          ]
        },
        {
          "output_type": "stream",
          "name": "stdout",
          "text": [
            "Epoch 13: Train Loss=2.3114820407859056 Validation Accuracy=11.42578125%\n"
          ]
        },
        {
          "output_type": "stream",
          "name": "stderr",
          "text": [
            "100%|██████████| 188/188 [00:01<00:00, 131.02it/s]\n"
          ]
        },
        {
          "output_type": "stream",
          "name": "stdout",
          "text": [
            "Epoch 14: Train Loss=2.3113576863288836 Validation Accuracy=12.59765625%\n"
          ]
        },
        {
          "output_type": "stream",
          "name": "stderr",
          "text": [
            "100%|██████████| 188/188 [00:01<00:00, 128.91it/s]\n"
          ]
        },
        {
          "output_type": "stream",
          "name": "stdout",
          "text": [
            "Epoch 15: Train Loss=2.3101118876441995 Validation Accuracy=11.42578125%\n"
          ]
        },
        {
          "output_type": "stream",
          "name": "stderr",
          "text": [
            "100%|██████████| 188/188 [00:01<00:00, 127.03it/s]\n"
          ]
        },
        {
          "output_type": "stream",
          "name": "stdout",
          "text": [
            "Epoch 16: Train Loss=2.3087983442504276 Validation Accuracy=11.81640625%\n"
          ]
        },
        {
          "output_type": "stream",
          "name": "stderr",
          "text": [
            "100%|██████████| 188/188 [00:01<00:00, 128.87it/s]\n"
          ]
        },
        {
          "output_type": "stream",
          "name": "stdout",
          "text": [
            "Epoch 17: Train Loss=2.3055727267905537 Validation Accuracy=13.8671875%\n"
          ]
        },
        {
          "output_type": "stream",
          "name": "stderr",
          "text": [
            "100%|██████████| 188/188 [00:01<00:00, 130.34it/s]\n"
          ]
        },
        {
          "output_type": "stream",
          "name": "stdout",
          "text": [
            "Epoch 18: Train Loss=2.298450118569958 Validation Accuracy=14.74609375%\n"
          ]
        },
        {
          "output_type": "stream",
          "name": "stderr",
          "text": [
            "100%|██████████| 188/188 [00:01<00:00, 129.97it/s]\n"
          ]
        },
        {
          "output_type": "stream",
          "name": "stdout",
          "text": [
            "Epoch 19: Train Loss=2.2858375964343782 Validation Accuracy=13.18359375%\n"
          ]
        },
        {
          "output_type": "stream",
          "name": "stderr",
          "text": [
            "100%|██████████| 188/188 [00:01<00:00, 121.55it/s]\n"
          ]
        },
        {
          "output_type": "stream",
          "name": "stdout",
          "text": [
            "Epoch 0: Train Loss=2.3035468826902674 Validation Accuracy=10.7421875%\n"
          ]
        },
        {
          "output_type": "stream",
          "name": "stderr",
          "text": [
            "100%|██████████| 188/188 [00:01<00:00, 128.39it/s]\n"
          ]
        },
        {
          "output_type": "stream",
          "name": "stdout",
          "text": [
            "Epoch 1: Train Loss=2.301625656199272 Validation Accuracy=17.48046875%\n"
          ]
        },
        {
          "output_type": "stream",
          "name": "stderr",
          "text": [
            "100%|██████████| 188/188 [00:01<00:00, 126.35it/s]\n"
          ]
        },
        {
          "output_type": "stream",
          "name": "stdout",
          "text": [
            "Epoch 2: Train Loss=2.1337807447305375 Validation Accuracy=33.984375%\n"
          ]
        },
        {
          "output_type": "stream",
          "name": "stderr",
          "text": [
            "100%|██████████| 188/188 [00:01<00:00, 128.96it/s]\n"
          ]
        },
        {
          "output_type": "stream",
          "name": "stdout",
          "text": [
            "Epoch 3: Train Loss=1.6775534991415844 Validation Accuracy=48.92578125%\n"
          ]
        },
        {
          "output_type": "stream",
          "name": "stderr",
          "text": [
            "100%|██████████| 188/188 [00:02<00:00, 92.76it/s] \n"
          ]
        },
        {
          "output_type": "stream",
          "name": "stdout",
          "text": [
            "Epoch 4: Train Loss=1.3390699870429947 Validation Accuracy=55.56640625%\n"
          ]
        },
        {
          "output_type": "stream",
          "name": "stderr",
          "text": [
            "100%|██████████| 188/188 [00:01<00:00, 130.86it/s]\n"
          ]
        },
        {
          "output_type": "stream",
          "name": "stdout",
          "text": [
            "Epoch 5: Train Loss=1.1934320027561065 Validation Accuracy=56.25%\n"
          ]
        },
        {
          "output_type": "stream",
          "name": "stderr",
          "text": [
            "100%|██████████| 188/188 [00:01<00:00, 129.05it/s]\n"
          ]
        },
        {
          "output_type": "stream",
          "name": "stdout",
          "text": [
            "Epoch 6: Train Loss=1.0928672281007665 Validation Accuracy=60.64453125%\n"
          ]
        },
        {
          "output_type": "stream",
          "name": "stderr",
          "text": [
            "100%|██████████| 188/188 [00:01<00:00, 129.34it/s]\n"
          ]
        },
        {
          "output_type": "stream",
          "name": "stdout",
          "text": [
            "Epoch 7: Train Loss=1.0471315407832784 Validation Accuracy=60.3515625%\n"
          ]
        },
        {
          "output_type": "stream",
          "name": "stderr",
          "text": [
            "100%|██████████| 188/188 [00:01<00:00, 130.66it/s]\n"
          ]
        },
        {
          "output_type": "stream",
          "name": "stdout",
          "text": [
            "Epoch 8: Train Loss=1.0090988557516685 Validation Accuracy=62.6953125%\n"
          ]
        },
        {
          "output_type": "stream",
          "name": "stderr",
          "text": [
            "100%|██████████| 188/188 [00:01<00:00, 131.13it/s]\n"
          ]
        },
        {
          "output_type": "stream",
          "name": "stdout",
          "text": [
            "Epoch 9: Train Loss=0.9711298541402241 Validation Accuracy=66.11328125%\n"
          ]
        },
        {
          "output_type": "stream",
          "name": "stderr",
          "text": [
            "100%|██████████| 188/188 [00:01<00:00, 130.54it/s]\n"
          ]
        },
        {
          "output_type": "stream",
          "name": "stdout",
          "text": [
            "Epoch 10: Train Loss=0.9443687255480693 Validation Accuracy=64.2578125%\n"
          ]
        },
        {
          "output_type": "stream",
          "name": "stderr",
          "text": [
            "100%|██████████| 188/188 [00:01<00:00, 129.45it/s]\n"
          ]
        },
        {
          "output_type": "stream",
          "name": "stdout",
          "text": [
            "Epoch 11: Train Loss=0.925676804936999 Validation Accuracy=63.96484375%\n"
          ]
        },
        {
          "output_type": "stream",
          "name": "stderr",
          "text": [
            "100%|██████████| 188/188 [00:01<00:00, 130.04it/s]\n"
          ]
        },
        {
          "output_type": "stream",
          "name": "stdout",
          "text": [
            "Epoch 12: Train Loss=0.9028211222375383 Validation Accuracy=64.453125%\n"
          ]
        },
        {
          "output_type": "stream",
          "name": "stderr",
          "text": [
            "100%|██████████| 188/188 [00:01<00:00, 130.00it/s]\n"
          ]
        },
        {
          "output_type": "stream",
          "name": "stdout",
          "text": [
            "Epoch 13: Train Loss=0.8866656092814756 Validation Accuracy=66.6015625%\n"
          ]
        },
        {
          "output_type": "stream",
          "name": "stderr",
          "text": [
            "100%|██████████| 188/188 [00:01<00:00, 129.76it/s]\n"
          ]
        },
        {
          "output_type": "stream",
          "name": "stdout",
          "text": [
            "Epoch 14: Train Loss=0.8648611868146527 Validation Accuracy=67.28515625%\n"
          ]
        },
        {
          "output_type": "stream",
          "name": "stderr",
          "text": [
            "100%|██████████| 188/188 [00:01<00:00, 129.03it/s]\n"
          ]
        },
        {
          "output_type": "stream",
          "name": "stdout",
          "text": [
            "Epoch 15: Train Loss=0.8540549266976264 Validation Accuracy=67.7734375%\n"
          ]
        },
        {
          "output_type": "stream",
          "name": "stderr",
          "text": [
            "100%|██████████| 188/188 [00:01<00:00, 130.78it/s]\n"
          ]
        },
        {
          "output_type": "stream",
          "name": "stdout",
          "text": [
            "Epoch 16: Train Loss=0.8312808940959328 Validation Accuracy=67.28515625%\n"
          ]
        },
        {
          "output_type": "stream",
          "name": "stderr",
          "text": [
            "100%|██████████| 188/188 [00:01<00:00, 129.49it/s]\n"
          ]
        },
        {
          "output_type": "stream",
          "name": "stdout",
          "text": [
            "Epoch 17: Train Loss=0.8241473794988243 Validation Accuracy=68.359375%\n"
          ]
        },
        {
          "output_type": "stream",
          "name": "stderr",
          "text": [
            "100%|██████████| 188/188 [00:01<00:00, 126.25it/s]\n"
          ]
        },
        {
          "output_type": "stream",
          "name": "stdout",
          "text": [
            "Epoch 18: Train Loss=0.8004076791892931 Validation Accuracy=68.9453125%\n"
          ]
        },
        {
          "output_type": "stream",
          "name": "stderr",
          "text": [
            "100%|██████████| 188/188 [00:01<00:00, 126.28it/s]\n"
          ]
        },
        {
          "output_type": "stream",
          "name": "stdout",
          "text": [
            "Epoch 19: Train Loss=0.8010158101364073 Validation Accuracy=68.65234375%\n"
          ]
        },
        {
          "output_type": "display_data",
          "data": {
            "text/plain": [
              "<Figure size 576x360 with 2 Axes>"
            ],
            "image/png": "[encoded data removed]"
          },
          "metadata": {}
        },
        {
          "output_type": "display_data",
          "data": {
            "text/plain": [
              "<Figure size 576x360 with 2 Axes>"
            ],
            "image/png": "[encoded data removed]"
          },
          "metadata": {}
        }
      ],
      "source": [
        "# Train the GNN\n",
        "model = GNN(in_channels=1)\n",
        "model.to(device)\n",
        "gnn3_mnist_results = train_nn(model, mnist_train_structured, mnist_test_structured, graph=True)\n",
        "learning_curve(gnn3_mnist_results)\n",
        "\n",
        "model = GNN(in_channels=3)\n",
        "model.to(device)\n",
        "gnn4_mnist_results = train_nn(model, mnist_train_structured_pe, mnist_test_structured_pe, graph=True)\n",
        "learning_curve(gnn4_mnist_results)"
      ]
    },
    {
      "cell_type": "markdown",
      "metadata": {
        "id": "VZ-UFPnQ6T6f"
      },
      "source": [
        "## Architecture Comparison\n"
      ]
    },
    {
      "cell_type": "code",
      "execution_count": null,
      "metadata": {
        "id": "XgEvsZ4S6T6f",
        "colab": {
          "base_uri": "https://localhost:8080/",
          "height": 388
        },
        "outputId": "c1c835a0-550a-4f63-fd21-d79bb03dc189"
      },
      "outputs": [
        {
          "output_type": "display_data",
          "data": {
            "text/plain": [
              "<Figure size 720x432 with 1 Axes>"
            ],
            "image/png": "[encoded data removed]"
          },
          "metadata": {
            "needs_background": "light"
          }
        }
      ],
      "source": [
        "\n",
        "plt.figure(figsize = (10,6))\n",
        "plt.plot(mlp_mnist_results.val_accs,label = 'mlp')\n",
        "plt.plot(cnn_mnist_results.val_accs,label = 'cnn')\n",
        "plt.plot(gnn1_mnist_results.val_accs,label = 'gnn1')\n",
        "plt.plot(gnn2_mnist_results.val_accs,label = 'gnn2')\n",
        "plt.plot(gnn3_mnist_results.val_accs,label = 'gnn3')\n",
        "plt.plot(gnn4_mnist_results.val_accs,label = 'gnn4')\n",
        "plt.legend()\n",
        "plt.xlabel('# epochs')\n",
        "plt.ylabel('validation accuracy')\n",
        "plt.show()"
      ]
    },
    {
      "cell_type": "markdown",
      "metadata": {
        "id": "Euwn4-5l6T6f"
      },
      "source": [
        "# Molecules\n",
        "\n",
        "\n",
        "\n",
        "Molecules can be represented in a graph structure in which the nodes are atoms and the edges are bonds between atoms or as an image in the form of a SMILES line notation. Both representations have the same information.\n",
        "\n",
        "\n",
        "\n",
        "![download-2.png](data:image/png;base64,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)"
      ]
    },
    {
      "cell_type": "code",
      "execution_count": null,
      "metadata": {
        "id": "2KmCa2nk6T6f",
        "colab": {
          "base_uri": "https://localhost:8080/"
        },
        "outputId": "086c08b0-e96a-42c9-af81-cd31c70ff170"
      },
      "outputs": [
        {
          "output_type": "stream",
          "name": "stdout",
          "text": [
            "Looking in indexes: https://pypi.org/simple, https://us-python.pkg.dev/colab-wheels/public/simple/\n",
            "Collecting torchdrug\n",
            "  Using cached torchdrug-0.2.0.post1-py3-none-any.whl (267 kB)\n",
            "Requirement already satisfied: torch-cluster>=1.5.9 in /usr/local/lib/python3.7/dist-packages (from torchdrug) (1.6.0)\n",
            "Requirement already satisfied: torch-scatter>=2.0.8 in /usr/local/lib/python3.7/dist-packages (from torchdrug) (2.0.9)\n",
            "Requirement already satisfied: lmdb in /usr/local/lib/python3.7/dist-packages (from torchdrug) (0.99)\n",
            "Requirement already satisfied: matplotlib in /usr/local/lib/python3.7/dist-packages (from torchdrug) (3.2.2)\n",
            "Requirement already satisfied: decorator in /usr/local/lib/python3.7/dist-packages (from torchdrug) (4.4.2)\n",
            "Requirement already satisfied: tqdm in /usr/local/lib/python3.7/dist-packages (from torchdrug) (4.64.1)\n",
            "Requirement already satisfied: torch>=1.8.0 in /usr/local/lib/python3.7/dist-packages (from torchdrug) (1.12.1+cu113)\n",
            "Requirement already satisfied: numpy>=1.11 in /usr/local/lib/python3.7/dist-packages (from torchdrug) (1.21.6)\n",
            "Requirement already satisfied: networkx in /usr/local/lib/python3.7/dist-packages (from torchdrug) (2.6.3)\n",
            "Collecting rdkit-pypi>=2020.9\n",
            "  Using cached rdkit_pypi-2022.3.5-cp37-cp37m-manylinux_2_17_x86_64.manylinux2014_x86_64.whl (36.8 MB)\n",
            "Requirement already satisfied: jinja2 in /usr/local/lib/python3.7/dist-packages (from torchdrug) (2.11.3)\n",
            "Collecting ninja\n",
            "  Using cached ninja-1.10.2.4-py2.py3-none-manylinux_2_5_x86_64.manylinux1_x86_64.whl (120 kB)\n",
            "Collecting fair-esm\n",
            "  Using cached fair_esm-1.0.3-py3-none-any.whl (76 kB)\n",
            "Requirement already satisfied: Pillow in /usr/local/lib/python3.7/dist-packages (from rdkit-pypi>=2020.9->torchdrug) (7.1.2)\n",
            "Requirement already satisfied: typing-extensions in /usr/local/lib/python3.7/dist-packages (from torch>=1.8.0->torchdrug) (4.1.1)\n",
            "Requirement already satisfied: MarkupSafe>=0.23 in /usr/local/lib/python3.7/dist-packages (from jinja2->torchdrug) (2.0.1)\n",
            "Requirement already satisfied: kiwisolver>=1.0.1 in /usr/local/lib/python3.7/dist-packages (from matplotlib->torchdrug) (1.4.4)\n",
            "Requirement already satisfied: cycler>=0.10 in /usr/local/lib/python3.7/dist-packages (from matplotlib->torchdrug) (0.11.0)\n",
            "Requirement already satisfied: python-dateutil>=2.1 in /usr/local/lib/python3.7/dist-packages (from matplotlib->torchdrug) (2.8.2)\n",
            "Requirement already satisfied: pyparsing!=2.0.4,!=2.1.2,!=2.1.6,>=2.0.1 in /usr/local/lib/python3.7/dist-packages (from matplotlib->torchdrug) (3.0.9)\n",
            "Requirement already satisfied: six>=1.5 in /usr/local/lib/python3.7/dist-packages (from python-dateutil>=2.1->matplotlib->torchdrug) (1.15.0)\n",
            "Installing collected packages: rdkit-pypi, ninja, fair-esm, torchdrug\n",
            "Successfully installed fair-esm-1.0.3 ninja-1.10.2.4 rdkit-pypi-2022.3.5 torchdrug-0.2.0.post1\n"
          ]
        },
        {
          "output_type": "stream",
          "name": "stderr",
          "text": [
            "Downloading https://deepchemdata.s3-us-west-1.amazonaws.com/datasets/delaney-processed.csv\n",
            "Processing...\n",
            "Done!\n",
            "100%|██████████| 1128/1128 [02:19<00:00,  8.08it/s]\n"
          ]
        }
      ],
      "source": [
        "\n",
        "!pip install torchdrug\n",
        "\n",
        "from torch_geometric.datasets import MoleculeNet\n",
        "from torchdrug import data as tddata\n",
        "from matplotlib.backends.backend_agg import FigureCanvasAgg as FigureCanvas\n",
        "from matplotlib.figure import Figure\n",
        "from IPython.display import clear_output\n",
        "\n",
        "dataset = MoleculeNet(root='/tmp/ESOL', name='ESOL')\n",
        "dataset = dataset.shuffle()\n",
        "\n",
        "graph_dataset = []\n",
        "image_dataset = []\n",
        "data_els = []\n",
        "for data_el in tqdm(dataset):\n",
        "    try:\n",
        "        mol = tddata.Molecule.from_smiles(data_el.smiles)\n",
        "    except:\n",
        "        continue\n",
        "    fig = Figure(figsize=(2, 2))\n",
        "    canvas = FigureCanvas(fig)\n",
        "    ax = fig.gca()\n",
        "\n",
        "    ax.axis('off')\n",
        "    p = mol.visualize(ax=ax)\n",
        "    canvas.draw()       # draw the canvas, cache the renderer\n",
        "\n",
        "    image_from_plot = np.frombuffer(fig.canvas.tostring_rgb(), dtype=np.uint8)\n",
        "    image_from_plot = image_from_plot.reshape(fig.canvas.get_width_height()[::-1] + (3,))\n",
        "    \n",
        "    plt.close(fig)\n",
        "    plt.cla()\n",
        "    plt.close(\"all\")\n",
        "    if(data_el.x.shape[0]>0):\n",
        "        image_dataset.append((torch.tensor(image_from_plot).type(torch.FloatTensor).permute(2, 0, 1), torch.squeeze(data_el.y)))\n",
        "        graph_dataset.append(Data(x=data_el.x.type(torch.FloatTensor), edge_index=data_el.edge_index, edge_attr=data_el.edge_attr, smiles=data_el.smiles, y=data_el.y))\n",
        "        data_els.append(data_el)\n",
        "    \n",
        "num_train = 2*len(graph_dataset)//3\n",
        "\n",
        "    "
      ]
    },
    {
      "cell_type": "code",
      "execution_count": null,
      "metadata": {
        "id": "FEpc6wAw6T6f",
        "colab": {
          "base_uri": "https://localhost:8080/"
        },
        "outputId": "74061978-8d6c-4dec-da1d-b39509928904"
      },
      "outputs": [
        {
          "output_type": "stream",
          "name": "stderr",
          "text": [
            "100%|██████████| 24/24 [00:03<00:00,  6.41it/s]\n"
          ]
        },
        {
          "output_type": "stream",
          "name": "stdout",
          "text": [
            "Epoch 0: Train Loss=11.937821785608927 Validation Loss=10.298439304033915\n"
          ]
        },
        {
          "output_type": "stream",
          "name": "stderr",
          "text": [
            "100%|██████████| 24/24 [00:00<00:00, 66.72it/s]\n"
          ]
        },
        {
          "output_type": "stream",
          "name": "stdout",
          "text": [
            "Epoch 1: Train Loss=7.839697496758567 Validation Loss=4.423262516657512\n"
          ]
        },
        {
          "output_type": "stream",
          "name": "stderr",
          "text": [
            "100%|██████████| 24/24 [00:00<00:00, 30.35it/s]\n"
          ]
        },
        {
          "output_type": "stream",
          "name": "stdout",
          "text": [
            "Epoch 2: Train Loss=5.0863094386403205 Validation Loss=4.523910423119863\n"
          ]
        },
        {
          "output_type": "stream",
          "name": "stderr",
          "text": [
            "100%|██████████| 24/24 [00:00<00:00, 31.24it/s]\n"
          ]
        },
        {
          "output_type": "stream",
          "name": "stdout",
          "text": [
            "Epoch 3: Train Loss=4.805341532068717 Validation Loss=4.317974766095479\n"
          ]
        },
        {
          "output_type": "stream",
          "name": "stderr",
          "text": [
            "100%|██████████| 24/24 [00:00<00:00, 134.88it/s]\n"
          ]
        },
        {
          "output_type": "stream",
          "name": "stdout",
          "text": [
            "Epoch 4: Train Loss=4.661203287137766 Validation Loss=4.301984926064809\n"
          ]
        },
        {
          "output_type": "stream",
          "name": "stderr",
          "text": [
            "100%|██████████| 24/24 [00:00<00:00, 130.21it/s]\n"
          ]
        },
        {
          "output_type": "stream",
          "name": "stdout",
          "text": [
            "Epoch 5: Train Loss=4.616456892014097 Validation Loss=4.348364969094594\n"
          ]
        },
        {
          "output_type": "stream",
          "name": "stderr",
          "text": [
            "100%|██████████| 24/24 [00:00<00:00, 104.31it/s]\n"
          ]
        },
        {
          "output_type": "stream",
          "name": "stdout",
          "text": [
            "Epoch 6: Train Loss=4.693315104722999 Validation Loss=4.242829501628876\n"
          ]
        },
        {
          "output_type": "stream",
          "name": "stderr",
          "text": [
            "100%|██████████| 24/24 [00:00<00:00, 48.14it/s]\n"
          ]
        },
        {
          "output_type": "stream",
          "name": "stdout",
          "text": [
            "Epoch 7: Train Loss=4.5847987365424645 Validation Loss=4.211427211761475\n"
          ]
        },
        {
          "output_type": "stream",
          "name": "stderr",
          "text": [
            "100%|██████████| 24/24 [00:00<00:00, 57.11it/s]\n"
          ]
        },
        {
          "output_type": "stream",
          "name": "stdout",
          "text": [
            "Epoch 8: Train Loss=4.5292844045149785 Validation Loss=4.198759953180949\n"
          ]
        },
        {
          "output_type": "stream",
          "name": "stderr",
          "text": [
            "100%|██████████| 24/24 [00:00<00:00, 46.22it/s]\n"
          ]
        },
        {
          "output_type": "stream",
          "name": "stdout",
          "text": [
            "Epoch 9: Train Loss=4.515202280829299 Validation Loss=4.154071966807048\n"
          ]
        },
        {
          "output_type": "stream",
          "name": "stderr",
          "text": [
            "100%|██████████| 24/24 [00:00<00:00, 91.79it/s] \n"
          ]
        },
        {
          "output_type": "stream",
          "name": "stdout",
          "text": [
            "Epoch 10: Train Loss=4.465925445033029 Validation Loss=4.1139018932978315\n"
          ]
        },
        {
          "output_type": "stream",
          "name": "stderr",
          "text": [
            "100%|██████████| 24/24 [00:00<00:00, 42.27it/s]\n"
          ]
        },
        {
          "output_type": "stream",
          "name": "stdout",
          "text": [
            "Epoch 11: Train Loss=4.410717258431553 Validation Loss=4.070628881454468\n"
          ]
        },
        {
          "output_type": "stream",
          "name": "stderr",
          "text": [
            "100%|██████████| 24/24 [00:00<00:00, 68.59it/s]\n"
          ]
        },
        {
          "output_type": "stream",
          "name": "stdout",
          "text": [
            "Epoch 12: Train Loss=4.427659074861889 Validation Loss=4.064114073912303\n"
          ]
        },
        {
          "output_type": "stream",
          "name": "stderr",
          "text": [
            "100%|██████████| 24/24 [00:00<00:00, 52.02it/s]\n"
          ]
        },
        {
          "output_type": "stream",
          "name": "stdout",
          "text": [
            "Epoch 13: Train Loss=4.3438772377205845 Validation Loss=3.9793684085210166\n"
          ]
        },
        {
          "output_type": "stream",
          "name": "stderr",
          "text": [
            "100%|██████████| 24/24 [00:00<00:00, 92.28it/s]\n"
          ]
        },
        {
          "output_type": "stream",
          "name": "stdout",
          "text": [
            "Epoch 14: Train Loss=4.273853467640087 Validation Loss=3.939150313536326\n"
          ]
        },
        {
          "output_type": "stream",
          "name": "stderr",
          "text": [
            "100%|██████████| 24/24 [00:00<00:00, 131.42it/s]\n"
          ]
        },
        {
          "output_type": "stream",
          "name": "stdout",
          "text": [
            "Epoch 15: Train Loss=4.219799992389845 Validation Loss=3.912633736928304\n"
          ]
        },
        {
          "output_type": "stream",
          "name": "stderr",
          "text": [
            "100%|██████████| 24/24 [00:00<00:00, 138.97it/s]\n"
          ]
        },
        {
          "output_type": "stream",
          "name": "stdout",
          "text": [
            "Epoch 16: Train Loss=4.1933398096489976 Validation Loss=3.857138286034266\n"
          ]
        },
        {
          "output_type": "stream",
          "name": "stderr",
          "text": [
            "100%|██████████| 24/24 [00:00<00:00, 139.32it/s]\n"
          ]
        },
        {
          "output_type": "stream",
          "name": "stdout",
          "text": [
            "Epoch 17: Train Loss=4.207447826236188 Validation Loss=3.823679248491923\n"
          ]
        },
        {
          "output_type": "stream",
          "name": "stderr",
          "text": [
            "100%|██████████| 24/24 [00:00<00:00, 138.23it/s]\n"
          ]
        },
        {
          "output_type": "stream",
          "name": "stdout",
          "text": [
            "Epoch 18: Train Loss=4.205715668672062 Validation Loss=3.798894772926966\n"
          ]
        },
        {
          "output_type": "stream",
          "name": "stderr",
          "text": [
            "100%|██████████| 24/24 [00:00<00:00, 134.50it/s]\n"
          ]
        },
        {
          "output_type": "stream",
          "name": "stdout",
          "text": [
            "Epoch 19: Train Loss=4.128684471567213 Validation Loss=3.775595227877299\n"
          ]
        },
        {
          "output_type": "stream",
          "name": "stderr",
          "text": [
            "100%|██████████| 24/24 [00:00<00:00, 141.56it/s]\n"
          ]
        },
        {
          "output_type": "stream",
          "name": "stdout",
          "text": [
            "Epoch 20: Train Loss=4.150154017347417 Validation Loss=3.7503979206085205\n"
          ]
        },
        {
          "output_type": "stream",
          "name": "stderr",
          "text": [
            "100%|██████████| 24/24 [00:00<00:00, 136.31it/s]\n"
          ]
        },
        {
          "output_type": "stream",
          "name": "stdout",
          "text": [
            "Epoch 21: Train Loss=4.03678004538592 Validation Loss=3.7292648454507193\n"
          ]
        },
        {
          "output_type": "stream",
          "name": "stderr",
          "text": [
            "100%|██████████| 24/24 [00:00<00:00, 133.76it/s]\n"
          ]
        },
        {
          "output_type": "stream",
          "name": "stdout",
          "text": [
            "Epoch 22: Train Loss=4.040516323759976 Validation Loss=3.832589199145635\n"
          ]
        },
        {
          "output_type": "stream",
          "name": "stderr",
          "text": [
            "100%|██████████| 24/24 [00:00<00:00, 139.86it/s]\n"
          ]
        },
        {
          "output_type": "stream",
          "name": "stdout",
          "text": [
            "Epoch 23: Train Loss=4.034206288842477 Validation Loss=3.699100067218145\n"
          ]
        },
        {
          "output_type": "stream",
          "name": "stderr",
          "text": [
            "100%|██████████| 24/24 [00:00<00:00, 136.47it/s]\n"
          ]
        },
        {
          "output_type": "stream",
          "name": "stdout",
          "text": [
            "Epoch 24: Train Loss=3.973629231990548 Validation Loss=3.692928433418274\n"
          ]
        },
        {
          "output_type": "stream",
          "name": "stderr",
          "text": [
            "100%|██████████| 24/24 [00:00<00:00, 139.16it/s]\n"
          ]
        },
        {
          "output_type": "stream",
          "name": "stdout",
          "text": [
            "Epoch 25: Train Loss=3.956746438962766 Validation Loss=3.675467312335968\n"
          ]
        },
        {
          "output_type": "stream",
          "name": "stderr",
          "text": [
            "100%|██████████| 24/24 [00:00<00:00, 139.67it/s]\n"
          ]
        },
        {
          "output_type": "stream",
          "name": "stdout",
          "text": [
            "Epoch 26: Train Loss=3.9556593340230712 Validation Loss=3.671325663725535\n"
          ]
        },
        {
          "output_type": "stream",
          "name": "stderr",
          "text": [
            "100%|██████████| 24/24 [00:00<00:00, 140.52it/s]\n"
          ]
        },
        {
          "output_type": "stream",
          "name": "stdout",
          "text": [
            "Epoch 27: Train Loss=3.930567262245519 Validation Loss=3.7152795096238456\n"
          ]
        },
        {
          "output_type": "stream",
          "name": "stderr",
          "text": [
            "100%|██████████| 24/24 [00:00<00:00, 128.60it/s]\n"
          ]
        },
        {
          "output_type": "stream",
          "name": "stdout",
          "text": [
            "Epoch 28: Train Loss=4.000494072738344 Validation Loss=3.7219093243281045\n"
          ]
        },
        {
          "output_type": "stream",
          "name": "stderr",
          "text": [
            "100%|██████████| 24/24 [00:00<00:00, 131.03it/s]\n"
          ]
        },
        {
          "output_type": "stream",
          "name": "stdout",
          "text": [
            "Epoch 29: Train Loss=3.957236660433439 Validation Loss=3.7124910851319632\n"
          ]
        },
        {
          "output_type": "stream",
          "name": "stderr",
          "text": [
            "100%|██████████| 24/24 [00:00<00:00, 130.17it/s]\n"
          ]
        },
        {
          "output_type": "stream",
          "name": "stdout",
          "text": [
            "Epoch 30: Train Loss=3.94102696631156 Validation Loss=3.64571683605512\n"
          ]
        },
        {
          "output_type": "stream",
          "name": "stderr",
          "text": [
            "100%|██████████| 24/24 [00:00<00:00, 133.01it/s]\n"
          ]
        },
        {
          "output_type": "stream",
          "name": "stdout",
          "text": [
            "Epoch 31: Train Loss=3.9202199297041544 Validation Loss=3.639549672603607\n"
          ]
        },
        {
          "output_type": "stream",
          "name": "stderr",
          "text": [
            "100%|██████████| 24/24 [00:00<00:00, 124.15it/s]\n"
          ]
        },
        {
          "output_type": "stream",
          "name": "stdout",
          "text": [
            "Epoch 32: Train Loss=3.9187333398266424 Validation Loss=3.598492125670115\n"
          ]
        },
        {
          "output_type": "stream",
          "name": "stderr",
          "text": [
            "100%|██████████| 24/24 [00:00<00:00, 131.76it/s]\n"
          ]
        },
        {
          "output_type": "stream",
          "name": "stdout",
          "text": [
            "Epoch 33: Train Loss=3.8889044714189396 Validation Loss=3.6454281310240426\n"
          ]
        },
        {
          "output_type": "stream",
          "name": "stderr",
          "text": [
            "100%|██████████| 24/24 [00:00<00:00, 136.01it/s]\n"
          ]
        },
        {
          "output_type": "stream",
          "name": "stdout",
          "text": [
            "Epoch 34: Train Loss=3.9151091831931506 Validation Loss=3.6768427093823752\n"
          ]
        },
        {
          "output_type": "stream",
          "name": "stderr",
          "text": [
            "100%|██████████| 24/24 [00:00<00:00, 128.54it/s]\n"
          ]
        },
        {
          "output_type": "stream",
          "name": "stdout",
          "text": [
            "Epoch 35: Train Loss=3.9230621666461603 Validation Loss=3.586721102396647\n"
          ]
        },
        {
          "output_type": "stream",
          "name": "stderr",
          "text": [
            "100%|██████████| 24/24 [00:00<00:00, 121.44it/s]\n"
          ]
        },
        {
          "output_type": "stream",
          "name": "stdout",
          "text": [
            "Epoch 36: Train Loss=3.8102207018714416 Validation Loss=3.572981894016266\n"
          ]
        },
        {
          "output_type": "stream",
          "name": "stderr",
          "text": [
            "100%|██████████| 24/24 [00:00<00:00, 131.68it/s]\n"
          ]
        },
        {
          "output_type": "stream",
          "name": "stdout",
          "text": [
            "Epoch 37: Train Loss=3.8021280212277393 Validation Loss=3.567939519882202\n"
          ]
        },
        {
          "output_type": "stream",
          "name": "stderr",
          "text": [
            "100%|██████████| 24/24 [00:00<00:00, 129.91it/s]\n"
          ]
        },
        {
          "output_type": "stream",
          "name": "stdout",
          "text": [
            "Epoch 38: Train Loss=3.8098245538070556 Validation Loss=3.5886213382085166\n"
          ]
        },
        {
          "output_type": "stream",
          "name": "stderr",
          "text": [
            "100%|██████████| 24/24 [00:00<00:00, 140.95it/s]\n"
          ]
        },
        {
          "output_type": "stream",
          "name": "stdout",
          "text": [
            "Epoch 39: Train Loss=3.8056148525608697 Validation Loss=3.5404800474643707\n"
          ]
        },
        {
          "output_type": "stream",
          "name": "stderr",
          "text": [
            "100%|██████████| 24/24 [00:00<00:00, 125.40it/s]\n"
          ]
        },
        {
          "output_type": "stream",
          "name": "stdout",
          "text": [
            "Epoch 40: Train Loss=3.7765123257890885 Validation Loss=3.5342277884483337\n"
          ]
        },
        {
          "output_type": "stream",
          "name": "stderr",
          "text": [
            "100%|██████████| 24/24 [00:00<00:00, 134.57it/s]\n"
          ]
        },
        {
          "output_type": "stream",
          "name": "stdout",
          "text": [
            "Epoch 41: Train Loss=3.76307799174494 Validation Loss=3.6143553058306375\n"
          ]
        },
        {
          "output_type": "stream",
          "name": "stderr",
          "text": [
            "100%|██████████| 24/24 [00:00<00:00, 142.46it/s]\n"
          ]
        },
        {
          "output_type": "stream",
          "name": "stdout",
          "text": [
            "Epoch 42: Train Loss=3.7069954134333902 Validation Loss=3.5249062279860177\n"
          ]
        },
        {
          "output_type": "stream",
          "name": "stderr",
          "text": [
            "100%|██████████| 24/24 [00:00<00:00, 138.77it/s]\n"
          ]
        },
        {
          "output_type": "stream",
          "name": "stdout",
          "text": [
            "Epoch 43: Train Loss=3.728940096403612 Validation Loss=3.456321765979131\n"
          ]
        },
        {
          "output_type": "stream",
          "name": "stderr",
          "text": [
            "100%|██████████| 24/24 [00:00<00:00, 129.54it/s]\n"
          ]
        },
        {
          "output_type": "stream",
          "name": "stdout",
          "text": [
            "Epoch 44: Train Loss=3.6825955546111473 Validation Loss=3.43687105178833\n"
          ]
        },
        {
          "output_type": "stream",
          "name": "stderr",
          "text": [
            "100%|██████████| 24/24 [00:00<00:00, 130.07it/s]\n"
          ]
        },
        {
          "output_type": "stream",
          "name": "stdout",
          "text": [
            "Epoch 45: Train Loss=3.684747360796608 Validation Loss=3.6305708587169647\n"
          ]
        },
        {
          "output_type": "stream",
          "name": "stderr",
          "text": [
            "100%|██████████| 24/24 [00:00<00:00, 131.24it/s]\n"
          ]
        },
        {
          "output_type": "stream",
          "name": "stdout",
          "text": [
            "Epoch 46: Train Loss=3.8126600841122733 Validation Loss=3.5398358007272086\n"
          ]
        },
        {
          "output_type": "stream",
          "name": "stderr",
          "text": [
            "100%|██████████| 24/24 [00:00<00:00, 128.08it/s]\n"
          ]
        },
        {
          "output_type": "stream",
          "name": "stdout",
          "text": [
            "Epoch 47: Train Loss=3.663420780911371 Validation Loss=3.3929577569166818\n"
          ]
        },
        {
          "output_type": "stream",
          "name": "stderr",
          "text": [
            "100%|██████████| 24/24 [00:00<00:00, 133.63it/s]\n"
          ]
        },
        {
          "output_type": "stream",
          "name": "stdout",
          "text": [
            "Epoch 48: Train Loss=3.6612398270275164 Validation Loss=3.3786468307177224\n"
          ]
        },
        {
          "output_type": "stream",
          "name": "stderr",
          "text": [
            "100%|██████████| 24/24 [00:00<00:00, 133.50it/s]\n"
          ]
        },
        {
          "output_type": "stream",
          "name": "stdout",
          "text": [
            "Epoch 49: Train Loss=3.6382840757713795 Validation Loss=3.385663459698359\n"
          ]
        },
        {
          "output_type": "stream",
          "name": "stderr",
          "text": [
            "100%|██████████| 24/24 [00:00<00:00, 124.69it/s]\n"
          ]
        },
        {
          "output_type": "stream",
          "name": "stdout",
          "text": [
            "Epoch 50: Train Loss=3.6527584041371366 Validation Loss=3.443214257558187\n"
          ]
        },
        {
          "output_type": "stream",
          "name": "stderr",
          "text": [
            "100%|██████████| 24/24 [00:00<00:00, 134.06it/s]\n"
          ]
        },
        {
          "output_type": "stream",
          "name": "stdout",
          "text": [
            "Epoch 51: Train Loss=3.564382803296109 Validation Loss=3.335113048553467\n"
          ]
        },
        {
          "output_type": "stream",
          "name": "stderr",
          "text": [
            "100%|██████████| 24/24 [00:00<00:00, 131.34it/s]\n"
          ]
        },
        {
          "output_type": "stream",
          "name": "stdout",
          "text": [
            "Epoch 52: Train Loss=3.6068792596399395 Validation Loss=3.2959228654702506\n"
          ]
        },
        {
          "output_type": "stream",
          "name": "stderr",
          "text": [
            "100%|██████████| 24/24 [00:00<00:00, 133.78it/s]\n"
          ]
        },
        {
          "output_type": "stream",
          "name": "stdout",
          "text": [
            "Epoch 53: Train Loss=3.6793864131592198 Validation Loss=3.30333544810613\n"
          ]
        },
        {
          "output_type": "stream",
          "name": "stderr",
          "text": [
            "100%|██████████| 24/24 [00:00<00:00, 136.04it/s]\n"
          ]
        },
        {
          "output_type": "stream",
          "name": "stdout",
          "text": [
            "Epoch 54: Train Loss=3.58099137395878 Validation Loss=3.263308733701706\n"
          ]
        },
        {
          "output_type": "stream",
          "name": "stderr",
          "text": [
            "100%|██████████| 24/24 [00:00<00:00, 132.31it/s]\n"
          ]
        },
        {
          "output_type": "stream",
          "name": "stdout",
          "text": [
            "Epoch 55: Train Loss=3.457270750838129 Validation Loss=3.3164300123850503\n"
          ]
        },
        {
          "output_type": "stream",
          "name": "stderr",
          "text": [
            "100%|██████████| 24/24 [00:00<00:00, 133.35it/s]\n"
          ]
        },
        {
          "output_type": "stream",
          "name": "stdout",
          "text": [
            "Epoch 56: Train Loss=3.475904629025095 Validation Loss=3.293956180413564\n"
          ]
        },
        {
          "output_type": "stream",
          "name": "stderr",
          "text": [
            "100%|██████████| 24/24 [00:00<00:00, 129.34it/s]\n"
          ]
        },
        {
          "output_type": "stream",
          "name": "stdout",
          "text": [
            "Epoch 57: Train Loss=3.5005077887489247 Validation Loss=3.1818690299987793\n"
          ]
        },
        {
          "output_type": "stream",
          "name": "stderr",
          "text": [
            "100%|██████████| 24/24 [00:00<00:00, 136.64it/s]\n"
          ]
        },
        {
          "output_type": "stream",
          "name": "stdout",
          "text": [
            "Epoch 58: Train Loss=3.435486364567089 Validation Loss=3.2431053121884665\n"
          ]
        },
        {
          "output_type": "stream",
          "name": "stderr",
          "text": [
            "100%|██████████| 24/24 [00:00<00:00, 135.04it/s]\n"
          ]
        },
        {
          "output_type": "stream",
          "name": "stdout",
          "text": [
            "Epoch 59: Train Loss=3.409483146675916 Validation Loss=3.2356290221214294\n"
          ]
        },
        {
          "output_type": "stream",
          "name": "stderr",
          "text": [
            "100%|██████████| 24/24 [00:00<00:00, 125.87it/s]\n"
          ]
        },
        {
          "output_type": "stream",
          "name": "stdout",
          "text": [
            "Epoch 60: Train Loss=3.3118564764662124 Validation Loss=3.1992243925730386\n"
          ]
        },
        {
          "output_type": "stream",
          "name": "stderr",
          "text": [
            "100%|██████████| 24/24 [00:00<00:00, 139.87it/s]\n"
          ]
        },
        {
          "output_type": "stream",
          "name": "stdout",
          "text": [
            "Epoch 61: Train Loss=3.36066048211523 Validation Loss=3.103365341822306\n"
          ]
        },
        {
          "output_type": "stream",
          "name": "stderr",
          "text": [
            "100%|██████████| 24/24 [00:00<00:00, 133.00it/s]\n"
          ]
        },
        {
          "output_type": "stream",
          "name": "stdout",
          "text": [
            "Epoch 62: Train Loss=3.264119085697113 Validation Loss=3.2834650377432504\n"
          ]
        },
        {
          "output_type": "stream",
          "name": "stderr",
          "text": [
            "100%|██████████| 24/24 [00:00<00:00, 133.16it/s]\n"
          ]
        },
        {
          "output_type": "stream",
          "name": "stdout",
          "text": [
            "Epoch 63: Train Loss=3.199034241215544 Validation Loss=3.233984410762787\n"
          ]
        },
        {
          "output_type": "stream",
          "name": "stderr",
          "text": [
            "100%|██████████| 24/24 [00:00<00:00, 60.53it/s]\n"
          ]
        },
        {
          "output_type": "stream",
          "name": "stdout",
          "text": [
            "Epoch 64: Train Loss=3.1516692103352875 Validation Loss=2.9852632582187653\n"
          ]
        },
        {
          "output_type": "stream",
          "name": "stderr",
          "text": [
            "100%|██████████| 24/24 [00:00<00:00, 30.47it/s]\n"
          ]
        },
        {
          "output_type": "stream",
          "name": "stdout",
          "text": [
            "Epoch 65: Train Loss=3.068118604775132 Validation Loss=2.974986662467321\n"
          ]
        },
        {
          "output_type": "stream",
          "name": "stderr",
          "text": [
            "100%|██████████| 24/24 [00:00<00:00, 37.97it/s]\n"
          ]
        },
        {
          "output_type": "stream",
          "name": "stdout",
          "text": [
            "Epoch 66: Train Loss=3.0732835793145767 Validation Loss=3.2142207423845925\n"
          ]
        },
        {
          "output_type": "stream",
          "name": "stderr",
          "text": [
            "100%|██████████| 24/24 [00:00<00:00, 35.81it/s]\n"
          ]
        },
        {
          "output_type": "stream",
          "name": "stdout",
          "text": [
            "Epoch 67: Train Loss=3.036550070939992 Validation Loss=3.008470227320989\n"
          ]
        },
        {
          "output_type": "stream",
          "name": "stderr",
          "text": [
            "100%|██████████| 24/24 [00:00<00:00, 67.60it/s]\n"
          ]
        },
        {
          "output_type": "stream",
          "name": "stdout",
          "text": [
            "Epoch 68: Train Loss=3.124683654395182 Validation Loss=2.9027241667111716\n"
          ]
        },
        {
          "output_type": "stream",
          "name": "stderr",
          "text": [
            "100%|██████████| 24/24 [00:00<00:00, 48.01it/s]\n"
          ]
        },
        {
          "output_type": "stream",
          "name": "stdout",
          "text": [
            "Epoch 69: Train Loss=3.0071677928205762 Validation Loss=3.1152207056681314\n"
          ]
        },
        {
          "output_type": "stream",
          "name": "stderr",
          "text": [
            "100%|██████████| 24/24 [00:00<00:00, 135.11it/s]\n"
          ]
        },
        {
          "output_type": "stream",
          "name": "stdout",
          "text": [
            "Epoch 70: Train Loss=3.1520933350135736 Validation Loss=3.2024430433909097\n"
          ]
        },
        {
          "output_type": "stream",
          "name": "stderr",
          "text": [
            "100%|██████████| 24/24 [00:00<00:00, 128.60it/s]\n"
          ]
        },
        {
          "output_type": "stream",
          "name": "stdout",
          "text": [
            "Epoch 71: Train Loss=3.1482816307089805 Validation Loss=2.8501206239064536\n"
          ]
        },
        {
          "output_type": "stream",
          "name": "stderr",
          "text": [
            "100%|██████████| 24/24 [00:00<00:00, 132.01it/s]\n"
          ]
        },
        {
          "output_type": "stream",
          "name": "stdout",
          "text": [
            "Epoch 72: Train Loss=2.909493071206502 Validation Loss=2.995849589506785\n"
          ]
        },
        {
          "output_type": "stream",
          "name": "stderr",
          "text": [
            "100%|██████████| 24/24 [00:00<00:00, 80.38it/s]\n"
          ]
        },
        {
          "output_type": "stream",
          "name": "stdout",
          "text": [
            "Epoch 73: Train Loss=2.9092464588734877 Validation Loss=2.7702756524086\n"
          ]
        },
        {
          "output_type": "stream",
          "name": "stderr",
          "text": [
            "100%|██████████| 24/24 [00:00<00:00, 72.72it/s]\n"
          ]
        },
        {
          "output_type": "stream",
          "name": "stdout",
          "text": [
            "Epoch 74: Train Loss=2.843954603467772 Validation Loss=2.943160672982534\n"
          ]
        },
        {
          "output_type": "stream",
          "name": "stderr",
          "text": [
            "100%|██████████| 24/24 [00:00<00:00, 62.51it/s]\n"
          ]
        },
        {
          "output_type": "stream",
          "name": "stdout",
          "text": [
            "Epoch 75: Train Loss=2.8519047813529106 Validation Loss=2.815248270829519\n"
          ]
        },
        {
          "output_type": "stream",
          "name": "stderr",
          "text": [
            "100%|██████████| 24/24 [00:00<00:00, 64.78it/s]\n"
          ]
        },
        {
          "output_type": "stream",
          "name": "stdout",
          "text": [
            "Epoch 76: Train Loss=3.0487325005933408 Validation Loss=2.987054318189621\n"
          ]
        },
        {
          "output_type": "stream",
          "name": "stderr",
          "text": [
            "100%|██████████| 24/24 [00:00<00:00, 84.44it/s]\n"
          ]
        },
        {
          "output_type": "stream",
          "name": "stdout",
          "text": [
            "Epoch 77: Train Loss=2.9467074962672455 Validation Loss=2.7347603837649026\n"
          ]
        },
        {
          "output_type": "stream",
          "name": "stderr",
          "text": [
            "100%|██████████| 24/24 [00:00<00:00, 61.16it/s]\n"
          ]
        },
        {
          "output_type": "stream",
          "name": "stdout",
          "text": [
            "Epoch 78: Train Loss=2.7981228832247225 Validation Loss=3.0120321909586587\n"
          ]
        },
        {
          "output_type": "stream",
          "name": "stderr",
          "text": [
            "100%|██████████| 24/24 [00:00<00:00, 66.13it/s]\n"
          ]
        },
        {
          "output_type": "stream",
          "name": "stdout",
          "text": [
            "Epoch 79: Train Loss=2.788817216968546 Validation Loss=2.786983529726664\n"
          ]
        },
        {
          "output_type": "stream",
          "name": "stderr",
          "text": [
            "100%|██████████| 24/24 [00:00<00:00, 71.55it/s]\n"
          ]
        },
        {
          "output_type": "stream",
          "name": "stdout",
          "text": [
            "Epoch 80: Train Loss=2.7861899952928226 Validation Loss=2.691028048594793\n"
          ]
        },
        {
          "output_type": "stream",
          "name": "stderr",
          "text": [
            "100%|██████████| 24/24 [00:00<00:00, 120.35it/s]\n"
          ]
        },
        {
          "output_type": "stream",
          "name": "stdout",
          "text": [
            "Epoch 81: Train Loss=2.8073846781454157 Validation Loss=2.666188488403956\n"
          ]
        },
        {
          "output_type": "stream",
          "name": "stderr",
          "text": [
            "100%|██████████| 24/24 [00:00<00:00, 126.51it/s]\n"
          ]
        },
        {
          "output_type": "stream",
          "name": "stdout",
          "text": [
            "Epoch 82: Train Loss=2.6964692253379425 Validation Loss=2.66950852672259\n"
          ]
        },
        {
          "output_type": "stream",
          "name": "stderr",
          "text": [
            "100%|██████████| 24/24 [00:00<00:00, 132.09it/s]\n"
          ]
        },
        {
          "output_type": "stream",
          "name": "stdout",
          "text": [
            "Epoch 83: Train Loss=2.703476510025182 Validation Loss=2.703543613354365\n"
          ]
        },
        {
          "output_type": "stream",
          "name": "stderr",
          "text": [
            "100%|██████████| 24/24 [00:00<00:00, 77.03it/s]\n"
          ]
        },
        {
          "output_type": "stream",
          "name": "stdout",
          "text": [
            "Epoch 84: Train Loss=2.747876945534395 Validation Loss=2.6214326520760856\n"
          ]
        },
        {
          "output_type": "stream",
          "name": "stderr",
          "text": [
            "100%|██████████| 24/24 [00:00<00:00, 107.51it/s]\n"
          ]
        },
        {
          "output_type": "stream",
          "name": "stdout",
          "text": [
            "Epoch 85: Train Loss=2.7053884741084047 Validation Loss=2.602265556653341\n"
          ]
        },
        {
          "output_type": "stream",
          "name": "stderr",
          "text": [
            "100%|██████████| 24/24 [00:00<00:00, 94.49it/s]\n"
          ]
        },
        {
          "output_type": "stream",
          "name": "stdout",
          "text": [
            "Epoch 86: Train Loss=2.7328661699941432 Validation Loss=2.7921236554781594\n"
          ]
        },
        {
          "output_type": "stream",
          "name": "stderr",
          "text": [
            "100%|██████████| 24/24 [00:00<00:00, 54.99it/s]\n"
          ]
        },
        {
          "output_type": "stream",
          "name": "stdout",
          "text": [
            "Epoch 87: Train Loss=2.739360287867696 Validation Loss=2.7340775628884635\n"
          ]
        },
        {
          "output_type": "stream",
          "name": "stderr",
          "text": [
            "100%|██████████| 24/24 [00:00<00:00, 58.05it/s]\n"
          ]
        },
        {
          "output_type": "stream",
          "name": "stdout",
          "text": [
            "Epoch 88: Train Loss=2.629748580980744 Validation Loss=2.589136004447937\n"
          ]
        },
        {
          "output_type": "stream",
          "name": "stderr",
          "text": [
            "100%|██████████| 24/24 [00:00<00:00, 68.79it/s]\n"
          ]
        },
        {
          "output_type": "stream",
          "name": "stdout",
          "text": [
            "Epoch 89: Train Loss=2.6341361402690597 Validation Loss=2.7602653205394745\n"
          ]
        },
        {
          "output_type": "stream",
          "name": "stderr",
          "text": [
            "100%|██████████| 24/24 [00:00<00:00, 60.95it/s]\n"
          ]
        },
        {
          "output_type": "stream",
          "name": "stdout",
          "text": [
            "Epoch 90: Train Loss=2.685420585172128 Validation Loss=2.7794509331385293\n"
          ]
        },
        {
          "output_type": "stream",
          "name": "stderr",
          "text": [
            "100%|██████████| 24/24 [00:00<00:00, 86.33it/s]\n"
          ]
        },
        {
          "output_type": "stream",
          "name": "stdout",
          "text": [
            "Epoch 91: Train Loss=2.667997750660477 Validation Loss=2.741452078024546\n"
          ]
        },
        {
          "output_type": "stream",
          "name": "stderr",
          "text": [
            "100%|██████████| 24/24 [00:00<00:00, 122.03it/s]\n"
          ]
        },
        {
          "output_type": "stream",
          "name": "stdout",
          "text": [
            "Epoch 92: Train Loss=2.6859801673649373 Validation Loss=2.561124712228775\n"
          ]
        },
        {
          "output_type": "stream",
          "name": "stderr",
          "text": [
            "100%|██████████| 24/24 [00:00<00:00, 60.70it/s]\n"
          ]
        },
        {
          "output_type": "stream",
          "name": "stdout",
          "text": [
            "Epoch 93: Train Loss=2.6189844197024845 Validation Loss=2.5362901985645294\n"
          ]
        },
        {
          "output_type": "stream",
          "name": "stderr",
          "text": [
            "100%|██████████| 24/24 [00:00<00:00, 62.63it/s]\n"
          ]
        },
        {
          "output_type": "stream",
          "name": "stdout",
          "text": [
            "Epoch 94: Train Loss=2.5310498756914916 Validation Loss=2.713101247946421\n"
          ]
        },
        {
          "output_type": "stream",
          "name": "stderr",
          "text": [
            "100%|██████████| 24/24 [00:00<00:00, 78.88it/s]\n"
          ]
        },
        {
          "output_type": "stream",
          "name": "stdout",
          "text": [
            "Epoch 95: Train Loss=2.5609031033298604 Validation Loss=2.480913649002711\n"
          ]
        },
        {
          "output_type": "stream",
          "name": "stderr",
          "text": [
            "100%|██████████| 24/24 [00:00<00:00, 134.20it/s]\n"
          ]
        },
        {
          "output_type": "stream",
          "name": "stdout",
          "text": [
            "Epoch 96: Train Loss=2.5098884515951956 Validation Loss=2.575897693634033\n"
          ]
        },
        {
          "output_type": "stream",
          "name": "stderr",
          "text": [
            "100%|██████████| 24/24 [00:00<00:00, 132.75it/s]\n"
          ]
        },
        {
          "output_type": "stream",
          "name": "stdout",
          "text": [
            "Epoch 97: Train Loss=2.597218092998659 Validation Loss=2.49416047334671\n"
          ]
        },
        {
          "output_type": "stream",
          "name": "stderr",
          "text": [
            "100%|██████████| 24/24 [00:00<00:00, 131.19it/s]\n"
          ]
        },
        {
          "output_type": "stream",
          "name": "stdout",
          "text": [
            "Epoch 98: Train Loss=2.471846324566371 Validation Loss=2.512625207503637\n"
          ]
        },
        {
          "output_type": "stream",
          "name": "stderr",
          "text": [
            "100%|██████████| 24/24 [00:00<00:00, 135.88it/s]\n"
          ]
        },
        {
          "output_type": "stream",
          "name": "stdout",
          "text": [
            "Epoch 99: Train Loss=2.557906472946346 Validation Loss=2.4184789458910623\n"
          ]
        }
      ],
      "source": [
        "num_train = 2*len(graph_dataset)//3\n",
        "\n",
        "train_dataset_tox = graph_dataset[:num_train]\n",
        "test_dataset_tox = graph_dataset[num_train:]\n",
        "\n",
        "model = GNN(in_channels=9, out_channels=1).to(device)\n",
        "gnn_molecule_results = train_nn(model, train_dataset_tox, test_dataset_tox, graph=True, regression=True, lr=5e-4, criterion=nn.MSELoss(), num_epochs=100)\n",
        "learning_curve(gnn_molecule_results)"
      ]
    },
    {
      "cell_type": "code",
      "execution_count": null,
      "metadata": {
        "id": "O7C2oAED6T6g",
        "colab": {
          "base_uri": "https://localhost:8080/"
        },
        "outputId": "a89830dd-145f-423f-be07-e29108584295"
      },
      "outputs": [
        {
          "output_type": "stream",
          "name": "stderr",
          "text": [
            "\r  0%|          | 0/24 [00:00<?, ?it/s]/usr/local/lib/python3.7/dist-packages/torch/nn/modules/loss.py:530: UserWarning: Using a target size (torch.Size([32])) that is different to the input size (torch.Size([32, 1])). This will likely lead to incorrect results due to broadcasting. Please ensure they have the same size.\n",
            "  return F.mse_loss(input, target, reduction=self.reduction)\n",
            " 88%|████████▊ | 21/24 [00:05<00:00,  7.91it/s]/usr/local/lib/python3.7/dist-packages/torch/nn/modules/loss.py:530: UserWarning: Using a target size (torch.Size([16])) that is different to the input size (torch.Size([16, 1])). This will likely lead to incorrect results due to broadcasting. Please ensure they have the same size.\n",
            "  return F.mse_loss(input, target, reduction=self.reduction)\n",
            "100%|██████████| 24/24 [00:05<00:00,  4.47it/s]\n",
            "/usr/local/lib/python3.7/dist-packages/torch/nn/modules/loss.py:530: UserWarning: Using a target size (torch.Size([24])) that is different to the input size (torch.Size([24, 1])). This will likely lead to incorrect results due to broadcasting. Please ensure they have the same size.\n",
            "  return F.mse_loss(input, target, reduction=self.reduction)\n"
          ]
        },
        {
          "output_type": "stream",
          "name": "stdout",
          "text": [
            "Epoch 0: Train Loss=2593.9509270985923 Validation Loss=73.44333585103352\n"
          ]
        },
        {
          "output_type": "stream",
          "name": "stderr",
          "text": [
            "100%|██████████| 24/24 [00:00<00:00, 80.11it/s]\n"
          ]
        },
        {
          "output_type": "stream",
          "name": "stdout",
          "text": [
            "Epoch 1: Train Loss=182.87784351242917 Validation Loss=67.07303587595622\n"
          ]
        },
        {
          "output_type": "stream",
          "name": "stderr",
          "text": [
            "100%|██████████| 24/24 [00:00<00:00, 85.79it/s]\n"
          ]
        },
        {
          "output_type": "stream",
          "name": "stdout",
          "text": [
            "Epoch 2: Train Loss=43.13216017241831 Validation Loss=30.438154538472492\n"
          ]
        },
        {
          "output_type": "stream",
          "name": "stderr",
          "text": [
            "100%|██████████| 24/24 [00:00<00:00, 84.89it/s]\n"
          ]
        },
        {
          "output_type": "stream",
          "name": "stdout",
          "text": [
            "Epoch 3: Train Loss=29.179280002313998 Validation Loss=26.450617631276447\n"
          ]
        },
        {
          "output_type": "stream",
          "name": "stderr",
          "text": [
            "100%|██████████| 24/24 [00:00<00:00, 84.79it/s]\n"
          ]
        },
        {
          "output_type": "stream",
          "name": "stdout",
          "text": [
            "Epoch 4: Train Loss=26.668795057444033 Validation Loss=25.76805027325948\n"
          ]
        },
        {
          "output_type": "stream",
          "name": "stderr",
          "text": [
            "100%|██████████| 24/24 [00:00<00:00, 86.05it/s]\n"
          ]
        },
        {
          "output_type": "stream",
          "name": "stdout",
          "text": [
            "Epoch 5: Train Loss=26.105573910321965 Validation Loss=25.057746807734173\n"
          ]
        },
        {
          "output_type": "stream",
          "name": "stderr",
          "text": [
            "100%|██████████| 24/24 [00:00<00:00, 84.84it/s]\n"
          ]
        },
        {
          "output_type": "stream",
          "name": "stdout",
          "text": [
            "Epoch 6: Train Loss=25.16232380344827 Validation Loss=24.492536544799805\n"
          ]
        },
        {
          "output_type": "stream",
          "name": "stderr",
          "text": [
            "100%|██████████| 24/24 [00:00<00:00, 85.40it/s]\n"
          ]
        },
        {
          "output_type": "stream",
          "name": "stdout",
          "text": [
            "Epoch 7: Train Loss=24.23576370257237 Validation Loss=23.772095998128254\n"
          ]
        },
        {
          "output_type": "stream",
          "name": "stderr",
          "text": [
            "100%|██████████| 24/24 [00:00<00:00, 84.98it/s]\n"
          ]
        },
        {
          "output_type": "stream",
          "name": "stdout",
          "text": [
            "Epoch 8: Train Loss=23.79953694980099 Validation Loss=23.160585800806682\n"
          ]
        },
        {
          "output_type": "stream",
          "name": "stderr",
          "text": [
            "100%|██████████| 24/24 [00:00<00:00, 66.86it/s]\n"
          ]
        },
        {
          "output_type": "stream",
          "name": "stdout",
          "text": [
            "Epoch 9: Train Loss=22.877442727751514 Validation Loss=22.556659698486328\n"
          ]
        },
        {
          "output_type": "stream",
          "name": "stderr",
          "text": [
            "100%|██████████| 24/24 [00:00<00:00, 72.42it/s]\n"
          ]
        },
        {
          "output_type": "stream",
          "name": "stdout",
          "text": [
            "Epoch 10: Train Loss=22.34102516912201 Validation Loss=22.233285744984943\n"
          ]
        },
        {
          "output_type": "stream",
          "name": "stderr",
          "text": [
            "100%|██████████| 24/24 [00:00<00:00, 73.07it/s]\n"
          ]
        },
        {
          "output_type": "stream",
          "name": "stdout",
          "text": [
            "Epoch 11: Train Loss=21.561832698493692 Validation Loss=21.489338239034016\n"
          ]
        },
        {
          "output_type": "stream",
          "name": "stderr",
          "text": [
            "100%|██████████| 24/24 [00:00<00:00, 69.16it/s]\n"
          ]
        },
        {
          "output_type": "stream",
          "name": "stdout",
          "text": [
            "Epoch 12: Train Loss=20.77454472715281 Validation Loss=20.97965629895528\n"
          ]
        },
        {
          "output_type": "stream",
          "name": "stderr",
          "text": [
            "100%|██████████| 24/24 [00:00<00:00, 84.96it/s]\n"
          ]
        },
        {
          "output_type": "stream",
          "name": "stdout",
          "text": [
            "Epoch 13: Train Loss=20.45477469809131 Validation Loss=20.669392347335815\n"
          ]
        },
        {
          "output_type": "stream",
          "name": "stderr",
          "text": [
            "100%|██████████| 24/24 [00:00<00:00, 85.51it/s]\n"
          ]
        },
        {
          "output_type": "stream",
          "name": "stdout",
          "text": [
            "Epoch 14: Train Loss=19.672773593021464 Validation Loss=20.112273931503296\n"
          ]
        },
        {
          "output_type": "stream",
          "name": "stderr",
          "text": [
            "100%|██████████| 24/24 [00:00<00:00, 82.08it/s]\n"
          ]
        },
        {
          "output_type": "stream",
          "name": "stdout",
          "text": [
            "Epoch 15: Train Loss=19.35525875262722 Validation Loss=19.575121879577637\n"
          ]
        },
        {
          "output_type": "stream",
          "name": "stderr",
          "text": [
            "100%|██████████| 24/24 [00:00<00:00, 74.28it/s]\n"
          ]
        },
        {
          "output_type": "stream",
          "name": "stdout",
          "text": [
            "Epoch 16: Train Loss=18.39334598389446 Validation Loss=19.174365599950153\n"
          ]
        },
        {
          "output_type": "stream",
          "name": "stderr",
          "text": [
            "100%|██████████| 24/24 [00:00<00:00, 78.29it/s]\n"
          ]
        },
        {
          "output_type": "stream",
          "name": "stdout",
          "text": [
            "Epoch 17: Train Loss=17.986000504430457 Validation Loss=18.803522030512493\n"
          ]
        },
        {
          "output_type": "stream",
          "name": "stderr",
          "text": [
            "100%|██████████| 24/24 [00:00<00:00, 74.99it/s]\n"
          ]
        },
        {
          "output_type": "stream",
          "name": "stdout",
          "text": [
            "Epoch 18: Train Loss=17.71871862669522 Validation Loss=18.533153772354126\n"
          ]
        },
        {
          "output_type": "stream",
          "name": "stderr",
          "text": [
            "100%|██████████| 24/24 [00:00<00:00, 84.70it/s]\n"
          ]
        },
        {
          "output_type": "stream",
          "name": "stdout",
          "text": [
            "Epoch 19: Train Loss=17.052837693798764 Validation Loss=17.96298869450887\n"
          ]
        },
        {
          "output_type": "stream",
          "name": "stderr",
          "text": [
            "100%|██████████| 24/24 [00:00<00:00, 84.79it/s]\n"
          ]
        },
        {
          "output_type": "stream",
          "name": "stdout",
          "text": [
            "Epoch 20: Train Loss=16.434674514834594 Validation Loss=17.68518050511678\n"
          ]
        },
        {
          "output_type": "stream",
          "name": "stderr",
          "text": [
            "100%|██████████| 24/24 [00:00<00:00, 85.54it/s]\n"
          ]
        },
        {
          "output_type": "stream",
          "name": "stdout",
          "text": [
            "Epoch 21: Train Loss=16.078168442410913 Validation Loss=17.307838280995686\n"
          ]
        },
        {
          "output_type": "stream",
          "name": "stderr",
          "text": [
            "100%|██████████| 24/24 [00:00<00:00, 83.26it/s]\n"
          ]
        },
        {
          "output_type": "stream",
          "name": "stdout",
          "text": [
            "Epoch 22: Train Loss=15.752501112328746 Validation Loss=17.017001310984295\n"
          ]
        },
        {
          "output_type": "stream",
          "name": "stderr",
          "text": [
            "100%|██████████| 24/24 [00:00<00:00, 84.66it/s]\n"
          ]
        },
        {
          "output_type": "stream",
          "name": "stdout",
          "text": [
            "Epoch 23: Train Loss=15.757169469450362 Validation Loss=16.872447808583576\n"
          ]
        },
        {
          "output_type": "stream",
          "name": "stderr",
          "text": [
            "100%|██████████| 24/24 [00:00<00:00, 85.34it/s]\n"
          ]
        },
        {
          "output_type": "stream",
          "name": "stdout",
          "text": [
            "Epoch 24: Train Loss=15.404108990573818 Validation Loss=16.728188514709473\n"
          ]
        },
        {
          "output_type": "stream",
          "name": "stderr",
          "text": [
            "100%|██████████| 24/24 [00:00<00:00, 82.97it/s]\n"
          ]
        },
        {
          "output_type": "stream",
          "name": "stdout",
          "text": [
            "Epoch 25: Train Loss=14.72369448299805 Validation Loss=16.255033413569134\n"
          ]
        },
        {
          "output_type": "stream",
          "name": "stderr",
          "text": [
            "100%|██████████| 24/24 [00:00<00:00, 85.39it/s]\n"
          ]
        },
        {
          "output_type": "stream",
          "name": "stdout",
          "text": [
            "Epoch 26: Train Loss=14.437031414755351 Validation Loss=15.988240718841553\n"
          ]
        },
        {
          "output_type": "stream",
          "name": "stderr",
          "text": [
            "100%|██████████| 24/24 [00:00<00:00, 79.67it/s]\n"
          ]
        },
        {
          "output_type": "stream",
          "name": "stdout",
          "text": [
            "Epoch 27: Train Loss=14.30470381787453 Validation Loss=15.927030007044474\n"
          ]
        },
        {
          "output_type": "stream",
          "name": "stderr",
          "text": [
            "100%|██████████| 24/24 [00:00<00:00, 68.52it/s]\n"
          ]
        },
        {
          "output_type": "stream",
          "name": "stdout",
          "text": [
            "Epoch 28: Train Loss=13.860985124529662 Validation Loss=16.01206103960673\n"
          ]
        },
        {
          "output_type": "stream",
          "name": "stderr",
          "text": [
            "100%|██████████| 24/24 [00:00<00:00, 41.56it/s]\n"
          ]
        },
        {
          "output_type": "stream",
          "name": "stdout",
          "text": [
            "Epoch 29: Train Loss=13.934513900198093 Validation Loss=15.337153752644857\n"
          ]
        },
        {
          "output_type": "stream",
          "name": "stderr",
          "text": [
            "100%|██████████| 24/24 [00:00<00:00, 73.45it/s]\n"
          ]
        },
        {
          "output_type": "stream",
          "name": "stdout",
          "text": [
            "Epoch 30: Train Loss=13.954211924370691 Validation Loss=15.40142035484314\n"
          ]
        },
        {
          "output_type": "stream",
          "name": "stderr",
          "text": [
            "100%|██████████| 24/24 [00:00<00:00, 80.65it/s]\n"
          ]
        },
        {
          "output_type": "stream",
          "name": "stdout",
          "text": [
            "Epoch 31: Train Loss=13.395677476040879 Validation Loss=14.980632702509562\n"
          ]
        },
        {
          "output_type": "stream",
          "name": "stderr",
          "text": [
            "100%|██████████| 24/24 [00:00<00:00, 83.04it/s]\n"
          ]
        },
        {
          "output_type": "stream",
          "name": "stdout",
          "text": [
            "Epoch 32: Train Loss=13.194106455847304 Validation Loss=14.803095579147339\n"
          ]
        },
        {
          "output_type": "stream",
          "name": "stderr",
          "text": [
            "100%|██████████| 24/24 [00:00<00:00, 63.14it/s]\n"
          ]
        },
        {
          "output_type": "stream",
          "name": "stdout",
          "text": [
            "Epoch 33: Train Loss=12.536509925963344 Validation Loss=14.669814745585123\n"
          ]
        },
        {
          "output_type": "stream",
          "name": "stderr",
          "text": [
            "100%|██████████| 24/24 [00:00<00:00, 70.13it/s]\n"
          ]
        },
        {
          "output_type": "stream",
          "name": "stdout",
          "text": [
            "Epoch 34: Train Loss=12.457734145010589 Validation Loss=14.642812172571817\n"
          ]
        },
        {
          "output_type": "stream",
          "name": "stderr",
          "text": [
            "100%|██████████| 24/24 [00:00<00:00, 77.59it/s]\n"
          ]
        },
        {
          "output_type": "stream",
          "name": "stdout",
          "text": [
            "Epoch 35: Train Loss=12.427664341085697 Validation Loss=14.426749467849731\n"
          ]
        },
        {
          "output_type": "stream",
          "name": "stderr",
          "text": [
            "100%|██████████| 24/24 [00:00<00:00, 84.04it/s]\n"
          ]
        },
        {
          "output_type": "stream",
          "name": "stdout",
          "text": [
            "Epoch 36: Train Loss=12.199525259499481 Validation Loss=14.353968779246012\n"
          ]
        },
        {
          "output_type": "stream",
          "name": "stderr",
          "text": [
            "100%|██████████| 24/24 [00:00<00:00, 85.41it/s]\n"
          ]
        },
        {
          "output_type": "stream",
          "name": "stdout",
          "text": [
            "Epoch 37: Train Loss=12.04420886033793 Validation Loss=14.13743805885315\n"
          ]
        },
        {
          "output_type": "stream",
          "name": "stderr",
          "text": [
            "100%|██████████| 24/24 [00:00<00:00, 84.05it/s]\n"
          ]
        },
        {
          "output_type": "stream",
          "name": "stdout",
          "text": [
            "Epoch 38: Train Loss=11.865914736188955 Validation Loss=13.984040021896362\n"
          ]
        },
        {
          "output_type": "stream",
          "name": "stderr",
          "text": [
            "100%|██████████| 24/24 [00:00<00:00, 84.16it/s]\n"
          ]
        },
        {
          "output_type": "stream",
          "name": "stdout",
          "text": [
            "Epoch 39: Train Loss=11.746055837886098 Validation Loss=13.86227822303772\n"
          ]
        },
        {
          "output_type": "stream",
          "name": "stderr",
          "text": [
            "100%|██████████| 24/24 [00:00<00:00, 85.13it/s]\n"
          ]
        },
        {
          "output_type": "stream",
          "name": "stdout",
          "text": [
            "Epoch 40: Train Loss=11.564760813962112 Validation Loss=13.769464095433554\n"
          ]
        },
        {
          "output_type": "stream",
          "name": "stderr",
          "text": [
            "100%|██████████| 24/24 [00:00<00:00, 83.80it/s]\n"
          ]
        },
        {
          "output_type": "stream",
          "name": "stdout",
          "text": [
            "Epoch 41: Train Loss=11.44190751056914 Validation Loss=13.64409613609314\n"
          ]
        },
        {
          "output_type": "stream",
          "name": "stderr",
          "text": [
            "100%|██████████| 24/24 [00:00<00:00, 84.31it/s]\n"
          ]
        },
        {
          "output_type": "stream",
          "name": "stdout",
          "text": [
            "Epoch 42: Train Loss=11.168481374176444 Validation Loss=13.597028811772665\n"
          ]
        },
        {
          "output_type": "stream",
          "name": "stderr",
          "text": [
            "100%|██████████| 24/24 [00:00<00:00, 85.13it/s]\n"
          ]
        },
        {
          "output_type": "stream",
          "name": "stdout",
          "text": [
            "Epoch 43: Train Loss=11.064334433293679 Validation Loss=13.518696943918863\n"
          ]
        },
        {
          "output_type": "stream",
          "name": "stderr",
          "text": [
            "100%|██████████| 24/24 [00:00<00:00, 84.32it/s]\n"
          ]
        },
        {
          "output_type": "stream",
          "name": "stdout",
          "text": [
            "Epoch 44: Train Loss=10.979851982701831 Validation Loss=13.501277287801107\n"
          ]
        },
        {
          "output_type": "stream",
          "name": "stderr",
          "text": [
            "100%|██████████| 24/24 [00:00<00:00, 84.70it/s]\n"
          ]
        },
        {
          "output_type": "stream",
          "name": "stdout",
          "text": [
            "Epoch 45: Train Loss=10.714598070486923 Validation Loss=13.28987447420756\n"
          ]
        },
        {
          "output_type": "stream",
          "name": "stderr",
          "text": [
            "100%|██████████| 24/24 [00:00<00:00, 83.73it/s]\n"
          ]
        },
        {
          "output_type": "stream",
          "name": "stdout",
          "text": [
            "Epoch 46: Train Loss=10.450600281809127 Validation Loss=13.247353871663412\n"
          ]
        },
        {
          "output_type": "stream",
          "name": "stderr",
          "text": [
            "100%|██████████| 24/24 [00:00<00:00, 85.69it/s]\n"
          ]
        },
        {
          "output_type": "stream",
          "name": "stdout",
          "text": [
            "Epoch 47: Train Loss=10.41731538935893 Validation Loss=13.195083697636923\n"
          ]
        },
        {
          "output_type": "stream",
          "name": "stderr",
          "text": [
            "100%|██████████| 24/24 [00:00<00:00, 84.07it/s]\n"
          ]
        },
        {
          "output_type": "stream",
          "name": "stdout",
          "text": [
            "Epoch 48: Train Loss=10.304896748133993 Validation Loss=13.061204512914022\n"
          ]
        },
        {
          "output_type": "stream",
          "name": "stderr",
          "text": [
            "100%|██████████| 24/24 [00:00<00:00, 84.61it/s]\n"
          ]
        },
        {
          "output_type": "stream",
          "name": "stdout",
          "text": [
            "Epoch 49: Train Loss=10.185789998871936 Validation Loss=13.035619894663492\n"
          ]
        },
        {
          "output_type": "stream",
          "name": "stderr",
          "text": [
            "100%|██████████| 24/24 [00:00<00:00, 83.94it/s]\n"
          ]
        },
        {
          "output_type": "stream",
          "name": "stdout",
          "text": [
            "Epoch 50: Train Loss=10.234956003580775 Validation Loss=12.912431875864664\n"
          ]
        },
        {
          "output_type": "stream",
          "name": "stderr",
          "text": [
            "100%|██████████| 24/24 [00:00<00:00, 84.79it/s]\n"
          ]
        },
        {
          "output_type": "stream",
          "name": "stdout",
          "text": [
            "Epoch 51: Train Loss=10.295290677802194 Validation Loss=12.918653090794882\n"
          ]
        },
        {
          "output_type": "stream",
          "name": "stderr",
          "text": [
            "100%|██████████| 24/24 [00:00<00:00, 85.51it/s]\n"
          ]
        },
        {
          "output_type": "stream",
          "name": "stdout",
          "text": [
            "Epoch 52: Train Loss=10.264949688027983 Validation Loss=13.341703176498413\n"
          ]
        },
        {
          "output_type": "stream",
          "name": "stderr",
          "text": [
            "100%|██████████| 24/24 [00:00<00:00, 85.63it/s]\n"
          ]
        },
        {
          "output_type": "stream",
          "name": "stdout",
          "text": [
            "Epoch 53: Train Loss=9.829303915662512 Validation Loss=12.997349500656128\n"
          ]
        },
        {
          "output_type": "stream",
          "name": "stderr",
          "text": [
            "100%|██████████| 24/24 [00:00<00:00, 83.70it/s]\n"
          ]
        },
        {
          "output_type": "stream",
          "name": "stdout",
          "text": [
            "Epoch 54: Train Loss=9.839693493949165 Validation Loss=12.682505051294962\n"
          ]
        },
        {
          "output_type": "stream",
          "name": "stderr",
          "text": [
            "100%|██████████| 24/24 [00:00<00:00, 84.62it/s]\n"
          ]
        },
        {
          "output_type": "stream",
          "name": "stdout",
          "text": [
            "Epoch 55: Train Loss=9.699577865803688 Validation Loss=12.688360373179117\n"
          ]
        },
        {
          "output_type": "stream",
          "name": "stderr",
          "text": [
            "100%|██████████| 24/24 [00:00<00:00, 84.89it/s]\n"
          ]
        },
        {
          "output_type": "stream",
          "name": "stdout",
          "text": [
            "Epoch 56: Train Loss=9.676292223144094 Validation Loss=12.8023202419281\n"
          ]
        },
        {
          "output_type": "stream",
          "name": "stderr",
          "text": [
            "100%|██████████| 24/24 [00:00<00:00, 83.38it/s]\n"
          ]
        },
        {
          "output_type": "stream",
          "name": "stdout",
          "text": [
            "Epoch 57: Train Loss=9.565483363237998 Validation Loss=12.905399481455484\n"
          ]
        },
        {
          "output_type": "stream",
          "name": "stderr",
          "text": [
            "100%|██████████| 24/24 [00:00<00:00, 84.52it/s]\n"
          ]
        },
        {
          "output_type": "stream",
          "name": "stdout",
          "text": [
            "Epoch 58: Train Loss=9.645518016143269 Validation Loss=12.497898976008097\n"
          ]
        },
        {
          "output_type": "stream",
          "name": "stderr",
          "text": [
            "100%|██████████| 24/24 [00:00<00:00, 83.54it/s]\n"
          ]
        },
        {
          "output_type": "stream",
          "name": "stdout",
          "text": [
            "Epoch 59: Train Loss=9.335188436480182 Validation Loss=12.396621068318685\n"
          ]
        },
        {
          "output_type": "stream",
          "name": "stderr",
          "text": [
            "100%|██████████| 24/24 [00:00<00:00, 84.25it/s]\n"
          ]
        },
        {
          "output_type": "stream",
          "name": "stdout",
          "text": [
            "Epoch 60: Train Loss=9.278986734150672 Validation Loss=12.463435649871826\n"
          ]
        },
        {
          "output_type": "stream",
          "name": "stderr",
          "text": [
            "100%|██████████| 24/24 [00:00<00:00, 84.88it/s]\n"
          ]
        },
        {
          "output_type": "stream",
          "name": "stdout",
          "text": [
            "Epoch 61: Train Loss=9.120263965676179 Validation Loss=12.341340065002441\n"
          ]
        },
        {
          "output_type": "stream",
          "name": "stderr",
          "text": [
            "100%|██████████| 24/24 [00:00<00:00, 85.14it/s]\n"
          ]
        },
        {
          "output_type": "stream",
          "name": "stdout",
          "text": [
            "Epoch 62: Train Loss=9.058901803019557 Validation Loss=12.302632967631022\n"
          ]
        },
        {
          "output_type": "stream",
          "name": "stderr",
          "text": [
            "100%|██████████| 24/24 [00:00<00:00, 85.65it/s]\n"
          ]
        },
        {
          "output_type": "stream",
          "name": "stdout",
          "text": [
            "Epoch 63: Train Loss=9.052777032733085 Validation Loss=12.259546836217245\n"
          ]
        },
        {
          "output_type": "stream",
          "name": "stderr",
          "text": [
            "100%|██████████| 24/24 [00:00<00:00, 84.38it/s]\n"
          ]
        },
        {
          "output_type": "stream",
          "name": "stdout",
          "text": [
            "Epoch 64: Train Loss=8.87699881116053 Validation Loss=12.193408489227295\n"
          ]
        },
        {
          "output_type": "stream",
          "name": "stderr",
          "text": [
            "100%|██████████| 24/24 [00:00<00:00, 84.38it/s]\n"
          ]
        },
        {
          "output_type": "stream",
          "name": "stdout",
          "text": [
            "Epoch 65: Train Loss=8.742925818976223 Validation Loss=12.120044310887655\n"
          ]
        },
        {
          "output_type": "stream",
          "name": "stderr",
          "text": [
            "100%|██████████| 24/24 [00:00<00:00, 84.66it/s]\n"
          ]
        },
        {
          "output_type": "stream",
          "name": "stdout",
          "text": [
            "Epoch 66: Train Loss=8.733499554139726 Validation Loss=12.093533992767334\n"
          ]
        },
        {
          "output_type": "stream",
          "name": "stderr",
          "text": [
            "100%|██████████| 24/24 [00:00<00:00, 85.03it/s]\n"
          ]
        },
        {
          "output_type": "stream",
          "name": "stdout",
          "text": [
            "Epoch 67: Train Loss=8.566082816460991 Validation Loss=12.018563350041708\n"
          ]
        },
        {
          "output_type": "stream",
          "name": "stderr",
          "text": [
            "100%|██████████| 24/24 [00:00<00:00, 84.67it/s]\n"
          ]
        },
        {
          "output_type": "stream",
          "name": "stdout",
          "text": [
            "Epoch 68: Train Loss=8.661565476868686 Validation Loss=11.986425240834555\n"
          ]
        },
        {
          "output_type": "stream",
          "name": "stderr",
          "text": [
            "100%|██████████| 24/24 [00:00<00:00, 82.30it/s]\n"
          ]
        },
        {
          "output_type": "stream",
          "name": "stdout",
          "text": [
            "Epoch 69: Train Loss=8.62965218947224 Validation Loss=11.96559190750122\n"
          ]
        },
        {
          "output_type": "stream",
          "name": "stderr",
          "text": [
            "100%|██████████| 24/24 [00:00<00:00, 84.87it/s]\n"
          ]
        },
        {
          "output_type": "stream",
          "name": "stdout",
          "text": [
            "Epoch 70: Train Loss=8.41889493363015 Validation Loss=11.924094200134277\n"
          ]
        },
        {
          "output_type": "stream",
          "name": "stderr",
          "text": [
            "100%|██████████| 24/24 [00:00<00:00, 83.68it/s]\n"
          ]
        },
        {
          "output_type": "stream",
          "name": "stdout",
          "text": [
            "Epoch 71: Train Loss=8.302812344786572 Validation Loss=11.980053027470907\n"
          ]
        },
        {
          "output_type": "stream",
          "name": "stderr",
          "text": [
            "100%|██████████| 24/24 [00:00<00:00, 84.36it/s]\n"
          ]
        },
        {
          "output_type": "stream",
          "name": "stdout",
          "text": [
            "Epoch 72: Train Loss=8.378662318279224 Validation Loss=11.869955142339071\n"
          ]
        },
        {
          "output_type": "stream",
          "name": "stderr",
          "text": [
            "100%|██████████| 24/24 [00:00<00:00, 84.13it/s]\n"
          ]
        },
        {
          "output_type": "stream",
          "name": "stdout",
          "text": [
            "Epoch 73: Train Loss=8.16488209243822 Validation Loss=12.109408537546793\n"
          ]
        },
        {
          "output_type": "stream",
          "name": "stderr",
          "text": [
            "100%|██████████| 24/24 [00:00<00:00, 85.25it/s]\n"
          ]
        },
        {
          "output_type": "stream",
          "name": "stdout",
          "text": [
            "Epoch 74: Train Loss=8.146249489186625 Validation Loss=11.78180988629659\n"
          ]
        },
        {
          "output_type": "stream",
          "name": "stderr",
          "text": [
            "100%|██████████| 24/24 [00:00<00:00, 84.14it/s]\n"
          ]
        },
        {
          "output_type": "stream",
          "name": "stdout",
          "text": [
            "Epoch 75: Train Loss=8.071814624642267 Validation Loss=11.756914774576822\n"
          ]
        },
        {
          "output_type": "stream",
          "name": "stderr",
          "text": [
            "100%|██████████| 24/24 [00:00<00:00, 83.89it/s]\n"
          ]
        },
        {
          "output_type": "stream",
          "name": "stdout",
          "text": [
            "Epoch 76: Train Loss=8.06040134397542 Validation Loss=11.810620466868082\n"
          ]
        },
        {
          "output_type": "stream",
          "name": "stderr",
          "text": [
            "100%|██████████| 24/24 [00:00<00:00, 83.28it/s]\n"
          ]
        },
        {
          "output_type": "stream",
          "name": "stdout",
          "text": [
            "Epoch 77: Train Loss=7.993769820517714 Validation Loss=11.776935577392578\n"
          ]
        },
        {
          "output_type": "stream",
          "name": "stderr",
          "text": [
            "100%|██████████| 24/24 [00:00<00:00, 84.50it/s]\n"
          ]
        },
        {
          "output_type": "stream",
          "name": "stdout",
          "text": [
            "Epoch 78: Train Loss=7.98371281954921 Validation Loss=11.701226711273193\n"
          ]
        },
        {
          "output_type": "stream",
          "name": "stderr",
          "text": [
            "100%|██████████| 24/24 [00:00<00:00, 83.40it/s]\n"
          ]
        },
        {
          "output_type": "stream",
          "name": "stdout",
          "text": [
            "Epoch 79: Train Loss=7.865777319807674 Validation Loss=11.754329284032186\n"
          ]
        },
        {
          "output_type": "stream",
          "name": "stderr",
          "text": [
            "100%|██████████| 24/24 [00:00<00:00, 84.37it/s]\n"
          ]
        },
        {
          "output_type": "stream",
          "name": "stdout",
          "text": [
            "Epoch 80: Train Loss=7.771447492396619 Validation Loss=11.611169497172037\n"
          ]
        },
        {
          "output_type": "stream",
          "name": "stderr",
          "text": [
            "100%|██████████| 24/24 [00:00<00:00, 85.35it/s]\n"
          ]
        },
        {
          "output_type": "stream",
          "name": "stdout",
          "text": [
            "Epoch 81: Train Loss=7.673605832488826 Validation Loss=11.582441091537476\n"
          ]
        },
        {
          "output_type": "stream",
          "name": "stderr",
          "text": [
            "100%|██████████| 24/24 [00:00<00:00, 85.48it/s]\n"
          ]
        },
        {
          "output_type": "stream",
          "name": "stdout",
          "text": [
            "Epoch 82: Train Loss=7.567364093041729 Validation Loss=11.58846116065979\n"
          ]
        },
        {
          "output_type": "stream",
          "name": "stderr",
          "text": [
            "100%|██████████| 24/24 [00:00<00:00, 84.74it/s]\n"
          ]
        },
        {
          "output_type": "stream",
          "name": "stdout",
          "text": [
            "Epoch 83: Train Loss=7.560746863334391 Validation Loss=11.556599934895834\n"
          ]
        },
        {
          "output_type": "stream",
          "name": "stderr",
          "text": [
            "100%|██████████| 24/24 [00:00<00:00, 83.30it/s]\n"
          ]
        },
        {
          "output_type": "stream",
          "name": "stdout",
          "text": [
            "Epoch 84: Train Loss=7.492758202670721 Validation Loss=11.71211306254069\n"
          ]
        },
        {
          "output_type": "stream",
          "name": "stderr",
          "text": [
            "100%|██████████| 24/24 [00:00<00:00, 83.98it/s]\n"
          ]
        },
        {
          "output_type": "stream",
          "name": "stdout",
          "text": [
            "Epoch 85: Train Loss=7.457098034029152 Validation Loss=11.915557781855265\n"
          ]
        },
        {
          "output_type": "stream",
          "name": "stderr",
          "text": [
            "100%|██████████| 24/24 [00:00<00:00, 85.03it/s]\n"
          ]
        },
        {
          "output_type": "stream",
          "name": "stdout",
          "text": [
            "Epoch 86: Train Loss=7.715971788888381 Validation Loss=11.519017775853476\n"
          ]
        },
        {
          "output_type": "stream",
          "name": "stderr",
          "text": [
            "100%|██████████| 24/24 [00:00<00:00, 84.88it/s]\n"
          ]
        },
        {
          "output_type": "stream",
          "name": "stdout",
          "text": [
            "Epoch 87: Train Loss=7.415279560665506 Validation Loss=11.464335997899374\n"
          ]
        },
        {
          "output_type": "stream",
          "name": "stderr",
          "text": [
            "100%|██████████| 24/24 [00:00<00:00, 83.67it/s]\n"
          ]
        },
        {
          "output_type": "stream",
          "name": "stdout",
          "text": [
            "Epoch 88: Train Loss=7.42574384532787 Validation Loss=11.513803243637085\n"
          ]
        },
        {
          "output_type": "stream",
          "name": "stderr",
          "text": [
            "100%|██████████| 24/24 [00:00<00:00, 82.85it/s]\n"
          ]
        },
        {
          "output_type": "stream",
          "name": "stdout",
          "text": [
            "Epoch 89: Train Loss=7.405562868847788 Validation Loss=11.84303069114685\n"
          ]
        },
        {
          "output_type": "stream",
          "name": "stderr",
          "text": [
            "100%|██████████| 24/24 [00:00<00:00, 83.93it/s]\n"
          ]
        },
        {
          "output_type": "stream",
          "name": "stdout",
          "text": [
            "Epoch 90: Train Loss=7.341829160482285 Validation Loss=11.479540824890137\n"
          ]
        },
        {
          "output_type": "stream",
          "name": "stderr",
          "text": [
            "100%|██████████| 24/24 [00:00<00:00, 80.55it/s]\n"
          ]
        },
        {
          "output_type": "stream",
          "name": "stdout",
          "text": [
            "Epoch 91: Train Loss=7.267826312930659 Validation Loss=11.786234219868978\n"
          ]
        },
        {
          "output_type": "stream",
          "name": "stderr",
          "text": [
            "100%|██████████| 24/24 [00:00<00:00, 81.78it/s]\n"
          ]
        },
        {
          "output_type": "stream",
          "name": "stdout",
          "text": [
            "Epoch 92: Train Loss=7.354087640599711 Validation Loss=11.524983565012613\n"
          ]
        },
        {
          "output_type": "stream",
          "name": "stderr",
          "text": [
            "100%|██████████| 24/24 [00:00<00:00, 81.99it/s]\n"
          ]
        },
        {
          "output_type": "stream",
          "name": "stdout",
          "text": [
            "Epoch 93: Train Loss=7.290738733682215 Validation Loss=11.351300875345865\n"
          ]
        },
        {
          "output_type": "stream",
          "name": "stderr",
          "text": [
            "100%|██████████| 24/24 [00:00<00:00, 79.88it/s]\n"
          ]
        },
        {
          "output_type": "stream",
          "name": "stdout",
          "text": [
            "Epoch 94: Train Loss=7.197484022713088 Validation Loss=11.34961986541748\n"
          ]
        },
        {
          "output_type": "stream",
          "name": "stderr",
          "text": [
            "100%|██████████| 24/24 [00:00<00:00, 80.15it/s]\n"
          ]
        },
        {
          "output_type": "stream",
          "name": "stdout",
          "text": [
            "Epoch 95: Train Loss=7.203148325546597 Validation Loss=11.336511452992758\n"
          ]
        },
        {
          "output_type": "stream",
          "name": "stderr",
          "text": [
            "100%|██████████| 24/24 [00:00<00:00, 79.44it/s]\n"
          ]
        },
        {
          "output_type": "stream",
          "name": "stdout",
          "text": [
            "Epoch 96: Train Loss=6.969528633698158 Validation Loss=11.322993516921997\n"
          ]
        },
        {
          "output_type": "stream",
          "name": "stderr",
          "text": [
            "100%|██████████| 24/24 [00:00<00:00, 79.16it/s]\n"
          ]
        },
        {
          "output_type": "stream",
          "name": "stdout",
          "text": [
            "Epoch 97: Train Loss=6.969515510662742 Validation Loss=11.296644687652588\n"
          ]
        },
        {
          "output_type": "stream",
          "name": "stderr",
          "text": [
            "100%|██████████| 24/24 [00:00<00:00, 85.20it/s]\n"
          ]
        },
        {
          "output_type": "stream",
          "name": "stdout",
          "text": [
            "Epoch 98: Train Loss=6.991314558033494 Validation Loss=11.632335424423218\n"
          ]
        },
        {
          "output_type": "stream",
          "name": "stderr",
          "text": [
            "100%|██████████| 24/24 [00:00<00:00, 85.12it/s]\n"
          ]
        },
        {
          "output_type": "stream",
          "name": "stdout",
          "text": [
            "Epoch 99: Train Loss=7.101443157752534 Validation Loss=11.461129983266195\n"
          ]
        }
      ],
      "source": [
        "train_dataset_tox = image_dataset[:num_train]\n",
        "test_dataset_tox = image_dataset[num_train:]\n",
        "\n",
        "model = CNN(in_channels=3, out_channels=1,image_size=144).to(device)\n",
        "cnn_molecule_results = train_nn(model, train_dataset_tox, test_dataset_tox, lr=5e-5,  regression=True, criterion=nn.MSELoss(), num_epochs=100)\n",
        "learning_curve(cnn_molecule_results)"
      ]
    },
    {
      "cell_type": "code",
      "execution_count": null,
      "metadata": {
        "id": "UOIEu0JE6T6g",
        "colab": {
          "base_uri": "https://localhost:8080/"
        },
        "outputId": "3411a5c4-ee1b-4bec-8288-fb5bb99a3f4f"
      },
      "outputs": [
        {
          "output_type": "stream",
          "name": "stderr",
          "text": [
            "  0%|          | 0/24 [00:00<?, ?it/s]/usr/local/lib/python3.7/dist-packages/torch/nn/modules/loss.py:530: UserWarning: Using a target size (torch.Size([32])) that is different to the input size (torch.Size([32, 1])). This will likely lead to incorrect results due to broadcasting. Please ensure they have the same size.\n",
            "  return F.mse_loss(input, target, reduction=self.reduction)\n",
            " 50%|█████     | 12/24 [00:00<00:00, 117.29it/s]/usr/local/lib/python3.7/dist-packages/torch/nn/modules/loss.py:530: UserWarning: Using a target size (torch.Size([16])) that is different to the input size (torch.Size([16, 1])). This will likely lead to incorrect results due to broadcasting. Please ensure they have the same size.\n",
            "  return F.mse_loss(input, target, reduction=self.reduction)\n",
            "100%|██████████| 24/24 [00:00<00:00, 125.93it/s]\n",
            "/usr/local/lib/python3.7/dist-packages/torch/nn/modules/loss.py:530: UserWarning: Using a target size (torch.Size([24])) that is different to the input size (torch.Size([24, 1])). This will likely lead to incorrect results due to broadcasting. Please ensure they have the same size.\n",
            "  return F.mse_loss(input, target, reduction=self.reduction)\n"
          ]
        },
        {
          "output_type": "stream",
          "name": "stdout",
          "text": [
            "Epoch 0: Train Loss=12.344202558199564 Validation Loss=4.346384863058726\n"
          ]
        },
        {
          "output_type": "stream",
          "name": "stderr",
          "text": [
            "100%|██████████| 24/24 [00:00<00:00, 143.49it/s]\n"
          ]
        },
        {
          "output_type": "stream",
          "name": "stdout",
          "text": [
            "Epoch 1: Train Loss=5.847105653749572 Validation Loss=4.304736256599426\n"
          ]
        },
        {
          "output_type": "stream",
          "name": "stderr",
          "text": [
            "100%|██████████| 24/24 [00:00<00:00, 134.51it/s]\n"
          ]
        },
        {
          "output_type": "stream",
          "name": "stdout",
          "text": [
            "Epoch 2: Train Loss=5.658965732971275 Validation Loss=4.38089656829834\n"
          ]
        },
        {
          "output_type": "stream",
          "name": "stderr",
          "text": [
            "100%|██████████| 24/24 [00:00<00:00, 134.70it/s]\n"
          ]
        },
        {
          "output_type": "stream",
          "name": "stdout",
          "text": [
            "Epoch 3: Train Loss=4.8303575874335 Validation Loss=4.793401002883911\n"
          ]
        },
        {
          "output_type": "stream",
          "name": "stderr",
          "text": [
            "100%|██████████| 24/24 [00:00<00:00, 126.56it/s]\n"
          ]
        },
        {
          "output_type": "stream",
          "name": "stdout",
          "text": [
            "Epoch 4: Train Loss=5.214747579399771 Validation Loss=8.385441184043884\n"
          ]
        },
        {
          "output_type": "stream",
          "name": "stderr",
          "text": [
            "100%|██████████| 24/24 [00:00<00:00, 142.02it/s]\n"
          ]
        },
        {
          "output_type": "stream",
          "name": "stdout",
          "text": [
            "Epoch 5: Train Loss=6.479095048022934 Validation Loss=7.489485303560893\n"
          ]
        },
        {
          "output_type": "stream",
          "name": "stderr",
          "text": [
            "100%|██████████| 24/24 [00:00<00:00, 141.40it/s]\n"
          ]
        },
        {
          "output_type": "stream",
          "name": "stdout",
          "text": [
            "Epoch 6: Train Loss=6.318086865308909 Validation Loss=8.678993423779806\n"
          ]
        },
        {
          "output_type": "stream",
          "name": "stderr",
          "text": [
            "100%|██████████| 24/24 [00:00<00:00, 143.63it/s]\n"
          ]
        },
        {
          "output_type": "stream",
          "name": "stdout",
          "text": [
            "Epoch 7: Train Loss=5.931889742727207 Validation Loss=4.304019927978516\n"
          ]
        },
        {
          "output_type": "stream",
          "name": "stderr",
          "text": [
            "100%|██████████| 24/24 [00:00<00:00, 137.51it/s]\n"
          ]
        },
        {
          "output_type": "stream",
          "name": "stdout",
          "text": [
            "Epoch 8: Train Loss=5.637485502913393 Validation Loss=4.286545813083649\n"
          ]
        },
        {
          "output_type": "stream",
          "name": "stderr",
          "text": [
            "100%|██████████| 24/24 [00:00<00:00, 140.36it/s]\n"
          ]
        },
        {
          "output_type": "stream",
          "name": "stdout",
          "text": [
            "Epoch 9: Train Loss=5.501812477855004 Validation Loss=6.79912010828654\n"
          ]
        },
        {
          "output_type": "stream",
          "name": "stderr",
          "text": [
            "100%|██████████| 24/24 [00:00<00:00, 142.65it/s]\n"
          ]
        },
        {
          "output_type": "stream",
          "name": "stdout",
          "text": [
            "Epoch 10: Train Loss=5.537909001937678 Validation Loss=4.410092731316884\n"
          ]
        },
        {
          "output_type": "stream",
          "name": "stderr",
          "text": [
            "100%|██████████| 24/24 [00:00<00:00, 141.24it/s]\n"
          ]
        },
        {
          "output_type": "stream",
          "name": "stdout",
          "text": [
            "Epoch 11: Train Loss=5.219593096558881 Validation Loss=4.479960997899373\n"
          ]
        },
        {
          "output_type": "stream",
          "name": "stderr",
          "text": [
            "100%|██████████| 24/24 [00:00<00:00, 143.54it/s]\n"
          ]
        },
        {
          "output_type": "stream",
          "name": "stdout",
          "text": [
            "Epoch 12: Train Loss=4.940729779037528 Validation Loss=4.354859073956807\n"
          ]
        },
        {
          "output_type": "stream",
          "name": "stderr",
          "text": [
            "100%|██████████| 24/24 [00:00<00:00, 142.39it/s]\n"
          ]
        },
        {
          "output_type": "stream",
          "name": "stdout",
          "text": [
            "Epoch 13: Train Loss=5.103799012056353 Validation Loss=4.33147253592809\n"
          ]
        },
        {
          "output_type": "stream",
          "name": "stderr",
          "text": [
            "100%|██████████| 24/24 [00:00<00:00, 142.50it/s]\n"
          ]
        },
        {
          "output_type": "stream",
          "name": "stdout",
          "text": [
            "Epoch 14: Train Loss=5.7663980485147635 Validation Loss=4.454841276009877\n"
          ]
        },
        {
          "output_type": "stream",
          "name": "stderr",
          "text": [
            "100%|██████████| 24/24 [00:00<00:00, 140.78it/s]\n"
          ]
        },
        {
          "output_type": "stream",
          "name": "stdout",
          "text": [
            "Epoch 15: Train Loss=4.980999513471898 Validation Loss=4.294078330198924\n"
          ]
        },
        {
          "output_type": "stream",
          "name": "stderr",
          "text": [
            "100%|██████████| 24/24 [00:00<00:00, 143.40it/s]\n"
          ]
        },
        {
          "output_type": "stream",
          "name": "stdout",
          "text": [
            "Epoch 16: Train Loss=5.234517049624058 Validation Loss=4.45268851518631\n"
          ]
        },
        {
          "output_type": "stream",
          "name": "stderr",
          "text": [
            "100%|██████████| 24/24 [00:00<00:00, 135.28it/s]\n"
          ]
        },
        {
          "output_type": "stream",
          "name": "stdout",
          "text": [
            "Epoch 17: Train Loss=5.004496403528317 Validation Loss=4.282646755377452\n"
          ]
        },
        {
          "output_type": "stream",
          "name": "stderr",
          "text": [
            "100%|██████████| 24/24 [00:00<00:00, 137.87it/s]\n"
          ]
        },
        {
          "output_type": "stream",
          "name": "stdout",
          "text": [
            "Epoch 18: Train Loss=5.291460268530294 Validation Loss=4.406309902667999\n"
          ]
        },
        {
          "output_type": "stream",
          "name": "stderr",
          "text": [
            "100%|██████████| 24/24 [00:00<00:00, 136.80it/s]\n"
          ]
        },
        {
          "output_type": "stream",
          "name": "stdout",
          "text": [
            "Epoch 19: Train Loss=4.9937723872079225 Validation Loss=4.351969063282013\n"
          ]
        },
        {
          "output_type": "stream",
          "name": "stderr",
          "text": [
            "100%|██████████| 24/24 [00:00<00:00, 136.31it/s]\n"
          ]
        },
        {
          "output_type": "stream",
          "name": "stdout",
          "text": [
            "Epoch 20: Train Loss=5.374803458638546 Validation Loss=4.979398866494496\n"
          ]
        },
        {
          "output_type": "stream",
          "name": "stderr",
          "text": [
            "100%|██████████| 24/24 [00:00<00:00, 133.82it/s]\n"
          ]
        },
        {
          "output_type": "stream",
          "name": "stdout",
          "text": [
            "Epoch 21: Train Loss=5.165064967133418 Validation Loss=4.495249569416046\n"
          ]
        },
        {
          "output_type": "stream",
          "name": "stderr",
          "text": [
            "100%|██████████| 24/24 [00:00<00:00, 133.64it/s]\n"
          ]
        },
        {
          "output_type": "stream",
          "name": "stdout",
          "text": [
            "Epoch 22: Train Loss=4.847252007841146 Validation Loss=4.281007707118988\n"
          ]
        },
        {
          "output_type": "stream",
          "name": "stderr",
          "text": [
            "100%|██████████| 24/24 [00:00<00:00, 142.30it/s]\n"
          ]
        },
        {
          "output_type": "stream",
          "name": "stdout",
          "text": [
            "Epoch 23: Train Loss=4.924473260695698 Validation Loss=6.001926640669505\n"
          ]
        },
        {
          "output_type": "stream",
          "name": "stderr",
          "text": [
            "100%|██████████| 24/24 [00:00<00:00, 93.59it/s]\n"
          ]
        },
        {
          "output_type": "stream",
          "name": "stdout",
          "text": [
            "Epoch 24: Train Loss=5.275680014443686 Validation Loss=4.385905921459198\n"
          ]
        },
        {
          "output_type": "stream",
          "name": "stderr",
          "text": [
            "100%|██████████| 24/24 [00:00<00:00, 78.82it/s]\n"
          ]
        },
        {
          "output_type": "stream",
          "name": "stdout",
          "text": [
            "Epoch 25: Train Loss=5.1705344397554915 Validation Loss=4.659417788187663\n"
          ]
        },
        {
          "output_type": "stream",
          "name": "stderr",
          "text": [
            "100%|██████████| 24/24 [00:00<00:00, 126.07it/s]\n"
          ]
        },
        {
          "output_type": "stream",
          "name": "stdout",
          "text": [
            "Epoch 26: Train Loss=4.981240185924413 Validation Loss=5.510504523913066\n"
          ]
        },
        {
          "output_type": "stream",
          "name": "stderr",
          "text": [
            "100%|██████████| 24/24 [00:00<00:00, 140.92it/s]\n"
          ]
        },
        {
          "output_type": "stream",
          "name": "stdout",
          "text": [
            "Epoch 27: Train Loss=5.133734451103046 Validation Loss=4.282142559687297\n"
          ]
        },
        {
          "output_type": "stream",
          "name": "stderr",
          "text": [
            "100%|██████████| 24/24 [00:00<00:00, 135.89it/s]\n"
          ]
        },
        {
          "output_type": "stream",
          "name": "stdout",
          "text": [
            "Epoch 28: Train Loss=5.025913009476654 Validation Loss=4.507986048857371\n"
          ]
        },
        {
          "output_type": "stream",
          "name": "stderr",
          "text": [
            "100%|██████████| 24/24 [00:00<00:00, 136.33it/s]\n"
          ]
        },
        {
          "output_type": "stream",
          "name": "stdout",
          "text": [
            "Epoch 29: Train Loss=4.953520973913868 Validation Loss=4.772586067517598\n"
          ]
        },
        {
          "output_type": "stream",
          "name": "stderr",
          "text": [
            "100%|██████████| 24/24 [00:00<00:00, 144.61it/s]\n"
          ]
        },
        {
          "output_type": "stream",
          "name": "stdout",
          "text": [
            "Epoch 30: Train Loss=4.967872041811256 Validation Loss=4.504463215668996\n"
          ]
        },
        {
          "output_type": "stream",
          "name": "stderr",
          "text": [
            "100%|██████████| 24/24 [00:00<00:00, 135.73it/s]\n"
          ]
        },
        {
          "output_type": "stream",
          "name": "stdout",
          "text": [
            "Epoch 31: Train Loss=5.01611918783642 Validation Loss=4.398763716220856\n"
          ]
        },
        {
          "output_type": "stream",
          "name": "stderr",
          "text": [
            "100%|██████████| 24/24 [00:00<00:00, 121.01it/s]\n"
          ]
        },
        {
          "output_type": "stream",
          "name": "stdout",
          "text": [
            "Epoch 32: Train Loss=4.95158138646701 Validation Loss=4.533627927303314\n"
          ]
        },
        {
          "output_type": "stream",
          "name": "stderr",
          "text": [
            "100%|██████████| 24/24 [00:00<00:00, 96.14it/s]\n"
          ]
        },
        {
          "output_type": "stream",
          "name": "stdout",
          "text": [
            "Epoch 33: Train Loss=5.355300502137186 Validation Loss=4.334431807200114\n"
          ]
        },
        {
          "output_type": "stream",
          "name": "stderr",
          "text": [
            "100%|██████████| 24/24 [00:00<00:00, 96.33it/s]\n"
          ]
        },
        {
          "output_type": "stream",
          "name": "stdout",
          "text": [
            "Epoch 34: Train Loss=4.8833580197623965 Validation Loss=4.524972240130107\n"
          ]
        },
        {
          "output_type": "stream",
          "name": "stderr",
          "text": [
            "100%|██████████| 24/24 [00:00<00:00, 86.49it/s]\n"
          ]
        },
        {
          "output_type": "stream",
          "name": "stdout",
          "text": [
            "Epoch 35: Train Loss=5.687354078647708 Validation Loss=4.308849612871806\n"
          ]
        },
        {
          "output_type": "stream",
          "name": "stderr",
          "text": [
            "100%|██████████| 24/24 [00:00<00:00, 42.15it/s]\n"
          ]
        },
        {
          "output_type": "stream",
          "name": "stdout",
          "text": [
            "Epoch 36: Train Loss=4.985655704751495 Validation Loss=5.793708761533101\n"
          ]
        },
        {
          "output_type": "stream",
          "name": "stderr",
          "text": [
            "100%|██████████| 24/24 [00:00<00:00, 108.26it/s]\n"
          ]
        },
        {
          "output_type": "stream",
          "name": "stdout",
          "text": [
            "Epoch 37: Train Loss=5.298759755145133 Validation Loss=4.337239662806193\n"
          ]
        },
        {
          "output_type": "stream",
          "name": "stderr",
          "text": [
            "100%|██████████| 24/24 [00:00<00:00, 144.00it/s]\n"
          ]
        },
        {
          "output_type": "stream",
          "name": "stdout",
          "text": [
            "Epoch 38: Train Loss=4.98037510351384 Validation Loss=4.301304618517558\n"
          ]
        },
        {
          "output_type": "stream",
          "name": "stderr",
          "text": [
            "100%|██████████| 24/24 [00:00<00:00, 136.14it/s]\n"
          ]
        },
        {
          "output_type": "stream",
          "name": "stdout",
          "text": [
            "Epoch 39: Train Loss=4.84323306101728 Validation Loss=4.396640618642171\n"
          ]
        },
        {
          "output_type": "stream",
          "name": "stderr",
          "text": [
            "100%|██████████| 24/24 [00:00<00:00, 131.07it/s]\n"
          ]
        },
        {
          "output_type": "stream",
          "name": "stdout",
          "text": [
            "Epoch 40: Train Loss=4.793583013621539 Validation Loss=5.360837817192078\n"
          ]
        },
        {
          "output_type": "stream",
          "name": "stderr",
          "text": [
            "100%|██████████| 24/24 [00:00<00:00, 140.27it/s]\n"
          ]
        },
        {
          "output_type": "stream",
          "name": "stdout",
          "text": [
            "Epoch 41: Train Loss=5.187083864295134 Validation Loss=5.151366472244263\n"
          ]
        },
        {
          "output_type": "stream",
          "name": "stderr",
          "text": [
            "100%|██████████| 24/24 [00:00<00:00, 135.41it/s]\n"
          ]
        },
        {
          "output_type": "stream",
          "name": "stdout",
          "text": [
            "Epoch 42: Train Loss=5.272775914275135 Validation Loss=4.560646613438924\n"
          ]
        },
        {
          "output_type": "stream",
          "name": "stderr",
          "text": [
            "100%|██████████| 24/24 [00:00<00:00, 137.87it/s]\n"
          ]
        },
        {
          "output_type": "stream",
          "name": "stdout",
          "text": [
            "Epoch 43: Train Loss=5.405307979467987 Validation Loss=5.056539575258891\n"
          ]
        },
        {
          "output_type": "stream",
          "name": "stderr",
          "text": [
            "100%|██████████| 24/24 [00:00<00:00, 137.81it/s]\n"
          ]
        },
        {
          "output_type": "stream",
          "name": "stdout",
          "text": [
            "Epoch 44: Train Loss=5.574854968781416 Validation Loss=4.445896883805593\n"
          ]
        },
        {
          "output_type": "stream",
          "name": "stderr",
          "text": [
            "100%|██████████| 24/24 [00:00<00:00, 140.19it/s]\n"
          ]
        },
        {
          "output_type": "stream",
          "name": "stdout",
          "text": [
            "Epoch 45: Train Loss=4.974828566064236 Validation Loss=5.050335546334584\n"
          ]
        },
        {
          "output_type": "stream",
          "name": "stderr",
          "text": [
            "100%|██████████| 24/24 [00:00<00:00, 130.00it/s]\n"
          ]
        },
        {
          "output_type": "stream",
          "name": "stdout",
          "text": [
            "Epoch 46: Train Loss=4.858787500400916 Validation Loss=4.477988362312317\n"
          ]
        },
        {
          "output_type": "stream",
          "name": "stderr",
          "text": [
            "100%|██████████| 24/24 [00:00<00:00, 135.28it/s]\n"
          ]
        },
        {
          "output_type": "stream",
          "name": "stdout",
          "text": [
            "Epoch 47: Train Loss=4.81493129181943 Validation Loss=5.327772915363312\n"
          ]
        },
        {
          "output_type": "stream",
          "name": "stderr",
          "text": [
            "100%|██████████| 24/24 [00:00<00:00, 141.53it/s]\n"
          ]
        },
        {
          "output_type": "stream",
          "name": "stdout",
          "text": [
            "Epoch 48: Train Loss=4.86932277259234 Validation Loss=4.283038814862569\n"
          ]
        },
        {
          "output_type": "stream",
          "name": "stderr",
          "text": [
            "100%|██████████| 24/24 [00:00<00:00, 125.95it/s]\n"
          ]
        },
        {
          "output_type": "stream",
          "name": "stdout",
          "text": [
            "Epoch 49: Train Loss=4.8164651888844885 Validation Loss=4.4151016275087995\n"
          ]
        },
        {
          "output_type": "stream",
          "name": "stderr",
          "text": [
            "100%|██████████| 24/24 [00:00<00:00, 132.37it/s]\n"
          ]
        },
        {
          "output_type": "stream",
          "name": "stdout",
          "text": [
            "Epoch 50: Train Loss=4.811865500684569 Validation Loss=4.3516672650973005\n"
          ]
        },
        {
          "output_type": "stream",
          "name": "stderr",
          "text": [
            "100%|██████████| 24/24 [00:00<00:00, 139.71it/s]\n"
          ]
        },
        {
          "output_type": "stream",
          "name": "stdout",
          "text": [
            "Epoch 51: Train Loss=4.889530636042191 Validation Loss=4.355806628863017\n"
          ]
        },
        {
          "output_type": "stream",
          "name": "stderr",
          "text": [
            "100%|██████████| 24/24 [00:00<00:00, 139.34it/s]\n"
          ]
        },
        {
          "output_type": "stream",
          "name": "stdout",
          "text": [
            "Epoch 52: Train Loss=4.76867457136387 Validation Loss=4.640256841977437\n"
          ]
        },
        {
          "output_type": "stream",
          "name": "stderr",
          "text": [
            "100%|██████████| 24/24 [00:00<00:00, 144.84it/s]\n"
          ]
        },
        {
          "output_type": "stream",
          "name": "stdout",
          "text": [
            "Epoch 53: Train Loss=5.161137976540822 Validation Loss=4.946166535218556\n"
          ]
        },
        {
          "output_type": "stream",
          "name": "stderr",
          "text": [
            "100%|██████████| 24/24 [00:00<00:00, 142.81it/s]\n"
          ]
        },
        {
          "output_type": "stream",
          "name": "stdout",
          "text": [
            "Epoch 54: Train Loss=5.5593675639188005 Validation Loss=5.0528759360313416\n"
          ]
        },
        {
          "output_type": "stream",
          "name": "stderr",
          "text": [
            "100%|██████████| 24/24 [00:00<00:00, 140.17it/s]\n"
          ]
        },
        {
          "output_type": "stream",
          "name": "stdout",
          "text": [
            "Epoch 55: Train Loss=5.008525010057438 Validation Loss=4.571987013022105\n"
          ]
        },
        {
          "output_type": "stream",
          "name": "stderr",
          "text": [
            "100%|██████████| 24/24 [00:00<00:00, 46.42it/s]\n"
          ]
        },
        {
          "output_type": "stream",
          "name": "stdout",
          "text": [
            "Epoch 56: Train Loss=4.968473995564222 Validation Loss=4.287090361118317\n"
          ]
        },
        {
          "output_type": "stream",
          "name": "stderr",
          "text": [
            "100%|██████████| 24/24 [00:00<00:00, 62.56it/s]\n"
          ]
        },
        {
          "output_type": "stream",
          "name": "stdout",
          "text": [
            "Epoch 57: Train Loss=4.995446049705058 Validation Loss=4.488224347432454\n"
          ]
        },
        {
          "output_type": "stream",
          "name": "stderr",
          "text": [
            "100%|██████████| 24/24 [00:00<00:00, 56.07it/s]\n"
          ]
        },
        {
          "output_type": "stream",
          "name": "stdout",
          "text": [
            "Epoch 58: Train Loss=4.889014019052805 Validation Loss=4.732721785704295\n"
          ]
        },
        {
          "output_type": "stream",
          "name": "stderr",
          "text": [
            "100%|██████████| 24/24 [00:00<00:00, 58.11it/s]\n"
          ]
        },
        {
          "output_type": "stream",
          "name": "stdout",
          "text": [
            "Epoch 59: Train Loss=5.074277888299716 Validation Loss=4.340730627377828\n"
          ]
        },
        {
          "output_type": "stream",
          "name": "stderr",
          "text": [
            "100%|██████████| 24/24 [00:00<00:00, 35.53it/s]\n"
          ]
        },
        {
          "output_type": "stream",
          "name": "stdout",
          "text": [
            "Epoch 60: Train Loss=5.107144410848687 Validation Loss=4.55971626440684\n"
          ]
        },
        {
          "output_type": "stream",
          "name": "stderr",
          "text": [
            "100%|██████████| 24/24 [00:00<00:00, 43.18it/s]\n"
          ]
        },
        {
          "output_type": "stream",
          "name": "stdout",
          "text": [
            "Epoch 61: Train Loss=4.8569276455144115 Validation Loss=4.429217020670573\n"
          ]
        },
        {
          "output_type": "stream",
          "name": "stderr",
          "text": [
            "100%|██████████| 24/24 [00:00<00:00, 61.06it/s]\n"
          ]
        },
        {
          "output_type": "stream",
          "name": "stdout",
          "text": [
            "Epoch 62: Train Loss=5.043959558519639 Validation Loss=4.451111336549123\n"
          ]
        },
        {
          "output_type": "stream",
          "name": "stderr",
          "text": [
            "100%|██████████| 24/24 [00:00<00:00, 49.65it/s]\n"
          ]
        },
        {
          "output_type": "stream",
          "name": "stdout",
          "text": [
            "Epoch 63: Train Loss=4.779057788373403 Validation Loss=5.510496119658153\n"
          ]
        },
        {
          "output_type": "stream",
          "name": "stderr",
          "text": [
            "100%|██████████| 24/24 [00:00<00:00, 60.73it/s]\n"
          ]
        },
        {
          "output_type": "stream",
          "name": "stdout",
          "text": [
            "Epoch 64: Train Loss=4.7968970060150395 Validation Loss=4.414808372656505\n"
          ]
        },
        {
          "output_type": "stream",
          "name": "stderr",
          "text": [
            "100%|██████████| 24/24 [00:00<00:00, 42.99it/s]\n"
          ]
        },
        {
          "output_type": "stream",
          "name": "stdout",
          "text": [
            "Epoch 65: Train Loss=4.775314224758913 Validation Loss=4.280608594417572\n"
          ]
        },
        {
          "output_type": "stream",
          "name": "stderr",
          "text": [
            "100%|██████████| 24/24 [00:00<00:00, 138.40it/s]\n"
          ]
        },
        {
          "output_type": "stream",
          "name": "stdout",
          "text": [
            "Epoch 66: Train Loss=4.912954991600546 Validation Loss=4.451614121596019\n"
          ]
        },
        {
          "output_type": "stream",
          "name": "stderr",
          "text": [
            "100%|██████████| 24/24 [00:00<00:00, 133.54it/s]\n"
          ]
        },
        {
          "output_type": "stream",
          "name": "stdout",
          "text": [
            "Epoch 67: Train Loss=4.947109428774219 Validation Loss=4.280406554539998\n"
          ]
        },
        {
          "output_type": "stream",
          "name": "stderr",
          "text": [
            "100%|██████████| 24/24 [00:00<00:00, 143.17it/s]\n"
          ]
        },
        {
          "output_type": "stream",
          "name": "stdout",
          "text": [
            "Epoch 68: Train Loss=4.9112236486429515 Validation Loss=4.336252927780151\n"
          ]
        },
        {
          "output_type": "stream",
          "name": "stderr",
          "text": [
            "100%|██████████| 24/24 [00:00<00:00, 140.03it/s]\n"
          ]
        },
        {
          "output_type": "stream",
          "name": "stdout",
          "text": [
            "Epoch 69: Train Loss=5.120788882120428 Validation Loss=4.285904347896576\n"
          ]
        },
        {
          "output_type": "stream",
          "name": "stderr",
          "text": [
            "100%|██████████| 24/24 [00:00<00:00, 139.83it/s]\n"
          ]
        },
        {
          "output_type": "stream",
          "name": "stdout",
          "text": [
            "Epoch 70: Train Loss=5.751290165299507 Validation Loss=4.284384191036224\n"
          ]
        },
        {
          "output_type": "stream",
          "name": "stderr",
          "text": [
            "100%|██████████| 24/24 [00:00<00:00, 121.15it/s]\n"
          ]
        },
        {
          "output_type": "stream",
          "name": "stdout",
          "text": [
            "Epoch 71: Train Loss=4.940191828662916 Validation Loss=4.356182932853699\n"
          ]
        },
        {
          "output_type": "stream",
          "name": "stderr",
          "text": [
            "100%|██████████| 24/24 [00:00<00:00, 136.63it/s]\n"
          ]
        },
        {
          "output_type": "stream",
          "name": "stdout",
          "text": [
            "Epoch 72: Train Loss=5.262975477653028 Validation Loss=4.76985905567805\n"
          ]
        },
        {
          "output_type": "stream",
          "name": "stderr",
          "text": [
            "100%|██████████| 24/24 [00:00<00:00, 136.06it/s]\n"
          ]
        },
        {
          "output_type": "stream",
          "name": "stdout",
          "text": [
            "Epoch 73: Train Loss=5.331769288557987 Validation Loss=4.286913335323334\n"
          ]
        },
        {
          "output_type": "stream",
          "name": "stderr",
          "text": [
            "100%|██████████| 24/24 [00:00<00:00, 141.54it/s]\n"
          ]
        },
        {
          "output_type": "stream",
          "name": "stdout",
          "text": [
            "Epoch 74: Train Loss=4.962448539873718 Validation Loss=4.720319887002309\n"
          ]
        },
        {
          "output_type": "stream",
          "name": "stderr",
          "text": [
            "100%|██████████| 24/24 [00:00<00:00, 140.77it/s]\n"
          ]
        },
        {
          "output_type": "stream",
          "name": "stdout",
          "text": [
            "Epoch 75: Train Loss=5.2019387459813204 Validation Loss=4.473224957784017\n"
          ]
        },
        {
          "output_type": "stream",
          "name": "stderr",
          "text": [
            "100%|██████████| 24/24 [00:00<00:00, 132.94it/s]\n"
          ]
        },
        {
          "output_type": "stream",
          "name": "stdout",
          "text": [
            "Epoch 76: Train Loss=4.919378752410655 Validation Loss=4.379226227601369\n"
          ]
        },
        {
          "output_type": "stream",
          "name": "stderr",
          "text": [
            "100%|██████████| 24/24 [00:00<00:00, 132.56it/s]\n"
          ]
        },
        {
          "output_type": "stream",
          "name": "stdout",
          "text": [
            "Epoch 77: Train Loss=4.764749457227697 Validation Loss=4.40231317281723\n"
          ]
        },
        {
          "output_type": "stream",
          "name": "stderr",
          "text": [
            "100%|██████████| 24/24 [00:00<00:00, 142.65it/s]\n"
          ]
        },
        {
          "output_type": "stream",
          "name": "stdout",
          "text": [
            "Epoch 78: Train Loss=4.773088054929653 Validation Loss=4.350049992402394\n"
          ]
        },
        {
          "output_type": "stream",
          "name": "stderr",
          "text": [
            "100%|██████████| 24/24 [00:00<00:00, 139.51it/s]\n"
          ]
        },
        {
          "output_type": "stream",
          "name": "stdout",
          "text": [
            "Epoch 79: Train Loss=5.006633145820534 Validation Loss=4.368143379688263\n"
          ]
        },
        {
          "output_type": "stream",
          "name": "stderr",
          "text": [
            "100%|██████████| 24/24 [00:00<00:00, 122.08it/s]\n"
          ]
        },
        {
          "output_type": "stream",
          "name": "stdout",
          "text": [
            "Epoch 80: Train Loss=4.775631372432387 Validation Loss=5.368464946746826\n"
          ]
        },
        {
          "output_type": "stream",
          "name": "stderr",
          "text": [
            "100%|██████████| 24/24 [00:00<00:00, 85.79it/s] \n"
          ]
        },
        {
          "output_type": "stream",
          "name": "stdout",
          "text": [
            "Epoch 81: Train Loss=5.117613750377482 Validation Loss=4.298615018526713\n"
          ]
        },
        {
          "output_type": "stream",
          "name": "stderr",
          "text": [
            "100%|██████████| 24/24 [00:00<00:00, 42.12it/s]\n"
          ]
        },
        {
          "output_type": "stream",
          "name": "stdout",
          "text": [
            "Epoch 82: Train Loss=4.757260966536038 Validation Loss=4.283349911371867\n"
          ]
        },
        {
          "output_type": "stream",
          "name": "stderr",
          "text": [
            "100%|██████████| 24/24 [00:00<00:00, 74.27it/s]\n"
          ]
        },
        {
          "output_type": "stream",
          "name": "stdout",
          "text": [
            "Epoch 83: Train Loss=4.777112739294628 Validation Loss=4.295888404051463\n"
          ]
        },
        {
          "output_type": "stream",
          "name": "stderr",
          "text": [
            "100%|██████████| 24/24 [00:00<00:00, 82.76it/s]\n"
          ]
        },
        {
          "output_type": "stream",
          "name": "stdout",
          "text": [
            "Epoch 84: Train Loss=4.845398327418908 Validation Loss=4.37754104534785\n"
          ]
        },
        {
          "output_type": "stream",
          "name": "stderr",
          "text": [
            "100%|██████████| 24/24 [00:00<00:00, 139.79it/s]\n"
          ]
        },
        {
          "output_type": "stream",
          "name": "stdout",
          "text": [
            "Epoch 85: Train Loss=4.734894718590244 Validation Loss=4.787953515847524\n"
          ]
        },
        {
          "output_type": "stream",
          "name": "stderr",
          "text": [
            "100%|██████████| 24/24 [00:00<00:00, 77.35it/s]\n"
          ]
        },
        {
          "output_type": "stream",
          "name": "stdout",
          "text": [
            "Epoch 86: Train Loss=4.782087503450731 Validation Loss=4.340992093086243\n"
          ]
        },
        {
          "output_type": "stream",
          "name": "stderr",
          "text": [
            "100%|██████████| 24/24 [00:00<00:00, 78.40it/s]\n"
          ]
        },
        {
          "output_type": "stream",
          "name": "stdout",
          "text": [
            "Epoch 87: Train Loss=4.844997771025433 Validation Loss=4.362881104151408\n"
          ]
        },
        {
          "output_type": "stream",
          "name": "stderr",
          "text": [
            "100%|██████████| 24/24 [00:00<00:00, 77.91it/s]\n"
          ]
        },
        {
          "output_type": "stream",
          "name": "stdout",
          "text": [
            "Epoch 88: Train Loss=4.733074446827204 Validation Loss=4.445349295934041\n"
          ]
        },
        {
          "output_type": "stream",
          "name": "stderr",
          "text": [
            "100%|██████████| 24/24 [00:00<00:00, 57.10it/s]\n"
          ]
        },
        {
          "output_type": "stream",
          "name": "stdout",
          "text": [
            "Epoch 89: Train Loss=4.816790720667691 Validation Loss=4.551293293635051\n"
          ]
        },
        {
          "output_type": "stream",
          "name": "stderr",
          "text": [
            "100%|██████████| 24/24 [00:00<00:00, 55.89it/s]\n"
          ]
        },
        {
          "output_type": "stream",
          "name": "stdout",
          "text": [
            "Epoch 90: Train Loss=4.833045677213463 Validation Loss=4.886961241563161\n"
          ]
        },
        {
          "output_type": "stream",
          "name": "stderr",
          "text": [
            "100%|██████████| 24/24 [00:00<00:00, 54.14it/s]\n"
          ]
        },
        {
          "output_type": "stream",
          "name": "stdout",
          "text": [
            "Epoch 91: Train Loss=5.022019026836943 Validation Loss=6.72399361928304\n"
          ]
        },
        {
          "output_type": "stream",
          "name": "stderr",
          "text": [
            "100%|██████████| 24/24 [00:00<00:00, 65.15it/s]\n"
          ]
        },
        {
          "output_type": "stream",
          "name": "stdout",
          "text": [
            "Epoch 92: Train Loss=4.971385324918611 Validation Loss=4.381752868493398\n"
          ]
        },
        {
          "output_type": "stream",
          "name": "stderr",
          "text": [
            "100%|██████████| 24/24 [00:00<00:00, 58.43it/s]\n"
          ]
        },
        {
          "output_type": "stream",
          "name": "stdout",
          "text": [
            "Epoch 93: Train Loss=4.761677656112586 Validation Loss=4.658451437950134\n"
          ]
        },
        {
          "output_type": "stream",
          "name": "stderr",
          "text": [
            "100%|██████████| 24/24 [00:00<00:00, 41.02it/s]\n"
          ]
        },
        {
          "output_type": "stream",
          "name": "stdout",
          "text": [
            "Epoch 94: Train Loss=4.788797424631751 Validation Loss=4.523138562838237\n"
          ]
        },
        {
          "output_type": "stream",
          "name": "stderr",
          "text": [
            "100%|██████████| 24/24 [00:00<00:00, 87.88it/s]\n"
          ]
        },
        {
          "output_type": "stream",
          "name": "stdout",
          "text": [
            "Epoch 95: Train Loss=4.778228692147361 Validation Loss=4.407112578550975\n"
          ]
        },
        {
          "output_type": "stream",
          "name": "stderr",
          "text": [
            "100%|██████████| 24/24 [00:00<00:00, 82.47it/s]\n"
          ]
        },
        {
          "output_type": "stream",
          "name": "stdout",
          "text": [
            "Epoch 96: Train Loss=4.860402173960094 Validation Loss=5.403011322021484\n"
          ]
        },
        {
          "output_type": "stream",
          "name": "stderr",
          "text": [
            "100%|██████████| 24/24 [00:00<00:00, 135.13it/s]\n"
          ]
        },
        {
          "output_type": "stream",
          "name": "stdout",
          "text": [
            "Epoch 97: Train Loss=4.888811238406594 Validation Loss=4.863037586212158\n"
          ]
        },
        {
          "output_type": "stream",
          "name": "stderr",
          "text": [
            "100%|██████████| 24/24 [00:00<00:00, 69.43it/s]\n"
          ]
        },
        {
          "output_type": "stream",
          "name": "stdout",
          "text": [
            "Epoch 98: Train Loss=4.891505147342818 Validation Loss=6.92729393641154\n"
          ]
        },
        {
          "output_type": "stream",
          "name": "stderr",
          "text": [
            "100%|██████████| 24/24 [00:00<00:00, 82.54it/s]\n"
          ]
        },
        {
          "output_type": "stream",
          "name": "stdout",
          "text": [
            "Epoch 99: Train Loss=5.537421490803566 Validation Loss=4.516522268454234\n"
          ]
        }
      ],
      "source": [
        "train_dataset_tox = image_dataset[:num_train]\n",
        "test_dataset_tox = image_dataset[num_train:]\n",
        "\n",
        "input_channels = np.prod(train_dataset_tox[0][0].shape)\n",
        "model = MLP(in_channels = input_channels, out_channels=1).to(device)\n",
        "mlp_molecule_results = train_nn(model, train_dataset_tox, test_dataset_tox, lr=5e-5,  regression=True, criterion=nn.MSELoss(), num_epochs=100)\n",
        "learning_curve(mlp_molecule_results)"
      ]
    },
    {
      "cell_type": "markdown",
      "metadata": {
        "id": "K51IEFc66T6g"
      },
      "source": [
        "## Architecture Comparison\n"
      ]
    },
    {
      "cell_type": "code",
      "execution_count": null,
      "metadata": {
        "id": "MO1Cxt7x6T6g",
        "colab": {
          "base_uri": "https://localhost:8080/",
          "height": 606
        },
        "outputId": "97186972-8968-41c5-b99a-98ab4d186347"
      },
      "outputs": [
        {
          "output_type": "display_data",
          "data": {
            "text/plain": [
              "<Figure size 720x720 with 1 Axes>"
            ],
            "image/png": "[encoded data removed]"
          },
          "metadata": {
            "needs_background": "light"
          }
        }
      ],
      "source": [
        "\n",
        "%matplotlib inline\n",
        "plt.figure(figsize=(10,10))\n",
        "plt.plot(gnn_molecule_results.val_accs,label = 'gnn')\n",
        "plt.plot(cnn_molecule_results.val_accs,label = 'cnn')\n",
        "plt.plot(mlp_molecule_results.val_accs,label = 'mlp')\n",
        "\n",
        "plt.legend()\n",
        "plt.xlabel('# epochs')\n",
        "plt.ylabel('validation MSE loss')\n",
        "plt.show()\n"
      ]
    },
    {
      "cell_type": "markdown",
      "source": [
        "##  Out of distribution generalization\n",
        "\n",
        "\n",
        "\n",
        "\n"
      ],
      "metadata": {
        "id": "cxd8PEqLLsg7"
      }
    },
    {
      "cell_type": "code",
      "source": [
        "num_atoms = [g.x.shape[0] for g in graph_dataset]\n",
        "plt.hist(num_atoms)\n",
        "plt.title(\"Number of Atoms\")\n",
        "plt.show() \n",
        "\n",
        "\n",
        "# FIXME\n",
        "graph_dataset_1 = [g for g in graph_dataset if g.x.shape[0] > 10]\n",
        "graph_dataset_2 = [g for g in graph_dataset if g.x.shape[0] <= 10]\n",
        "\n",
        "\n",
        "\n",
        "num_atoms_1 = [g.x.shape[0] for g in graph_dataset_1]\n",
        "num_atoms_2 = [g.x.shape[0] for g in graph_dataset_2]\n",
        "plt.hist(num_atoms_1,label = 'graph_dataset_1',\n",
        "         bins = 40)\n",
        "plt.hist(num_atoms_2,label = 'graph_dataset_2')\n",
        "plt.title(\"Number of Atoms\")\n",
        "plt.legend()\n",
        "plt.show() "
      ],
      "metadata": {
        "id": "RiH6JTO1Lwe0",
        "colab": {
          "base_uri": "https://localhost:8080/",
          "height": 545
        },
        "outputId": "ceeb760e-f29e-45a2-d24f-de7d263b30c0"
      },
      "execution_count": null,
      "outputs": [
        {
          "output_type": "display_data",
          "data": {
            "text/plain": [
              "<Figure size 432x288 with 1 Axes>"
            ],
            "image/png": "[encoded data removed]"
          },
          "metadata": {
            "needs_background": "light"
          }
        },
        {
          "output_type": "display_data",
          "data": {
            "text/plain": [
              "<Figure size 432x288 with 1 Axes>"
            ],
            "image/png": "[encoded data removed]"
          },
          "metadata": {
            "needs_background": "light"
          }
        }
      ]
    },
    {
      "cell_type": "code",
      "source": [
        "model = GNN(in_channels=9, out_channels=1).to(device)\n",
        "gnn_molecule_results_12 = train_nn(model, graph_dataset_1, graph_dataset_2, graph=True, regression=True, lr=5e-4, criterion=nn.MSELoss(), num_epochs=100)\n",
        "learning_curve(gnn_molecule_results_12)"
      ],
      "metadata": {
        "id": "lYJrjjNDNvWN",
        "colab": {
          "base_uri": "https://localhost:8080/",
          "height": 1000
        },
        "outputId": "ff6b112f-5eeb-4592-d1ec-3b03bc8941d4"
      },
      "execution_count": null,
      "outputs": [
        {
          "output_type": "stream",
          "name": "stderr",
          "text": [
            "100%|██████████| 21/21 [00:00<00:00, 86.13it/s]\n"
          ]
        },
        {
          "output_type": "stream",
          "name": "stdout",
          "text": [
            "Epoch 0: Train Loss=18.79911186581566 Validation Loss=4.91267499923706\n"
          ]
        },
        {
          "output_type": "stream",
          "name": "stderr",
          "text": [
            "100%|██████████| 21/21 [00:00<00:00, 121.71it/s]\n"
          ]
        },
        {
          "output_type": "stream",
          "name": "stdout",
          "text": [
            "Epoch 1: Train Loss=19.00464432688257 Validation Loss=4.2653198877970375\n"
          ]
        },
        {
          "output_type": "stream",
          "name": "stderr",
          "text": [
            "100%|██████████| 21/21 [00:00<00:00, 132.84it/s]\n"
          ]
        },
        {
          "output_type": "stream",
          "name": "stdout",
          "text": [
            "Epoch 2: Train Loss=15.105444587058349 Validation Loss=2.2579750219980874\n"
          ]
        },
        {
          "output_type": "stream",
          "name": "stderr",
          "text": [
            "100%|██████████| 21/21 [00:00<00:00, 132.19it/s]\n"
          ]
        },
        {
          "output_type": "stream",
          "name": "stdout",
          "text": [
            "Epoch 3: Train Loss=6.52096483427317 Validation Loss=10.130080127716065\n"
          ]
        },
        {
          "output_type": "stream",
          "name": "stderr",
          "text": [
            "100%|██████████| 21/21 [00:00<00:00, 127.53it/s]\n"
          ]
        },
        {
          "output_type": "stream",
          "name": "stdout",
          "text": [
            "Epoch 4: Train Loss=4.455580925808081 Validation Loss=5.999588298797607\n"
          ]
        },
        {
          "output_type": "stream",
          "name": "stderr",
          "text": [
            "100%|██████████| 21/21 [00:00<00:00, 124.54it/s]\n"
          ]
        },
        {
          "output_type": "stream",
          "name": "stdout",
          "text": [
            "Epoch 5: Train Loss=4.192781390456251 Validation Loss=7.1320747375488285\n"
          ]
        },
        {
          "output_type": "stream",
          "name": "stderr",
          "text": [
            "100%|██████████| 21/21 [00:00<00:00, 128.67it/s]\n"
          ]
        },
        {
          "output_type": "stream",
          "name": "stdout",
          "text": [
            "Epoch 6: Train Loss=4.156794908581645 Validation Loss=6.720771185557047\n"
          ]
        },
        {
          "output_type": "stream",
          "name": "stderr",
          "text": [
            "100%|██████████| 21/21 [00:00<00:00, 132.06it/s]\n"
          ]
        },
        {
          "output_type": "stream",
          "name": "stdout",
          "text": [
            "Epoch 7: Train Loss=4.12749063982559 Validation Loss=7.051335239410401\n"
          ]
        },
        {
          "output_type": "stream",
          "name": "stderr",
          "text": [
            "100%|██████████| 21/21 [00:00<00:00, 129.89it/s]\n"
          ]
        },
        {
          "output_type": "stream",
          "name": "stdout",
          "text": [
            "Epoch 8: Train Loss=4.126781435246502 Validation Loss=6.120212237040202\n"
          ]
        },
        {
          "output_type": "stream",
          "name": "stderr",
          "text": [
            "100%|██████████| 21/21 [00:00<00:00, 124.74it/s]\n"
          ]
        },
        {
          "output_type": "stream",
          "name": "stdout",
          "text": [
            "Epoch 9: Train Loss=4.094015483413198 Validation Loss=8.144227218627929\n"
          ]
        },
        {
          "output_type": "stream",
          "name": "stderr",
          "text": [
            "100%|██████████| 21/21 [00:00<00:00, 128.04it/s]\n"
          ]
        },
        {
          "output_type": "stream",
          "name": "stdout",
          "text": [
            "Epoch 10: Train Loss=4.128123306298732 Validation Loss=6.02741486231486\n"
          ]
        },
        {
          "output_type": "stream",
          "name": "stderr",
          "text": [
            "100%|██████████| 21/21 [00:00<00:00, 134.82it/s]\n"
          ]
        },
        {
          "output_type": "stream",
          "name": "stdout",
          "text": [
            "Epoch 11: Train Loss=3.99906365185808 Validation Loss=6.534641297658284\n"
          ]
        },
        {
          "output_type": "stream",
          "name": "stderr",
          "text": [
            "100%|██████████| 21/21 [00:00<00:00, 131.70it/s]\n"
          ]
        },
        {
          "output_type": "stream",
          "name": "stdout",
          "text": [
            "Epoch 12: Train Loss=3.9709013492861582 Validation Loss=6.685150305430095\n"
          ]
        },
        {
          "output_type": "stream",
          "name": "stderr",
          "text": [
            "100%|██████████| 21/21 [00:00<00:00, 120.37it/s]\n"
          ]
        },
        {
          "output_type": "stream",
          "name": "stdout",
          "text": [
            "Epoch 13: Train Loss=3.9527898222255287 Validation Loss=6.0267315864562985\n"
          ]
        },
        {
          "output_type": "stream",
          "name": "stderr",
          "text": [
            "100%|██████████| 21/21 [00:00<00:00, 127.49it/s]\n"
          ]
        },
        {
          "output_type": "stream",
          "name": "stdout",
          "text": [
            "Epoch 14: Train Loss=3.949745111948193 Validation Loss=6.302828852335612\n"
          ]
        },
        {
          "output_type": "stream",
          "name": "stderr",
          "text": [
            "100%|██████████| 21/21 [00:00<00:00, 124.92it/s]\n"
          ]
        },
        {
          "output_type": "stream",
          "name": "stdout",
          "text": [
            "Epoch 15: Train Loss=3.964579329286584 Validation Loss=6.657749970753987\n"
          ]
        },
        {
          "output_type": "stream",
          "name": "stderr",
          "text": [
            "100%|██████████| 21/21 [00:00<00:00, 134.29it/s]\n"
          ]
        },
        {
          "output_type": "stream",
          "name": "stdout",
          "text": [
            "Epoch 16: Train Loss=4.006131023896808 Validation Loss=5.5422563552856445\n"
          ]
        },
        {
          "output_type": "stream",
          "name": "stderr",
          "text": [
            "100%|██████████| 21/21 [00:00<00:00, 125.64it/s]\n"
          ]
        },
        {
          "output_type": "stream",
          "name": "stdout",
          "text": [
            "Epoch 17: Train Loss=3.906476053488306 Validation Loss=6.846028614044189\n"
          ]
        },
        {
          "output_type": "stream",
          "name": "stderr",
          "text": [
            "100%|██████████| 21/21 [00:00<00:00, 128.22it/s]\n"
          ]
        },
        {
          "output_type": "stream",
          "name": "stdout",
          "text": [
            "Epoch 18: Train Loss=3.9214553167371546 Validation Loss=5.145592514673869\n"
          ]
        },
        {
          "output_type": "stream",
          "name": "stderr",
          "text": [
            "100%|██████████| 21/21 [00:00<00:00, 130.87it/s]\n"
          ]
        },
        {
          "output_type": "stream",
          "name": "stdout",
          "text": [
            "Epoch 19: Train Loss=3.9161831392652866 Validation Loss=6.938000837961833\n"
          ]
        },
        {
          "output_type": "stream",
          "name": "stderr",
          "text": [
            "100%|██████████| 21/21 [00:00<00:00, 119.62it/s]\n"
          ]
        },
        {
          "output_type": "stream",
          "name": "stdout",
          "text": [
            "Epoch 20: Train Loss=3.9065097241827753 Validation Loss=7.156663544972738\n"
          ]
        },
        {
          "output_type": "stream",
          "name": "stderr",
          "text": [
            "100%|██████████| 21/21 [00:00<00:00, 67.95it/s]\n"
          ]
        },
        {
          "output_type": "stream",
          "name": "stdout",
          "text": [
            "Epoch 21: Train Loss=3.87243034001962 Validation Loss=6.37657060623169\n"
          ]
        },
        {
          "output_type": "stream",
          "name": "stderr",
          "text": [
            "100%|██████████| 21/21 [00:00<00:00, 49.17it/s]\n"
          ]
        },
        {
          "output_type": "stream",
          "name": "stdout",
          "text": [
            "Epoch 22: Train Loss=3.8316429917570027 Validation Loss=6.048519452412923\n"
          ]
        },
        {
          "output_type": "stream",
          "name": "stderr",
          "text": [
            "100%|██████████| 21/21 [00:00<00:00, 46.37it/s]\n"
          ]
        },
        {
          "output_type": "stream",
          "name": "stdout",
          "text": [
            "Epoch 23: Train Loss=3.7875148798953737 Validation Loss=5.799024550120036\n"
          ]
        },
        {
          "output_type": "stream",
          "name": "stderr",
          "text": [
            "100%|██████████| 21/21 [00:00<00:00, 58.46it/s]\n"
          ]
        },
        {
          "output_type": "stream",
          "name": "stdout",
          "text": [
            "Epoch 24: Train Loss=3.8731981551170884 Validation Loss=6.276327355702718\n"
          ]
        },
        {
          "output_type": "stream",
          "name": "stderr",
          "text": [
            "100%|██████████| 21/21 [00:00<00:00, 52.57it/s]\n"
          ]
        },
        {
          "output_type": "stream",
          "name": "stdout",
          "text": [
            "Epoch 25: Train Loss=3.7787464518183773 Validation Loss=5.956039460500081\n"
          ]
        },
        {
          "output_type": "stream",
          "name": "stderr",
          "text": [
            "100%|██████████| 21/21 [00:00<00:00, 64.66it/s]\n"
          ]
        },
        {
          "output_type": "stream",
          "name": "stdout",
          "text": [
            "Epoch 26: Train Loss=3.8402733616357487 Validation Loss=6.3538435935974125\n"
          ]
        },
        {
          "output_type": "stream",
          "name": "stderr",
          "text": [
            "100%|██████████| 21/21 [00:00<00:00, 59.88it/s]\n"
          ]
        },
        {
          "output_type": "stream",
          "name": "stdout",
          "text": [
            "Epoch 27: Train Loss=3.7492851691223583 Validation Loss=6.2469280878702795\n"
          ]
        },
        {
          "output_type": "stream",
          "name": "stderr",
          "text": [
            "100%|██████████| 21/21 [00:00<00:00, 73.81it/s]\n"
          ]
        },
        {
          "output_type": "stream",
          "name": "stdout",
          "text": [
            "Epoch 28: Train Loss=3.7244930299349126 Validation Loss=5.565841738382975\n"
          ]
        },
        {
          "output_type": "stream",
          "name": "stderr",
          "text": [
            "100%|██████████| 21/21 [00:00<00:00, 126.44it/s]\n"
          ]
        },
        {
          "output_type": "stream",
          "name": "stdout",
          "text": [
            "Epoch 29: Train Loss=3.735124690344539 Validation Loss=6.031206035614014\n"
          ]
        },
        {
          "output_type": "stream",
          "name": "stderr",
          "text": [
            "100%|██████████| 21/21 [00:00<00:00, 136.48it/s]\n"
          ]
        },
        {
          "output_type": "stream",
          "name": "stdout",
          "text": [
            "Epoch 30: Train Loss=3.832741254048244 Validation Loss=6.511324373881022\n"
          ]
        },
        {
          "output_type": "stream",
          "name": "stderr",
          "text": [
            "100%|██████████| 21/21 [00:00<00:00, 133.00it/s]\n"
          ]
        },
        {
          "output_type": "stream",
          "name": "stdout",
          "text": [
            "Epoch 31: Train Loss=3.8537056329456916 Validation Loss=6.2832212766011555\n"
          ]
        },
        {
          "output_type": "stream",
          "name": "stderr",
          "text": [
            "100%|██████████| 21/21 [00:00<00:00, 122.47it/s]\n"
          ]
        },
        {
          "output_type": "stream",
          "name": "stdout",
          "text": [
            "Epoch 32: Train Loss=3.7531753716138048 Validation Loss=6.083431657155355\n"
          ]
        },
        {
          "output_type": "stream",
          "name": "stderr",
          "text": [
            "100%|██████████| 21/21 [00:00<00:00, 131.33it/s]\n"
          ]
        },
        {
          "output_type": "stream",
          "name": "stdout",
          "text": [
            "Epoch 33: Train Loss=3.7401952683796345 Validation Loss=5.412482293446859\n"
          ]
        },
        {
          "output_type": "stream",
          "name": "stderr",
          "text": [
            "100%|██████████| 21/21 [00:00<00:00, 131.82it/s]\n"
          ]
        },
        {
          "output_type": "stream",
          "name": "stdout",
          "text": [
            "Epoch 34: Train Loss=3.7250462824383894 Validation Loss=6.101803334554036\n"
          ]
        },
        {
          "output_type": "stream",
          "name": "stderr",
          "text": [
            "100%|██████████| 21/21 [00:00<00:00, 132.96it/s]\n"
          ]
        },
        {
          "output_type": "stream",
          "name": "stdout",
          "text": [
            "Epoch 35: Train Loss=3.706103875780293 Validation Loss=6.066950194040934\n"
          ]
        },
        {
          "output_type": "stream",
          "name": "stderr",
          "text": [
            "100%|██████████| 21/21 [00:00<00:00, 124.47it/s]\n"
          ]
        },
        {
          "output_type": "stream",
          "name": "stdout",
          "text": [
            "Epoch 36: Train Loss=3.748938246120734 Validation Loss=5.634534581502279\n"
          ]
        },
        {
          "output_type": "stream",
          "name": "stderr",
          "text": [
            "100%|██████████| 21/21 [00:00<00:00, 128.28it/s]\n"
          ]
        },
        {
          "output_type": "stream",
          "name": "stdout",
          "text": [
            "Epoch 37: Train Loss=3.6852010736176757 Validation Loss=6.438426208496094\n"
          ]
        },
        {
          "output_type": "stream",
          "name": "stderr",
          "text": [
            "100%|██████████| 21/21 [00:00<00:00, 130.04it/s]\n"
          ]
        },
        {
          "output_type": "stream",
          "name": "stdout",
          "text": [
            "Epoch 38: Train Loss=3.6493354252846912 Validation Loss=5.215072949727376\n"
          ]
        },
        {
          "output_type": "stream",
          "name": "stderr",
          "text": [
            "100%|██████████| 21/21 [00:00<00:00, 129.90it/s]\n"
          ]
        },
        {
          "output_type": "stream",
          "name": "stdout",
          "text": [
            "Epoch 39: Train Loss=3.7902856800852875 Validation Loss=6.740809408823649\n"
          ]
        },
        {
          "output_type": "stream",
          "name": "stderr",
          "text": [
            "100%|██████████| 21/21 [00:00<00:00, 124.46it/s]\n"
          ]
        },
        {
          "output_type": "stream",
          "name": "stdout",
          "text": [
            "Epoch 40: Train Loss=3.716349254212203 Validation Loss=4.7021110852559405\n"
          ]
        },
        {
          "output_type": "stream",
          "name": "stderr",
          "text": [
            "100%|██████████| 21/21 [00:00<00:00, 130.84it/s]\n"
          ]
        },
        {
          "output_type": "stream",
          "name": "stdout",
          "text": [
            "Epoch 41: Train Loss=3.688012129265232 Validation Loss=6.202936999003092\n"
          ]
        },
        {
          "output_type": "stream",
          "name": "stderr",
          "text": [
            "100%|██████████| 21/21 [00:00<00:00, 129.58it/s]\n"
          ]
        },
        {
          "output_type": "stream",
          "name": "stdout",
          "text": [
            "Epoch 42: Train Loss=3.715992802958553 Validation Loss=5.827359294891357\n"
          ]
        },
        {
          "output_type": "stream",
          "name": "stderr",
          "text": [
            "100%|██████████| 21/21 [00:00<00:00, 132.88it/s]\n"
          ]
        },
        {
          "output_type": "stream",
          "name": "stdout",
          "text": [
            "Epoch 43: Train Loss=3.7851995113624874 Validation Loss=6.891488043467204\n"
          ]
        },
        {
          "output_type": "stream",
          "name": "stderr",
          "text": [
            "100%|██████████| 21/21 [00:00<00:00, 122.10it/s]\n"
          ]
        },
        {
          "output_type": "stream",
          "name": "stdout",
          "text": [
            "Epoch 44: Train Loss=3.663065586218445 Validation Loss=5.580972258249918\n"
          ]
        },
        {
          "output_type": "stream",
          "name": "stderr",
          "text": [
            "100%|██████████| 21/21 [00:00<00:00, 129.49it/s]\n"
          ]
        },
        {
          "output_type": "stream",
          "name": "stdout",
          "text": [
            "Epoch 45: Train Loss=3.710523499086225 Validation Loss=5.710822423299153\n"
          ]
        },
        {
          "output_type": "stream",
          "name": "stderr",
          "text": [
            "100%|██████████| 21/21 [00:00<00:00, 131.51it/s]\n"
          ]
        },
        {
          "output_type": "stream",
          "name": "stdout",
          "text": [
            "Epoch 46: Train Loss=3.7239272203253715 Validation Loss=5.415865564346314\n"
          ]
        },
        {
          "output_type": "stream",
          "name": "stderr",
          "text": [
            "100%|██████████| 21/21 [00:00<00:00, 129.66it/s]\n"
          ]
        },
        {
          "output_type": "stream",
          "name": "stdout",
          "text": [
            "Epoch 47: Train Loss=3.611419880230309 Validation Loss=5.808490180969239\n"
          ]
        },
        {
          "output_type": "stream",
          "name": "stderr",
          "text": [
            "100%|██████████| 21/21 [00:00<00:00, 122.16it/s]\n"
          ]
        },
        {
          "output_type": "stream",
          "name": "stdout",
          "text": [
            "Epoch 48: Train Loss=3.7588207591071523 Validation Loss=5.696382697423299\n"
          ]
        },
        {
          "output_type": "stream",
          "name": "stderr",
          "text": [
            "100%|██████████| 21/21 [00:00<00:00, 123.29it/s]\n"
          ]
        },
        {
          "output_type": "stream",
          "name": "stdout",
          "text": [
            "Epoch 49: Train Loss=3.6159207417307146 Validation Loss=5.883920574188233\n"
          ]
        },
        {
          "output_type": "stream",
          "name": "stderr",
          "text": [
            "100%|██████████| 21/21 [00:00<00:00, 126.38it/s]\n"
          ]
        },
        {
          "output_type": "stream",
          "name": "stdout",
          "text": [
            "Epoch 50: Train Loss=3.6998353382601525 Validation Loss=6.324707063039144\n"
          ]
        },
        {
          "output_type": "stream",
          "name": "stderr",
          "text": [
            "100%|██████████| 21/21 [00:00<00:00, 126.61it/s]\n"
          ]
        },
        {
          "output_type": "stream",
          "name": "stdout",
          "text": [
            "Epoch 51: Train Loss=3.628202042790889 Validation Loss=5.531658124923706\n"
          ]
        },
        {
          "output_type": "stream",
          "name": "stderr",
          "text": [
            "100%|██████████| 21/21 [00:00<00:00, 127.07it/s]\n"
          ]
        },
        {
          "output_type": "stream",
          "name": "stdout",
          "text": [
            "Epoch 52: Train Loss=3.745315833782991 Validation Loss=5.434398682912191\n"
          ]
        },
        {
          "output_type": "stream",
          "name": "stderr",
          "text": [
            "100%|██████████| 21/21 [00:00<00:00, 130.99it/s]\n"
          ]
        },
        {
          "output_type": "stream",
          "name": "stdout",
          "text": [
            "Epoch 53: Train Loss=3.689189816462419 Validation Loss=5.81858213742574\n"
          ]
        },
        {
          "output_type": "stream",
          "name": "stderr",
          "text": [
            "100%|██████████| 21/21 [00:00<00:00, 129.75it/s]\n"
          ]
        },
        {
          "output_type": "stream",
          "name": "stdout",
          "text": [
            "Epoch 54: Train Loss=3.687667535645026 Validation Loss=6.832732518513997\n"
          ]
        },
        {
          "output_type": "stream",
          "name": "stderr",
          "text": [
            "100%|██████████| 21/21 [00:00<00:00, 132.07it/s]\n"
          ]
        },
        {
          "output_type": "stream",
          "name": "stdout",
          "text": [
            "Epoch 55: Train Loss=3.7146542151249715 Validation Loss=6.762545871734619\n"
          ]
        },
        {
          "output_type": "stream",
          "name": "stderr",
          "text": [
            "100%|██████████| 21/21 [00:00<00:00, 127.64it/s]\n"
          ]
        },
        {
          "output_type": "stream",
          "name": "stdout",
          "text": [
            "Epoch 56: Train Loss=3.6547489170019456 Validation Loss=5.826127401987711\n"
          ]
        },
        {
          "output_type": "stream",
          "name": "stderr",
          "text": [
            "100%|██████████| 21/21 [00:00<00:00, 129.53it/s]\n"
          ]
        },
        {
          "output_type": "stream",
          "name": "stdout",
          "text": [
            "Epoch 57: Train Loss=3.6518407662888586 Validation Loss=5.957049703598022\n"
          ]
        },
        {
          "output_type": "stream",
          "name": "stderr",
          "text": [
            "100%|██████████| 21/21 [00:00<00:00, 127.31it/s]\n"
          ]
        },
        {
          "output_type": "stream",
          "name": "stdout",
          "text": [
            "Epoch 58: Train Loss=3.5531782120001703 Validation Loss=5.5776699384053545\n"
          ]
        },
        {
          "output_type": "stream",
          "name": "stderr",
          "text": [
            "100%|██████████| 21/21 [00:00<00:00, 128.67it/s]\n"
          ]
        },
        {
          "output_type": "stream",
          "name": "stdout",
          "text": [
            "Epoch 59: Train Loss=3.709556711143598 Validation Loss=7.139976119995117\n"
          ]
        },
        {
          "output_type": "stream",
          "name": "stderr",
          "text": [
            "100%|██████████| 21/21 [00:00<00:00, 127.81it/s]\n"
          ]
        },
        {
          "output_type": "stream",
          "name": "stdout",
          "text": [
            "Epoch 60: Train Loss=3.60783959061505 Validation Loss=5.188851404190063\n"
          ]
        },
        {
          "output_type": "stream",
          "name": "stderr",
          "text": [
            "100%|██████████| 21/21 [00:00<00:00, 134.12it/s]\n"
          ]
        },
        {
          "output_type": "stream",
          "name": "stdout",
          "text": [
            "Epoch 61: Train Loss=3.611766622478338 Validation Loss=5.164153639475504\n"
          ]
        },
        {
          "output_type": "stream",
          "name": "stderr",
          "text": [
            "100%|██████████| 21/21 [00:00<00:00, 130.47it/s]\n"
          ]
        },
        {
          "output_type": "stream",
          "name": "stdout",
          "text": [
            "Epoch 62: Train Loss=3.5166029327452457 Validation Loss=5.396593618392944\n"
          ]
        },
        {
          "output_type": "stream",
          "name": "stderr",
          "text": [
            "100%|██████████| 21/21 [00:00<00:00, 130.90it/s]\n"
          ]
        },
        {
          "output_type": "stream",
          "name": "stdout",
          "text": [
            "Epoch 63: Train Loss=3.532585243352539 Validation Loss=5.4841209888458256\n"
          ]
        },
        {
          "output_type": "stream",
          "name": "stderr",
          "text": [
            "100%|██████████| 21/21 [00:00<00:00, 129.65it/s]\n"
          ]
        },
        {
          "output_type": "stream",
          "name": "stdout",
          "text": [
            "Epoch 64: Train Loss=3.61968280493117 Validation Loss=6.739327144622803\n"
          ]
        },
        {
          "output_type": "stream",
          "name": "stderr",
          "text": [
            "100%|██████████| 21/21 [00:00<00:00, 121.59it/s]\n"
          ]
        },
        {
          "output_type": "stream",
          "name": "stdout",
          "text": [
            "Epoch 65: Train Loss=3.518234673766341 Validation Loss=6.270172850290934\n"
          ]
        },
        {
          "output_type": "stream",
          "name": "stderr",
          "text": [
            "100%|██████████| 21/21 [00:00<00:00, 123.39it/s]\n"
          ]
        },
        {
          "output_type": "stream",
          "name": "stdout",
          "text": [
            "Epoch 66: Train Loss=3.546653063695963 Validation Loss=5.843107048670451\n"
          ]
        },
        {
          "output_type": "stream",
          "name": "stderr",
          "text": [
            "100%|██████████| 21/21 [00:00<00:00, 128.03it/s]\n"
          ]
        },
        {
          "output_type": "stream",
          "name": "stdout",
          "text": [
            "Epoch 67: Train Loss=3.464242732316792 Validation Loss=5.751029189427694\n"
          ]
        },
        {
          "output_type": "stream",
          "name": "stderr",
          "text": [
            "100%|██████████| 21/21 [00:00<00:00, 127.70it/s]\n"
          ]
        },
        {
          "output_type": "stream",
          "name": "stdout",
          "text": [
            "Epoch 68: Train Loss=3.538272927478691 Validation Loss=6.837735303243002\n"
          ]
        },
        {
          "output_type": "stream",
          "name": "stderr",
          "text": [
            "100%|██████████| 21/21 [00:00<00:00, 127.66it/s]\n"
          ]
        },
        {
          "output_type": "stream",
          "name": "stdout",
          "text": [
            "Epoch 69: Train Loss=3.591552981794625 Validation Loss=5.871437279383342\n"
          ]
        },
        {
          "output_type": "stream",
          "name": "stderr",
          "text": [
            "100%|██████████| 21/21 [00:00<00:00, 122.15it/s]\n"
          ]
        },
        {
          "output_type": "stream",
          "name": "stdout",
          "text": [
            "Epoch 70: Train Loss=3.489809820058835 Validation Loss=5.155632909138998\n"
          ]
        },
        {
          "output_type": "stream",
          "name": "stderr",
          "text": [
            "100%|██████████| 21/21 [00:00<00:00, 128.88it/s]\n"
          ]
        },
        {
          "output_type": "stream",
          "name": "stdout",
          "text": [
            "Epoch 71: Train Loss=3.5094885518154877 Validation Loss=6.383187993367513\n"
          ]
        },
        {
          "output_type": "stream",
          "name": "stderr",
          "text": [
            "100%|██████████| 21/21 [00:00<00:00, 124.32it/s]\n"
          ]
        },
        {
          "output_type": "stream",
          "name": "stdout",
          "text": [
            "Epoch 72: Train Loss=3.4523447453502687 Validation Loss=5.858340326944987\n"
          ]
        },
        {
          "output_type": "stream",
          "name": "stderr",
          "text": [
            "100%|██████████| 21/21 [00:00<00:00, 125.18it/s]\n"
          ]
        },
        {
          "output_type": "stream",
          "name": "stdout",
          "text": [
            "Epoch 73: Train Loss=3.437282464331691 Validation Loss=6.436144669850667\n"
          ]
        },
        {
          "output_type": "stream",
          "name": "stderr",
          "text": [
            "100%|██████████| 21/21 [00:00<00:00, 125.51it/s]\n"
          ]
        },
        {
          "output_type": "stream",
          "name": "stdout",
          "text": [
            "Epoch 74: Train Loss=3.4198829116057925 Validation Loss=6.991797924041748\n"
          ]
        },
        {
          "output_type": "stream",
          "name": "stderr",
          "text": [
            "100%|██████████| 21/21 [00:00<00:00, 127.12it/s]\n"
          ]
        },
        {
          "output_type": "stream",
          "name": "stdout",
          "text": [
            "Epoch 75: Train Loss=3.411142219539822 Validation Loss=5.49818058013916\n"
          ]
        },
        {
          "output_type": "stream",
          "name": "stderr",
          "text": [
            "100%|██████████| 21/21 [00:00<00:00, 129.21it/s]\n"
          ]
        },
        {
          "output_type": "stream",
          "name": "stdout",
          "text": [
            "Epoch 76: Train Loss=3.446476669038872 Validation Loss=6.0508045355478925\n"
          ]
        },
        {
          "output_type": "stream",
          "name": "stderr",
          "text": [
            "100%|██████████| 21/21 [00:00<00:00, 124.32it/s]\n"
          ]
        },
        {
          "output_type": "stream",
          "name": "stdout",
          "text": [
            "Epoch 77: Train Loss=3.352278117666431 Validation Loss=6.58777592976888\n"
          ]
        },
        {
          "output_type": "stream",
          "name": "stderr",
          "text": [
            "100%|██████████| 21/21 [00:00<00:00, 126.09it/s]\n"
          ]
        },
        {
          "output_type": "stream",
          "name": "stdout",
          "text": [
            "Epoch 78: Train Loss=3.4613520136111213 Validation Loss=6.144395256042481\n"
          ]
        },
        {
          "output_type": "stream",
          "name": "stderr",
          "text": [
            "100%|██████████| 21/21 [00:00<00:00, 125.05it/s]\n"
          ]
        },
        {
          "output_type": "stream",
          "name": "stdout",
          "text": [
            "Epoch 79: Train Loss=3.289438578016385 Validation Loss=6.440004634857178\n"
          ]
        },
        {
          "output_type": "stream",
          "name": "stderr",
          "text": [
            "100%|██████████| 21/21 [00:00<00:00, 125.84it/s]\n"
          ]
        },
        {
          "output_type": "stream",
          "name": "stdout",
          "text": [
            "Epoch 80: Train Loss=3.321978153336939 Validation Loss=6.026993592580159\n"
          ]
        },
        {
          "output_type": "stream",
          "name": "stderr",
          "text": [
            "100%|██████████| 21/21 [00:00<00:00, 125.73it/s]\n"
          ]
        },
        {
          "output_type": "stream",
          "name": "stdout",
          "text": [
            "Epoch 81: Train Loss=3.2840162147391836 Validation Loss=5.871902783711751\n"
          ]
        },
        {
          "output_type": "stream",
          "name": "stderr",
          "text": [
            "100%|██████████| 21/21 [00:00<00:00, 127.36it/s]\n"
          ]
        },
        {
          "output_type": "stream",
          "name": "stdout",
          "text": [
            "Epoch 82: Train Loss=3.3309362995686462 Validation Loss=6.431494585673014\n"
          ]
        },
        {
          "output_type": "stream",
          "name": "stderr",
          "text": [
            "100%|██████████| 21/21 [00:00<00:00, 127.94it/s]\n"
          ]
        },
        {
          "output_type": "stream",
          "name": "stdout",
          "text": [
            "Epoch 83: Train Loss=3.3110076353098776 Validation Loss=6.392161019643148\n"
          ]
        },
        {
          "output_type": "stream",
          "name": "stderr",
          "text": [
            "100%|██████████| 21/21 [00:00<00:00, 130.28it/s]\n"
          ]
        },
        {
          "output_type": "stream",
          "name": "stdout",
          "text": [
            "Epoch 84: Train Loss=3.2640409988313714 Validation Loss=6.0081343173980715\n"
          ]
        },
        {
          "output_type": "stream",
          "name": "stderr",
          "text": [
            "100%|██████████| 21/21 [00:00<00:00, 125.64it/s]\n"
          ]
        },
        {
          "output_type": "stream",
          "name": "stdout",
          "text": [
            "Epoch 85: Train Loss=3.3066396454125635 Validation Loss=6.7251407941182455\n"
          ]
        },
        {
          "output_type": "stream",
          "name": "stderr",
          "text": [
            "100%|██████████| 21/21 [00:00<00:00, 129.97it/s]\n"
          ]
        },
        {
          "output_type": "stream",
          "name": "stdout",
          "text": [
            "Epoch 86: Train Loss=3.3193284090509017 Validation Loss=6.667767461140951\n"
          ]
        },
        {
          "output_type": "stream",
          "name": "stderr",
          "text": [
            "100%|██████████| 21/21 [00:00<00:00, 130.25it/s]\n"
          ]
        },
        {
          "output_type": "stream",
          "name": "stdout",
          "text": [
            "Epoch 87: Train Loss=3.18879500370248 Validation Loss=5.828965044021606\n"
          ]
        },
        {
          "output_type": "stream",
          "name": "stderr",
          "text": [
            "100%|██████████| 21/21 [00:00<00:00, 129.85it/s]\n"
          ]
        },
        {
          "output_type": "stream",
          "name": "stdout",
          "text": [
            "Epoch 88: Train Loss=3.219825127456408 Validation Loss=6.422857570648193\n"
          ]
        },
        {
          "output_type": "stream",
          "name": "stderr",
          "text": [
            "100%|██████████| 21/21 [00:00<00:00, 126.58it/s]\n"
          ]
        },
        {
          "output_type": "stream",
          "name": "stdout",
          "text": [
            "Epoch 89: Train Loss=3.204093665297723 Validation Loss=5.374993864695231\n"
          ]
        },
        {
          "output_type": "stream",
          "name": "stderr",
          "text": [
            "100%|██████████| 21/21 [00:00<00:00, 128.44it/s]\n"
          ]
        },
        {
          "output_type": "stream",
          "name": "stdout",
          "text": [
            "Epoch 90: Train Loss=3.214602213549987 Validation Loss=5.351762342453003\n"
          ]
        },
        {
          "output_type": "stream",
          "name": "stderr",
          "text": [
            "100%|██████████| 21/21 [00:00<00:00, 131.12it/s]\n"
          ]
        },
        {
          "output_type": "stream",
          "name": "stdout",
          "text": [
            "Epoch 91: Train Loss=3.2438882694096973 Validation Loss=6.562632465362549\n"
          ]
        },
        {
          "output_type": "stream",
          "name": "stderr",
          "text": [
            "100%|██████████| 21/21 [00:00<00:00, 125.27it/s]\n"
          ]
        },
        {
          "output_type": "stream",
          "name": "stdout",
          "text": [
            "Epoch 92: Train Loss=3.197416584195843 Validation Loss=5.871376864115397\n"
          ]
        },
        {
          "output_type": "stream",
          "name": "stderr",
          "text": [
            "100%|██████████| 21/21 [00:00<00:00, 131.20it/s]\n"
          ]
        },
        {
          "output_type": "stream",
          "name": "stdout",
          "text": [
            "Epoch 93: Train Loss=3.111590302203485 Validation Loss=7.26986083984375\n"
          ]
        },
        {
          "output_type": "stream",
          "name": "stderr",
          "text": [
            "100%|██████████| 21/21 [00:00<00:00, 128.81it/s]\n"
          ]
        },
        {
          "output_type": "stream",
          "name": "stdout",
          "text": [
            "Epoch 94: Train Loss=3.130202930892005 Validation Loss=6.249890899658203\n"
          ]
        },
        {
          "output_type": "stream",
          "name": "stderr",
          "text": [
            "100%|██████████| 21/21 [00:00<00:00, 126.85it/s]\n"
          ]
        },
        {
          "output_type": "stream",
          "name": "stdout",
          "text": [
            "Epoch 95: Train Loss=3.19483295138509 Validation Loss=6.685941441853841\n"
          ]
        },
        {
          "output_type": "stream",
          "name": "stderr",
          "text": [
            "100%|██████████| 21/21 [00:00<00:00, 131.46it/s]\n"
          ]
        },
        {
          "output_type": "stream",
          "name": "stdout",
          "text": [
            "Epoch 96: Train Loss=3.1469605721442613 Validation Loss=6.346383825937907\n"
          ]
        },
        {
          "output_type": "stream",
          "name": "stderr",
          "text": [
            "100%|██████████| 21/21 [00:00<00:00, 129.40it/s]\n"
          ]
        },
        {
          "output_type": "stream",
          "name": "stdout",
          "text": [
            "Epoch 97: Train Loss=3.1131860223904897 Validation Loss=7.492974472045899\n"
          ]
        },
        {
          "output_type": "stream",
          "name": "stderr",
          "text": [
            "100%|██████████| 21/21 [00:00<00:00, 129.18it/s]\n"
          ]
        },
        {
          "output_type": "stream",
          "name": "stdout",
          "text": [
            "Epoch 98: Train Loss=3.0516160140316435 Validation Loss=7.343250211079916\n"
          ]
        },
        {
          "output_type": "stream",
          "name": "stderr",
          "text": [
            "100%|██████████| 21/21 [00:00<00:00, 126.93it/s]\n"
          ]
        },
        {
          "output_type": "stream",
          "name": "stdout",
          "text": [
            "Epoch 99: Train Loss=3.0689069458883944 Validation Loss=6.600746440887451\n"
          ]
        },
        {
          "output_type": "display_data",
          "data": {
            "text/plain": [
              "<Figure size 576x360 with 2 Axes>"
            ],
            "image/png": "[encoded data removed]"
          },
          "metadata": {}
        }
      ]
    },
    {
      "cell_type": "code",
      "source": [
        "model = GNN(in_channels=9, out_channels=1).to(device)\n",
        "gnn_molecule_results_21 = train_nn(model, graph_dataset_2, graph_dataset_1, graph=True, regression=True, lr=5e-4, criterion=nn.MSELoss(), num_epochs=100)\n",
        "learning_curve(gnn_molecule_results_21)"
      ],
      "metadata": {
        "colab": {
          "base_uri": "https://localhost:8080/",
          "height": 1000
        },
        "id": "xxu2nnhY6-O0",
        "outputId": "f0933d1d-7806-4126-ad2c-4e803e05ce49"
      },
      "execution_count": null,
      "outputs": [
        {
          "output_type": "stream",
          "name": "stderr",
          "text": [
            "100%|██████████| 15/15 [00:00<00:00, 131.45it/s]\n"
          ]
        },
        {
          "output_type": "stream",
          "name": "stdout",
          "text": [
            "Epoch 0: Train Loss=5.368403879801432 Validation Loss=19.016778628031414\n"
          ]
        },
        {
          "output_type": "stream",
          "name": "stderr",
          "text": [
            "100%|██████████| 15/15 [00:00<00:00, 128.02it/s]\n"
          ]
        },
        {
          "output_type": "stream",
          "name": "stdout",
          "text": [
            "Epoch 1: Train Loss=5.2159304756588405 Validation Loss=17.29247824350993\n"
          ]
        },
        {
          "output_type": "stream",
          "name": "stderr",
          "text": [
            "100%|██████████| 15/15 [00:00<00:00, 122.40it/s]\n"
          ]
        },
        {
          "output_type": "stream",
          "name": "stdout",
          "text": [
            "Epoch 2: Train Loss=4.115152216875995 Validation Loss=12.92746316818964\n"
          ]
        },
        {
          "output_type": "stream",
          "name": "stderr",
          "text": [
            "100%|██████████| 15/15 [00:00<00:00, 115.77it/s]\n"
          ]
        },
        {
          "output_type": "stream",
          "name": "stdout",
          "text": [
            "Epoch 3: Train Loss=2.673947444023321 Validation Loss=7.895007088070824\n"
          ]
        },
        {
          "output_type": "stream",
          "name": "stderr",
          "text": [
            "100%|██████████| 15/15 [00:00<00:00, 130.80it/s]\n"
          ]
        },
        {
          "output_type": "stream",
          "name": "stdout",
          "text": [
            "Epoch 4: Train Loss=2.5409132315358605 Validation Loss=9.344226700919014\n"
          ]
        },
        {
          "output_type": "stream",
          "name": "stderr",
          "text": [
            "100%|██████████| 15/15 [00:00<00:00, 127.83it/s]\n"
          ]
        },
        {
          "output_type": "stream",
          "name": "stdout",
          "text": [
            "Epoch 5: Train Loss=2.4833207850564922 Validation Loss=9.044506322769891\n"
          ]
        },
        {
          "output_type": "stream",
          "name": "stderr",
          "text": [
            "100%|██████████| 15/15 [00:00<00:00, 120.77it/s]\n"
          ]
        },
        {
          "output_type": "stream",
          "name": "stdout",
          "text": [
            "Epoch 6: Train Loss=2.480570646954307 Validation Loss=9.13529600415911\n"
          ]
        },
        {
          "output_type": "stream",
          "name": "stderr",
          "text": [
            "100%|██████████| 15/15 [00:00<00:00, 123.23it/s]\n"
          ]
        },
        {
          "output_type": "stream",
          "name": "stdout",
          "text": [
            "Epoch 7: Train Loss=2.4593936425336684 Validation Loss=8.984535762241908\n"
          ]
        },
        {
          "output_type": "stream",
          "name": "stderr",
          "text": [
            "100%|██████████| 15/15 [00:00<00:00, 126.09it/s]\n"
          ]
        },
        {
          "output_type": "stream",
          "name": "stdout",
          "text": [
            "Epoch 8: Train Loss=2.416856719532864 Validation Loss=8.995751744224911\n"
          ]
        },
        {
          "output_type": "stream",
          "name": "stderr",
          "text": [
            "100%|██████████| 15/15 [00:00<00:00, 125.17it/s]\n"
          ]
        },
        {
          "output_type": "stream",
          "name": "stdout",
          "text": [
            "Epoch 9: Train Loss=2.4140803783124856 Validation Loss=8.674777144477481\n"
          ]
        },
        {
          "output_type": "stream",
          "name": "stderr",
          "text": [
            "100%|██████████| 15/15 [00:00<00:00, 128.26it/s]\n"
          ]
        },
        {
          "output_type": "stream",
          "name": "stdout",
          "text": [
            "Epoch 10: Train Loss=2.3837882198822906 Validation Loss=8.712592283884684\n"
          ]
        },
        {
          "output_type": "stream",
          "name": "stderr",
          "text": [
            "100%|██████████| 15/15 [00:00<00:00, 123.01it/s]\n"
          ]
        },
        {
          "output_type": "stream",
          "name": "stdout",
          "text": [
            "Epoch 11: Train Loss=2.3803770695655375 Validation Loss=8.61551741191319\n"
          ]
        },
        {
          "output_type": "stream",
          "name": "stderr",
          "text": [
            "100%|██████████| 15/15 [00:00<00:00, 119.14it/s]\n"
          ]
        },
        {
          "output_type": "stream",
          "name": "stdout",
          "text": [
            "Epoch 12: Train Loss=2.3730990579030835 Validation Loss=8.723857652573358\n"
          ]
        },
        {
          "output_type": "stream",
          "name": "stderr",
          "text": [
            "100%|██████████| 15/15 [00:00<00:00, 126.08it/s]\n"
          ]
        },
        {
          "output_type": "stream",
          "name": "stdout",
          "text": [
            "Epoch 13: Train Loss=2.3636281072451135 Validation Loss=8.472788106827508\n"
          ]
        },
        {
          "output_type": "stream",
          "name": "stderr",
          "text": [
            "100%|██████████| 15/15 [00:00<00:00, 126.52it/s]\n"
          ]
        },
        {
          "output_type": "stream",
          "name": "stdout",
          "text": [
            "Epoch 14: Train Loss=2.3618491065459346 Validation Loss=8.617558388482957\n"
          ]
        },
        {
          "output_type": "stream",
          "name": "stderr",
          "text": [
            "100%|██████████| 15/15 [00:00<00:00, 127.62it/s]\n"
          ]
        },
        {
          "output_type": "stream",
          "name": "stdout",
          "text": [
            "Epoch 15: Train Loss=2.3631394728816675 Validation Loss=8.549231756301154\n"
          ]
        },
        {
          "output_type": "stream",
          "name": "stderr",
          "text": [
            "100%|██████████| 15/15 [00:00<00:00, 123.26it/s]\n"
          ]
        },
        {
          "output_type": "stream",
          "name": "stdout",
          "text": [
            "Epoch 16: Train Loss=2.372724109390028 Validation Loss=8.873417808896018\n"
          ]
        },
        {
          "output_type": "stream",
          "name": "stderr",
          "text": [
            "100%|██████████| 15/15 [00:00<00:00, 126.55it/s]\n"
          ]
        },
        {
          "output_type": "stream",
          "name": "stdout",
          "text": [
            "Epoch 17: Train Loss=2.342894748416122 Validation Loss=8.430729866027832\n"
          ]
        },
        {
          "output_type": "stream",
          "name": "stderr",
          "text": [
            "100%|██████████| 15/15 [00:00<00:00, 129.25it/s]\n"
          ]
        },
        {
          "output_type": "stream",
          "name": "stdout",
          "text": [
            "Epoch 18: Train Loss=2.335998945472411 Validation Loss=8.615760280972435\n"
          ]
        },
        {
          "output_type": "stream",
          "name": "stderr",
          "text": [
            "100%|██████████| 15/15 [00:00<00:00, 121.77it/s]\n"
          ]
        },
        {
          "output_type": "stream",
          "name": "stdout",
          "text": [
            "Epoch 19: Train Loss=2.3212878341832277 Validation Loss=8.53929158619472\n"
          ]
        },
        {
          "output_type": "stream",
          "name": "stderr",
          "text": [
            "100%|██████████| 15/15 [00:00<00:00, 124.35it/s]\n"
          ]
        },
        {
          "output_type": "stream",
          "name": "stdout",
          "text": [
            "Epoch 20: Train Loss=2.319829485385673 Validation Loss=8.800743125733876\n"
          ]
        },
        {
          "output_type": "stream",
          "name": "stderr",
          "text": [
            "100%|██████████| 15/15 [00:00<00:00, 128.11it/s]\n"
          ]
        },
        {
          "output_type": "stream",
          "name": "stdout",
          "text": [
            "Epoch 21: Train Loss=2.308586678343949 Validation Loss=8.147519157046364\n"
          ]
        },
        {
          "output_type": "stream",
          "name": "stderr",
          "text": [
            "100%|██████████| 15/15 [00:00<00:00, 127.17it/s]\n"
          ]
        },
        {
          "output_type": "stream",
          "name": "stdout",
          "text": [
            "Epoch 22: Train Loss=2.297362102497812 Validation Loss=8.296989486331032\n"
          ]
        },
        {
          "output_type": "stream",
          "name": "stderr",
          "text": [
            "100%|██████████| 15/15 [00:00<00:00, 131.47it/s]\n"
          ]
        },
        {
          "output_type": "stream",
          "name": "stdout",
          "text": [
            "Epoch 23: Train Loss=2.2962233631762663 Validation Loss=8.146944477444602\n"
          ]
        },
        {
          "output_type": "stream",
          "name": "stderr",
          "text": [
            "100%|██████████| 15/15 [00:00<00:00, 132.35it/s]\n"
          ]
        },
        {
          "output_type": "stream",
          "name": "stdout",
          "text": [
            "Epoch 24: Train Loss=2.281217830770233 Validation Loss=8.996059644789923\n"
          ]
        },
        {
          "output_type": "stream",
          "name": "stderr",
          "text": [
            "100%|██████████| 15/15 [00:00<00:00, 116.96it/s]\n"
          ]
        },
        {
          "output_type": "stream",
          "name": "stdout",
          "text": [
            "Epoch 25: Train Loss=2.3031240792667216 Validation Loss=7.8140304656255815\n"
          ]
        },
        {
          "output_type": "stream",
          "name": "stderr",
          "text": [
            "100%|██████████| 15/15 [00:00<00:00, 126.78it/s]\n"
          ]
        },
        {
          "output_type": "stream",
          "name": "stdout",
          "text": [
            "Epoch 26: Train Loss=2.267969521493351 Validation Loss=8.659914266495477\n"
          ]
        },
        {
          "output_type": "stream",
          "name": "stderr",
          "text": [
            "100%|██████████| 15/15 [00:00<00:00, 125.68it/s]\n"
          ]
        },
        {
          "output_type": "stream",
          "name": "stdout",
          "text": [
            "Epoch 27: Train Loss=2.225564934982898 Validation Loss=7.979372864677792\n"
          ]
        },
        {
          "output_type": "stream",
          "name": "stderr",
          "text": [
            "100%|██████████| 15/15 [00:00<00:00, 123.07it/s]\n"
          ]
        },
        {
          "output_type": "stream",
          "name": "stdout",
          "text": [
            "Epoch 28: Train Loss=2.2069152022847893 Validation Loss=8.22756830851237\n"
          ]
        },
        {
          "output_type": "stream",
          "name": "stderr",
          "text": [
            "100%|██████████| 15/15 [00:00<00:00, 126.80it/s]\n"
          ]
        },
        {
          "output_type": "stream",
          "name": "stdout",
          "text": [
            "Epoch 29: Train Loss=2.1966605466302855 Validation Loss=8.927743752797445\n"
          ]
        },
        {
          "output_type": "stream",
          "name": "stderr",
          "text": [
            "100%|██████████| 15/15 [00:00<00:00, 131.40it/s]\n"
          ]
        },
        {
          "output_type": "stream",
          "name": "stdout",
          "text": [
            "Epoch 30: Train Loss=2.1739508011718365 Validation Loss=7.2795944440932505\n"
          ]
        },
        {
          "output_type": "stream",
          "name": "stderr",
          "text": [
            "100%|██████████| 15/15 [00:00<00:00, 130.58it/s]\n"
          ]
        },
        {
          "output_type": "stream",
          "name": "stdout",
          "text": [
            "Epoch 31: Train Loss=2.1864593194509863 Validation Loss=9.79879279363723\n"
          ]
        },
        {
          "output_type": "stream",
          "name": "stderr",
          "text": [
            "100%|██████████| 15/15 [00:00<00:00, 131.62it/s]\n"
          ]
        },
        {
          "output_type": "stream",
          "name": "stdout",
          "text": [
            "Epoch 32: Train Loss=2.2418581496780803 Validation Loss=8.174448353903633\n"
          ]
        },
        {
          "output_type": "stream",
          "name": "stderr",
          "text": [
            "100%|██████████| 15/15 [00:00<00:00, 128.37it/s]\n"
          ]
        },
        {
          "output_type": "stream",
          "name": "stdout",
          "text": [
            "Epoch 33: Train Loss=2.157476641410627 Validation Loss=7.649904182979038\n"
          ]
        },
        {
          "output_type": "stream",
          "name": "stderr",
          "text": [
            "100%|██████████| 15/15 [00:00<00:00, 112.23it/s]\n"
          ]
        },
        {
          "output_type": "stream",
          "name": "stdout",
          "text": [
            "Epoch 34: Train Loss=2.1132367993509793 Validation Loss=7.974241915203276\n"
          ]
        },
        {
          "output_type": "stream",
          "name": "stderr",
          "text": [
            "100%|██████████| 15/15 [00:00<00:00, 126.65it/s]\n"
          ]
        },
        {
          "output_type": "stream",
          "name": "stdout",
          "text": [
            "Epoch 35: Train Loss=2.0617126633400122 Validation Loss=8.034451598212833\n"
          ]
        },
        {
          "output_type": "stream",
          "name": "stderr",
          "text": [
            "100%|██████████| 15/15 [00:00<00:00, 126.30it/s]\n"
          ]
        },
        {
          "output_type": "stream",
          "name": "stdout",
          "text": [
            "Epoch 36: Train Loss=2.058958469560904 Validation Loss=8.190541199275426\n"
          ]
        },
        {
          "output_type": "stream",
          "name": "stderr",
          "text": [
            "100%|██████████| 15/15 [00:00<00:00, 128.86it/s]\n"
          ]
        },
        {
          "output_type": "stream",
          "name": "stdout",
          "text": [
            "Epoch 37: Train Loss=2.018472516452681 Validation Loss=7.690247830890474\n"
          ]
        },
        {
          "output_type": "stream",
          "name": "stderr",
          "text": [
            "100%|██████████| 15/15 [00:00<00:00, 130.06it/s]\n"
          ]
        },
        {
          "output_type": "stream",
          "name": "stdout",
          "text": [
            "Epoch 38: Train Loss=1.9679855720146109 Validation Loss=8.069835912613641\n"
          ]
        },
        {
          "output_type": "stream",
          "name": "stderr",
          "text": [
            "100%|██████████| 15/15 [00:00<00:00, 125.35it/s]\n"
          ]
        },
        {
          "output_type": "stream",
          "name": "stdout",
          "text": [
            "Epoch 39: Train Loss=1.9313213627599586 Validation Loss=8.954712708791098\n"
          ]
        },
        {
          "output_type": "stream",
          "name": "stderr",
          "text": [
            "100%|██████████| 15/15 [00:00<00:00, 127.76it/s]\n"
          ]
        },
        {
          "output_type": "stream",
          "name": "stdout",
          "text": [
            "Epoch 40: Train Loss=1.8959778454639045 Validation Loss=7.248579206920805\n"
          ]
        },
        {
          "output_type": "stream",
          "name": "stderr",
          "text": [
            "100%|██████████| 15/15 [00:00<00:00, 130.20it/s]\n"
          ]
        },
        {
          "output_type": "stream",
          "name": "stdout",
          "text": [
            "Epoch 41: Train Loss=1.8233797544024886 Validation Loss=7.2097797847929455\n"
          ]
        },
        {
          "output_type": "stream",
          "name": "stderr",
          "text": [
            "100%|██████████| 15/15 [00:00<00:00, 129.28it/s]\n"
          ]
        },
        {
          "output_type": "stream",
          "name": "stdout",
          "text": [
            "Epoch 42: Train Loss=1.7433366854573786 Validation Loss=8.690404937380837\n"
          ]
        },
        {
          "output_type": "stream",
          "name": "stderr",
          "text": [
            "100%|██████████| 15/15 [00:00<00:00, 124.94it/s]\n"
          ]
        },
        {
          "output_type": "stream",
          "name": "stdout",
          "text": [
            "Epoch 43: Train Loss=1.6740729496186675 Validation Loss=9.360279469262986\n"
          ]
        },
        {
          "output_type": "stream",
          "name": "stderr",
          "text": [
            "100%|██████████| 15/15 [00:00<00:00, 131.55it/s]\n"
          ]
        },
        {
          "output_type": "stream",
          "name": "stdout",
          "text": [
            "Epoch 44: Train Loss=1.5938120264828584 Validation Loss=10.898498625982375\n"
          ]
        },
        {
          "output_type": "stream",
          "name": "stderr",
          "text": [
            "100%|██████████| 15/15 [00:00<00:00, 124.78it/s]\n"
          ]
        },
        {
          "output_type": "stream",
          "name": "stdout",
          "text": [
            "Epoch 45: Train Loss=1.7031106894481207 Validation Loss=7.950687521979923\n"
          ]
        },
        {
          "output_type": "stream",
          "name": "stderr",
          "text": [
            "100%|██████████| 15/15 [00:00<00:00, 129.07it/s]\n"
          ]
        },
        {
          "output_type": "stream",
          "name": "stdout",
          "text": [
            "Epoch 46: Train Loss=1.5474728660137655 Validation Loss=8.167216278257824\n"
          ]
        },
        {
          "output_type": "stream",
          "name": "stderr",
          "text": [
            "100%|██████████| 15/15 [00:00<00:00, 120.20it/s]\n"
          ]
        },
        {
          "output_type": "stream",
          "name": "stdout",
          "text": [
            "Epoch 47: Train Loss=1.4667010765363853 Validation Loss=7.353906290871756\n"
          ]
        },
        {
          "output_type": "stream",
          "name": "stderr",
          "text": [
            "100%|██████████| 15/15 [00:00<00:00, 130.70it/s]\n"
          ]
        },
        {
          "output_type": "stream",
          "name": "stdout",
          "text": [
            "Epoch 48: Train Loss=1.4538613787034491 Validation Loss=6.209736528850737\n"
          ]
        },
        {
          "output_type": "stream",
          "name": "stderr",
          "text": [
            "100%|██████████| 15/15 [00:00<00:00, 126.90it/s]\n"
          ]
        },
        {
          "output_type": "stream",
          "name": "stdout",
          "text": [
            "Epoch 49: Train Loss=1.4692109639826043 Validation Loss=8.947646481650215\n"
          ]
        },
        {
          "output_type": "stream",
          "name": "stderr",
          "text": [
            "100%|██████████| 15/15 [00:00<00:00, 127.29it/s]\n"
          ]
        },
        {
          "output_type": "stream",
          "name": "stdout",
          "text": [
            "Epoch 50: Train Loss=1.3634181010417317 Validation Loss=8.78633687609718\n"
          ]
        },
        {
          "output_type": "stream",
          "name": "stderr",
          "text": [
            "100%|██████████| 15/15 [00:00<00:00, 124.19it/s]\n"
          ]
        },
        {
          "output_type": "stream",
          "name": "stdout",
          "text": [
            "Epoch 51: Train Loss=1.3365473428546863 Validation Loss=9.06981543132237\n"
          ]
        },
        {
          "output_type": "stream",
          "name": "stderr",
          "text": [
            "100%|██████████| 15/15 [00:00<00:00, 127.53it/s]\n"
          ]
        },
        {
          "output_type": "stream",
          "name": "stdout",
          "text": [
            "Epoch 52: Train Loss=1.3208102880529529 Validation Loss=10.080295244852701\n"
          ]
        },
        {
          "output_type": "stream",
          "name": "stderr",
          "text": [
            "100%|██████████| 15/15 [00:00<00:00, 126.57it/s]\n"
          ]
        },
        {
          "output_type": "stream",
          "name": "stdout",
          "text": [
            "Epoch 53: Train Loss=1.2808264712400699 Validation Loss=10.031716233208066\n"
          ]
        },
        {
          "output_type": "stream",
          "name": "stderr",
          "text": [
            "100%|██████████| 15/15 [00:00<00:00, 125.20it/s]\n"
          ]
        },
        {
          "output_type": "stream",
          "name": "stdout",
          "text": [
            "Epoch 54: Train Loss=1.2032736117303864 Validation Loss=8.780471461159843\n"
          ]
        },
        {
          "output_type": "stream",
          "name": "stderr",
          "text": [
            "100%|██████████| 15/15 [00:00<00:00, 128.53it/s]\n"
          ]
        },
        {
          "output_type": "stream",
          "name": "stdout",
          "text": [
            "Epoch 55: Train Loss=1.2412484776620105 Validation Loss=10.62118825458345\n"
          ]
        },
        {
          "output_type": "stream",
          "name": "stderr",
          "text": [
            "100%|██████████| 15/15 [00:00<00:00, 130.23it/s]\n"
          ]
        },
        {
          "output_type": "stream",
          "name": "stdout",
          "text": [
            "Epoch 56: Train Loss=1.295960207062589 Validation Loss=8.933577605656215\n"
          ]
        },
        {
          "output_type": "stream",
          "name": "stderr",
          "text": [
            "100%|██████████| 15/15 [00:00<00:00, 130.92it/s]\n"
          ]
        },
        {
          "output_type": "stream",
          "name": "stdout",
          "text": [
            "Epoch 57: Train Loss=1.1772052698186786 Validation Loss=8.405110404604958\n"
          ]
        },
        {
          "output_type": "stream",
          "name": "stderr",
          "text": [
            "100%|██████████| 15/15 [00:00<00:00, 122.32it/s]\n"
          ]
        },
        {
          "output_type": "stream",
          "name": "stdout",
          "text": [
            "Epoch 58: Train Loss=1.1374099297844817 Validation Loss=8.813675176529657\n"
          ]
        },
        {
          "output_type": "stream",
          "name": "stderr",
          "text": [
            "100%|██████████| 15/15 [00:00<00:00, 123.44it/s]\n"
          ]
        },
        {
          "output_type": "stream",
          "name": "stdout",
          "text": [
            "Epoch 59: Train Loss=1.1440740588209592 Validation Loss=9.460840702056885\n"
          ]
        },
        {
          "output_type": "stream",
          "name": "stderr",
          "text": [
            "100%|██████████| 15/15 [00:00<00:00, 129.01it/s]\n"
          ]
        },
        {
          "output_type": "stream",
          "name": "stdout",
          "text": [
            "Epoch 60: Train Loss=1.184147598762655 Validation Loss=8.019020012446813\n"
          ]
        },
        {
          "output_type": "stream",
          "name": "stderr",
          "text": [
            "100%|██████████| 15/15 [00:00<00:00, 121.01it/s]\n"
          ]
        },
        {
          "output_type": "stream",
          "name": "stdout",
          "text": [
            "Epoch 61: Train Loss=1.179995338282277 Validation Loss=7.2096992674328035\n"
          ]
        },
        {
          "output_type": "stream",
          "name": "stderr",
          "text": [
            "100%|██████████| 15/15 [00:00<00:00, 122.30it/s]\n"
          ]
        },
        {
          "output_type": "stream",
          "name": "stdout",
          "text": [
            "Epoch 62: Train Loss=1.1102966096772942 Validation Loss=7.363989216940744\n"
          ]
        },
        {
          "output_type": "stream",
          "name": "stderr",
          "text": [
            "100%|██████████| 15/15 [00:00<00:00, 123.22it/s]\n"
          ]
        },
        {
          "output_type": "stream",
          "name": "stdout",
          "text": [
            "Epoch 63: Train Loss=1.0956081392154045 Validation Loss=8.93433173497518\n"
          ]
        },
        {
          "output_type": "stream",
          "name": "stderr",
          "text": [
            "100%|██████████| 15/15 [00:00<00:00, 124.09it/s]\n"
          ]
        },
        {
          "output_type": "stream",
          "name": "stdout",
          "text": [
            "Epoch 64: Train Loss=1.0625951624034837 Validation Loss=10.10987377166748\n"
          ]
        },
        {
          "output_type": "stream",
          "name": "stderr",
          "text": [
            "100%|██████████| 15/15 [00:00<00:00, 120.66it/s]\n"
          ]
        },
        {
          "output_type": "stream",
          "name": "stdout",
          "text": [
            "Epoch 65: Train Loss=1.1453317187635037 Validation Loss=7.520333539871943\n"
          ]
        },
        {
          "output_type": "stream",
          "name": "stderr",
          "text": [
            "100%|██████████| 15/15 [00:00<00:00, 129.62it/s]\n"
          ]
        },
        {
          "output_type": "stream",
          "name": "stdout",
          "text": [
            "Epoch 66: Train Loss=1.0818533088260753 Validation Loss=8.392235551561628\n"
          ]
        },
        {
          "output_type": "stream",
          "name": "stderr",
          "text": [
            "100%|██████████| 15/15 [00:00<00:00, 128.59it/s]\n"
          ]
        },
        {
          "output_type": "stream",
          "name": "stdout",
          "text": [
            "Epoch 67: Train Loss=1.0170068527956397 Validation Loss=8.323962643032981\n"
          ]
        },
        {
          "output_type": "stream",
          "name": "stderr",
          "text": [
            "100%|██████████| 15/15 [00:00<00:00, 127.87it/s]\n"
          ]
        },
        {
          "output_type": "stream",
          "name": "stdout",
          "text": [
            "Epoch 68: Train Loss=1.0187523390564626 Validation Loss=7.982023806799026\n"
          ]
        },
        {
          "output_type": "stream",
          "name": "stderr",
          "text": [
            "100%|██████████| 15/15 [00:00<00:00, 120.66it/s]\n"
          ]
        },
        {
          "output_type": "stream",
          "name": "stdout",
          "text": [
            "Epoch 69: Train Loss=1.0080459278538048 Validation Loss=9.29509010769072\n"
          ]
        },
        {
          "output_type": "stream",
          "name": "stderr",
          "text": [
            "100%|██████████| 15/15 [00:00<00:00, 119.40it/s]\n"
          ]
        },
        {
          "output_type": "stream",
          "name": "stdout",
          "text": [
            "Epoch 70: Train Loss=1.0083750695765958 Validation Loss=9.149023396628243\n"
          ]
        },
        {
          "output_type": "stream",
          "name": "stderr",
          "text": [
            "100%|██████████| 15/15 [00:00<00:00, 123.24it/s]\n"
          ]
        },
        {
          "output_type": "stream",
          "name": "stdout",
          "text": [
            "Epoch 71: Train Loss=0.9725419257136249 Validation Loss=7.781386874970936\n"
          ]
        },
        {
          "output_type": "stream",
          "name": "stderr",
          "text": [
            "100%|██████████| 15/15 [00:00<00:00, 128.46it/s]\n"
          ]
        },
        {
          "output_type": "stream",
          "name": "stdout",
          "text": [
            "Epoch 72: Train Loss=0.9969370721052226 Validation Loss=10.167065347943987\n"
          ]
        },
        {
          "output_type": "stream",
          "name": "stderr",
          "text": [
            "100%|██████████| 15/15 [00:00<00:00, 120.36it/s]\n"
          ]
        },
        {
          "output_type": "stream",
          "name": "stdout",
          "text": [
            "Epoch 73: Train Loss=0.9809749388580199 Validation Loss=9.704817771911621\n"
          ]
        },
        {
          "output_type": "stream",
          "name": "stderr",
          "text": [
            "100%|██████████| 15/15 [00:00<00:00, 129.21it/s]\n"
          ]
        },
        {
          "output_type": "stream",
          "name": "stdout",
          "text": [
            "Epoch 74: Train Loss=0.9664806979489636 Validation Loss=8.176347482772101\n"
          ]
        },
        {
          "output_type": "stream",
          "name": "stderr",
          "text": [
            "100%|██████████| 15/15 [00:00<00:00, 119.22it/s]\n"
          ]
        },
        {
          "output_type": "stream",
          "name": "stdout",
          "text": [
            "Epoch 75: Train Loss=0.9651649094793022 Validation Loss=8.172604583558583\n"
          ]
        },
        {
          "output_type": "stream",
          "name": "stderr",
          "text": [
            "100%|██████████| 15/15 [00:00<00:00, 131.58it/s]\n"
          ]
        },
        {
          "output_type": "stream",
          "name": "stdout",
          "text": [
            "Epoch 76: Train Loss=0.98328568602385 Validation Loss=9.89917771021525\n"
          ]
        },
        {
          "output_type": "stream",
          "name": "stderr",
          "text": [
            "100%|██████████| 15/15 [00:00<00:00, 121.19it/s]\n"
          ]
        },
        {
          "output_type": "stream",
          "name": "stdout",
          "text": [
            "Epoch 77: Train Loss=0.9502436333661489 Validation Loss=9.470999763125466\n"
          ]
        },
        {
          "output_type": "stream",
          "name": "stderr",
          "text": [
            "100%|██████████| 15/15 [00:00<00:00, 122.35it/s]\n"
          ]
        },
        {
          "output_type": "stream",
          "name": "stdout",
          "text": [
            "Epoch 78: Train Loss=0.9362293270810791 Validation Loss=9.311963490077428\n"
          ]
        },
        {
          "output_type": "stream",
          "name": "stderr",
          "text": [
            "100%|██████████| 15/15 [00:00<00:00, 125.14it/s]\n"
          ]
        },
        {
          "output_type": "stream",
          "name": "stdout",
          "text": [
            "Epoch 79: Train Loss=0.9507180597224789 Validation Loss=8.745360419863747\n"
          ]
        },
        {
          "output_type": "stream",
          "name": "stderr",
          "text": [
            "100%|██████████| 15/15 [00:00<00:00, 126.46it/s]\n"
          ]
        },
        {
          "output_type": "stream",
          "name": "stdout",
          "text": [
            "Epoch 80: Train Loss=0.9056489238860803 Validation Loss=9.034390449523926\n"
          ]
        },
        {
          "output_type": "stream",
          "name": "stderr",
          "text": [
            "100%|██████████| 15/15 [00:00<00:00, 126.85it/s]\n"
          ]
        },
        {
          "output_type": "stream",
          "name": "stdout",
          "text": [
            "Epoch 81: Train Loss=0.9160402699955477 Validation Loss=11.257166680835542\n"
          ]
        },
        {
          "output_type": "stream",
          "name": "stderr",
          "text": [
            "100%|██████████| 15/15 [00:00<00:00, 127.62it/s]\n"
          ]
        },
        {
          "output_type": "stream",
          "name": "stdout",
          "text": [
            "Epoch 82: Train Loss=0.9140092312272932 Validation Loss=10.841414519718715\n"
          ]
        },
        {
          "output_type": "stream",
          "name": "stderr",
          "text": [
            "100%|██████████| 15/15 [00:00<00:00, 130.10it/s]\n"
          ]
        },
        {
          "output_type": "stream",
          "name": "stdout",
          "text": [
            "Epoch 83: Train Loss=0.9415547462236653 Validation Loss=9.319175697508312\n"
          ]
        },
        {
          "output_type": "stream",
          "name": "stderr",
          "text": [
            "100%|██████████| 15/15 [00:00<00:00, 129.96it/s]\n"
          ]
        },
        {
          "output_type": "stream",
          "name": "stdout",
          "text": [
            "Epoch 84: Train Loss=0.9103374932337587 Validation Loss=8.165407044546944\n"
          ]
        },
        {
          "output_type": "stream",
          "name": "stderr",
          "text": [
            "100%|██████████| 15/15 [00:00<00:00, 126.57it/s]\n"
          ]
        },
        {
          "output_type": "stream",
          "name": "stdout",
          "text": [
            "Epoch 85: Train Loss=0.8921657334044826 Validation Loss=9.331960995992025\n"
          ]
        },
        {
          "output_type": "stream",
          "name": "stderr",
          "text": [
            "100%|██████████| 15/15 [00:00<00:00, 122.11it/s]\n"
          ]
        },
        {
          "output_type": "stream",
          "name": "stdout",
          "text": [
            "Epoch 86: Train Loss=0.8897511292184409 Validation Loss=9.724327246348063\n"
          ]
        },
        {
          "output_type": "stream",
          "name": "stderr",
          "text": [
            "100%|██████████| 15/15 [00:00<00:00, 120.75it/s]\n"
          ]
        },
        {
          "output_type": "stream",
          "name": "stdout",
          "text": [
            "Epoch 87: Train Loss=0.8988165413583982 Validation Loss=8.191203798566546\n"
          ]
        },
        {
          "output_type": "stream",
          "name": "stderr",
          "text": [
            "100%|██████████| 15/15 [00:00<00:00, 121.85it/s]\n"
          ]
        },
        {
          "output_type": "stream",
          "name": "stdout",
          "text": [
            "Epoch 88: Train Loss=0.8918188502738587 Validation Loss=8.094785485948835\n"
          ]
        },
        {
          "output_type": "stream",
          "name": "stderr",
          "text": [
            "100%|██████████| 15/15 [00:00<00:00, 128.90it/s]\n"
          ]
        },
        {
          "output_type": "stream",
          "name": "stdout",
          "text": [
            "Epoch 89: Train Loss=0.9488930562492855 Validation Loss=8.857087748391288\n"
          ]
        },
        {
          "output_type": "stream",
          "name": "stderr",
          "text": [
            "100%|██████████| 15/15 [00:00<00:00, 118.50it/s]\n"
          ]
        },
        {
          "output_type": "stream",
          "name": "stdout",
          "text": [
            "Epoch 90: Train Loss=0.8951433450603263 Validation Loss=10.39684940519787\n"
          ]
        },
        {
          "output_type": "stream",
          "name": "stderr",
          "text": [
            "100%|██████████| 15/15 [00:00<00:00, 126.59it/s]\n"
          ]
        },
        {
          "output_type": "stream",
          "name": "stdout",
          "text": [
            "Epoch 91: Train Loss=0.9503693153502132 Validation Loss=8.590386163620721\n"
          ]
        },
        {
          "output_type": "stream",
          "name": "stderr",
          "text": [
            "100%|██████████| 15/15 [00:00<00:00, 133.45it/s]\n"
          ]
        },
        {
          "output_type": "stream",
          "name": "stdout",
          "text": [
            "Epoch 92: Train Loss=0.8704793822105831 Validation Loss=8.198767911820184\n"
          ]
        },
        {
          "output_type": "stream",
          "name": "stderr",
          "text": [
            "100%|██████████| 15/15 [00:00<00:00, 129.26it/s]\n"
          ]
        },
        {
          "output_type": "stream",
          "name": "stdout",
          "text": [
            "Epoch 93: Train Loss=0.8932002946491778 Validation Loss=9.132817200251989\n"
          ]
        },
        {
          "output_type": "stream",
          "name": "stderr",
          "text": [
            "100%|██████████| 15/15 [00:00<00:00, 130.84it/s]\n"
          ]
        },
        {
          "output_type": "stream",
          "name": "stdout",
          "text": [
            "Epoch 94: Train Loss=0.8612728884799993 Validation Loss=8.173356215159098\n"
          ]
        },
        {
          "output_type": "stream",
          "name": "stderr",
          "text": [
            "100%|██████████| 15/15 [00:00<00:00, 128.81it/s]\n"
          ]
        },
        {
          "output_type": "stream",
          "name": "stdout",
          "text": [
            "Epoch 95: Train Loss=0.8607455086110943 Validation Loss=8.570729846046085\n"
          ]
        },
        {
          "output_type": "stream",
          "name": "stderr",
          "text": [
            "100%|██████████| 15/15 [00:00<00:00, 123.49it/s]\n"
          ]
        },
        {
          "output_type": "stream",
          "name": "stdout",
          "text": [
            "Epoch 96: Train Loss=0.8725757611552802 Validation Loss=9.548075653257824\n"
          ]
        },
        {
          "output_type": "stream",
          "name": "stderr",
          "text": [
            "100%|██████████| 15/15 [00:00<00:00, 132.27it/s]\n"
          ]
        },
        {
          "output_type": "stream",
          "name": "stdout",
          "text": [
            "Epoch 97: Train Loss=0.8553560416748784 Validation Loss=10.093952178955078\n"
          ]
        },
        {
          "output_type": "stream",
          "name": "stderr",
          "text": [
            "100%|██████████| 15/15 [00:00<00:00, 131.43it/s]\n"
          ]
        },
        {
          "output_type": "stream",
          "name": "stdout",
          "text": [
            "Epoch 98: Train Loss=0.8984536571029202 Validation Loss=9.102934973580497\n"
          ]
        },
        {
          "output_type": "stream",
          "name": "stderr",
          "text": [
            "100%|██████████| 15/15 [00:00<00:00, 126.11it/s]\n"
          ]
        },
        {
          "output_type": "stream",
          "name": "stdout",
          "text": [
            "Epoch 99: Train Loss=0.8501158955542469 Validation Loss=10.244148935590472\n"
          ]
        },
        {
          "output_type": "display_data",
          "data": {
            "text/plain": [
              "<Figure size 576x360 with 2 Axes>"
            ],
            "image/png": "[encoded data removed]"
          },
          "metadata": {}
        }
      ]
    },
    {
      "cell_type": "code",
      "source": [
        "plt.figure(figsize = (10,8))\n",
        "plt.plot(gnn_molecule_results.val_accs,label = 'gnn')\n",
        "plt.plot(gnn_molecule_results_12.val_accs,label = 'gnn_12')\n",
        "plt.plot(gnn_molecule_results_21.val_accs,label = 'gnn_21')\n",
        "\n",
        "plt.legend()\n",
        "plt.xlabel('# epochs')\n",
        "plt.ylabel('validation MSE loss')\n",
        "plt.show()"
      ],
      "metadata": {
        "colab": {
          "base_uri": "https://localhost:8080/",
          "height": 497
        },
        "id": "nrTV90u27T6A",
        "outputId": "4bc46dfa-fdcb-4ba6-bdf6-c71958e3dda5"
      },
      "execution_count": null,
      "outputs": [
        {
          "output_type": "display_data",
          "data": {
            "text/plain": [
              "<Figure size 720x576 with 1 Axes>"
            ],
            "image/png": "[encoded data removed]"
          },
          "metadata": {
            "needs_background": "light"
          }
        }
      ]
    }
  ],
  "metadata": {
    "accelerator": "GPU",
    "colab": {
      "collapsed_sections": [
        "j9PcrYNC6T6c",
        "pEJfujK36T6d",
        "NBZFbCos6T6d",
        "1cPqVmC_6T6e",
        "LAGHX40F6T6e"
      ],
      "provenance": []
    },
    "kernelspec": {
      "display_name": "Python 3 (ipykernel)",
      "language": "python",
      "name": "python3"
    },
    "language_info": {
      "codemirror_mode": {
        "name": "ipython",
        "version": 3
      },
      "file_extension": ".py",
      "mimetype": "text/x-python",
      "name": "python",
      "nbconvert_exporter": "python",
      "pygments_lexer": "ipython3",
      "version": "3.9.7"
    },
    "widgets": {
      "application/vnd.jupyter.widget-state+json": {
        "d4ee35c925cf44d18ac139bd4fa161d0": {
          "model_module": "@jupyter-widgets/controls",
          "model_name": "HBoxModel",
          "model_module_version": "1.5.0",
          "state": {
            "_dom_classes": [],
            "_model_module": "@jupyter-widgets/controls",
            "_model_module_version": "1.5.0",
            "_model_name": "HBoxModel",
            "_view_count": null,
            "_view_module": "@jupyter-widgets/controls",
            "_view_module_version": "1.5.0",
            "_view_name": "HBoxView",
            "box_style": "",
            "children": [
              "IPY_MODEL_bf830994de4f41da8c7a31bc054583ea",
              "IPY_MODEL_5d8ee8bb4bc84f4088f5f3b6a94059b3",
              "IPY_MODEL_25eef309a9fc47bbbae95ffabd96367f"
            ],
            "layout": "IPY_MODEL_72ea20e8f3e44fbfb9d46a6f77790324"
          }
        },
        "bf830994de4f41da8c7a31bc054583ea": {
          "model_module": "@jupyter-widgets/controls",
          "model_name": "HTMLModel",
          "model_module_version": "1.5.0",
          "state": {
            "_dom_classes": [],
            "_model_module": "@jupyter-widgets/controls",
            "_model_module_version": "1.5.0",
            "_model_name": "HTMLModel",
            "_view_count": null,
            "_view_module": "@jupyter-widgets/controls",
            "_view_module_version": "1.5.0",
            "_view_name": "HTMLView",
            "description": "",
            "description_tooltip": null,
            "layout": "IPY_MODEL_4d1f395b98294bd5819551842062ecb4",
            "placeholder": "​",
            "style": "IPY_MODEL_c604f7cebfc74d7eb32bcb3749bde216",
            "value": "100%"
          }
        },
        "5d8ee8bb4bc84f4088f5f3b6a94059b3": {
          "model_module": "@jupyter-widgets/controls",
          "model_name": "FloatProgressModel",
          "model_module_version": "1.5.0",
          "state": {
            "_dom_classes": [],
            "_model_module": "@jupyter-widgets/controls",
            "_model_module_version": "1.5.0",
            "_model_name": "FloatProgressModel",
            "_view_count": null,
            "_view_module": "@jupyter-widgets/controls",
            "_view_module_version": "1.5.0",
            "_view_name": "ProgressView",
            "bar_style": "success",
            "description": "",
            "description_tooltip": null,
            "layout": "IPY_MODEL_a81297ee54a745cc9d875f11804ee292",
            "max": 9912422,
            "min": 0,
            "orientation": "horizontal",
            "style": "IPY_MODEL_82c41084368f4fc5b501102b777c67f5",
            "value": 9912422
          }
        },
        "25eef309a9fc47bbbae95ffabd96367f": {
          "model_module": "@jupyter-widgets/controls",
          "model_name": "HTMLModel",
          "model_module_version": "1.5.0",
          "state": {
            "_dom_classes": [],
            "_model_module": "@jupyter-widgets/controls",
            "_model_module_version": "1.5.0",
            "_model_name": "HTMLModel",
            "_view_count": null,
            "_view_module": "@jupyter-widgets/controls",
            "_view_module_version": "1.5.0",
            "_view_name": "HTMLView",
            "description": "",
            "description_tooltip": null,
            "layout": "IPY_MODEL_9ce931f186184b09b516ec350be832c0",
            "placeholder": "​",
            "style": "IPY_MODEL_a994d16fcd5e4ab09c49b059a56ae60a",
            "value": " 9912422/9912422 [00:00&lt;00:00, 33073396.11it/s]"
          }
        },
        "72ea20e8f3e44fbfb9d46a6f77790324": {
          "model_module": "@jupyter-widgets/base",
          "model_name": "LayoutModel",
          "model_module_version": "1.2.0",
          "state": {
            "_model_module": "@jupyter-widgets/base",
            "_model_module_version": "1.2.0",
            "_model_name": "LayoutModel",
            "_view_count": null,
            "_view_module": "@jupyter-widgets/base",
            "_view_module_version": "1.2.0",
            "_view_name": "LayoutView",
            "align_content": null,
            "align_items": null,
            "align_self": null,
            "border": null,
            "bottom": null,
            "display": null,
            "flex": null,
            "flex_flow": null,
            "grid_area": null,
            "grid_auto_columns": null,
            "grid_auto_flow": null,
            "grid_auto_rows": null,
            "grid_column": null,
            "grid_gap": null,
            "grid_row": null,
            "grid_template_areas": null,
            "grid_template_columns": null,
            "grid_template_rows": null,
            "height": null,
            "justify_content": null,
            "justify_items": null,
            "left": null,
            "margin": null,
            "max_height": null,
            "max_width": null,
            "min_height": null,
            "min_width": null,
            "object_fit": null,
            "object_position": null,
            "order": null,
            "overflow": null,
            "overflow_x": null,
            "overflow_y": null,
            "padding": null,
            "right": null,
            "top": null,
            "visibility": null,
            "width": null
          }
        },
        "4d1f395b98294bd5819551842062ecb4": {
          "model_module": "@jupyter-widgets/base",
          "model_name": "LayoutModel",
          "model_module_version": "1.2.0",
          "state": {
            "_model_module": "@jupyter-widgets/base",
            "_model_module_version": "1.2.0",
            "_model_name": "LayoutModel",
            "_view_count": null,
            "_view_module": "@jupyter-widgets/base",
            "_view_module_version": "1.2.0",
            "_view_name": "LayoutView",
            "align_content": null,
            "align_items": null,
            "align_self": null,
            "border": null,
            "bottom": null,
            "display": null,
            "flex": null,
            "flex_flow": null,
            "grid_area": null,
            "grid_auto_columns": null,
            "grid_auto_flow": null,
            "grid_auto_rows": null,
            "grid_column": null,
            "grid_gap": null,
            "grid_row": null,
            "grid_template_areas": null,
            "grid_template_columns": null,
            "grid_template_rows": null,
            "height": null,
            "justify_content": null,
            "justify_items": null,
            "left": null,
            "margin": null,
            "max_height": null,
            "max_width": null,
            "min_height": null,
            "min_width": null,
            "object_fit": null,
            "object_position": null,
            "order": null,
            "overflow": null,
            "overflow_x": null,
            "overflow_y": null,
            "padding": null,
            "right": null,
            "top": null,
            "visibility": null,
            "width": null
          }
        },
        "c604f7cebfc74d7eb32bcb3749bde216": {
          "model_module": "@jupyter-widgets/controls",
          "model_name": "DescriptionStyleModel",
          "model_module_version": "1.5.0",
          "state": {
            "_model_module": "@jupyter-widgets/controls",
            "_model_module_version": "1.5.0",
            "_model_name": "DescriptionStyleModel",
            "_view_count": null,
            "_view_module": "@jupyter-widgets/base",
            "_view_module_version": "1.2.0",
            "_view_name": "StyleView",
            "description_width": ""
          }
        },
        "a81297ee54a745cc9d875f11804ee292": {
          "model_module": "@jupyter-widgets/base",
          "model_name": "LayoutModel",
          "model_module_version": "1.2.0",
          "state": {
            "_model_module": "@jupyter-widgets/base",
            "_model_module_version": "1.2.0",
            "_model_name": "LayoutModel",
            "_view_count": null,
            "_view_module": "@jupyter-widgets/base",
            "_view_module_version": "1.2.0",
            "_view_name": "LayoutView",
            "align_content": null,
            "align_items": null,
            "align_self": null,
            "border": null,
            "bottom": null,
            "display": null,
            "flex": null,
            "flex_flow": null,
            "grid_area": null,
            "grid_auto_columns": null,
            "grid_auto_flow": null,
            "grid_auto_rows": null,
            "grid_column": null,
            "grid_gap": null,
            "grid_row": null,
            "grid_template_areas": null,
            "grid_template_columns": null,
            "grid_template_rows": null,
            "height": null,
            "justify_content": null,
            "justify_items": null,
            "left": null,
            "margin": null,
            "max_height": null,
            "max_width": null,
            "min_height": null,
            "min_width": null,
            "object_fit": null,
            "object_position": null,
            "order": null,
            "overflow": null,
            "overflow_x": null,
            "overflow_y": null,
            "padding": null,
            "right": null,
            "top": null,
            "visibility": null,
            "width": null
          }
        },
        "82c41084368f4fc5b501102b777c67f5": {
          "model_module": "@jupyter-widgets/controls",
          "model_name": "ProgressStyleModel",
          "model_module_version": "1.5.0",
          "state": {
            "_model_module": "@jupyter-widgets/controls",
            "_model_module_version": "1.5.0",
            "_model_name": "ProgressStyleModel",
            "_view_count": null,
            "_view_module": "@jupyter-widgets/base",
            "_view_module_version": "1.2.0",
            "_view_name": "StyleView",
            "bar_color": null,
            "description_width": ""
          }
        },
        "9ce931f186184b09b516ec350be832c0": {
          "model_module": "@jupyter-widgets/base",
          "model_name": "LayoutModel",
          "model_module_version": "1.2.0",
          "state": {
            "_model_module": "@jupyter-widgets/base",
            "_model_module_version": "1.2.0",
            "_model_name": "LayoutModel",
            "_view_count": null,
            "_view_module": "@jupyter-widgets/base",
            "_view_module_version": "1.2.0",
            "_view_name": "LayoutView",
            "align_content": null,
            "align_items": null,
            "align_self": null,
            "border": null,
            "bottom": null,
            "display": null,
            "flex": null,
            "flex_flow": null,
            "grid_area": null,
            "grid_auto_columns": null,
            "grid_auto_flow": null,
            "grid_auto_rows": null,
            "grid_column": null,
            "grid_gap": null,
            "grid_row": null,
            "grid_template_areas": null,
            "grid_template_columns": null,
            "grid_template_rows": null,
            "height": null,
            "justify_content": null,
            "justify_items": null,
            "left": null,
            "margin": null,
            "max_height": null,
            "max_width": null,
            "min_height": null,
            "min_width": null,
            "object_fit": null,
            "object_position": null,
            "order": null,
            "overflow": null,
            "overflow_x": null,
            "overflow_y": null,
            "padding": null,
            "right": null,
            "top": null,
            "visibility": null,
            "width": null
          }
        },
        "a994d16fcd5e4ab09c49b059a56ae60a": {
          "model_module": "@jupyter-widgets/controls",
          "model_name": "DescriptionStyleModel",
          "model_module_version": "1.5.0",
          "state": {
            "_model_module": "@jupyter-widgets/controls",
            "_model_module_version": "1.5.0",
            "_model_name": "DescriptionStyleModel",
            "_view_count": null,
            "_view_module": "@jupyter-widgets/base",
            "_view_module_version": "1.2.0",
            "_view_name": "StyleView",
            "description_width": ""
          }
        },
        "9cec7930cd63470981f37ff5c8f72181": {
          "model_module": "@jupyter-widgets/controls",
          "model_name": "HBoxModel",
          "model_module_version": "1.5.0",
          "state": {
            "_dom_classes": [],
            "_model_module": "@jupyter-widgets/controls",
            "_model_module_version": "1.5.0",
            "_model_name": "HBoxModel",
            "_view_count": null,
            "_view_module": "@jupyter-widgets/controls",
            "_view_module_version": "1.5.0",
            "_view_name": "HBoxView",
            "box_style": "",
            "children": [
              "IPY_MODEL_e17a1aff5c4d435ea8c59cb8c1f771e3",
              "IPY_MODEL_56f308043264407d80c78768304d2725",
              "IPY_MODEL_34d14e81588449b0be7cc68144993680"
            ],
            "layout": "IPY_MODEL_0608686637274884aae5b4d50bc93181"
          }
        },
        "e17a1aff5c4d435ea8c59cb8c1f771e3": {
          "model_module": "@jupyter-widgets/controls",
          "model_name": "HTMLModel",
          "model_module_version": "1.5.0",
          "state": {
            "_dom_classes": [],
            "_model_module": "@jupyter-widgets/controls",
            "_model_module_version": "1.5.0",
            "_model_name": "HTMLModel",
            "_view_count": null,
            "_view_module": "@jupyter-widgets/controls",
            "_view_module_version": "1.5.0",
            "_view_name": "HTMLView",
            "description": "",
            "description_tooltip": null,
            "layout": "IPY_MODEL_5edbd2702a844edaa01772f13d7be027",
            "placeholder": "​",
            "style": "IPY_MODEL_1016db4b49f04aac80528fe6145674bd",
            "value": "100%"
          }
        },
        "56f308043264407d80c78768304d2725": {
          "model_module": "@jupyter-widgets/controls",
          "model_name": "FloatProgressModel",
          "model_module_version": "1.5.0",
          "state": {
            "_dom_classes": [],
            "_model_module": "@jupyter-widgets/controls",
            "_model_module_version": "1.5.0",
            "_model_name": "FloatProgressModel",
            "_view_count": null,
            "_view_module": "@jupyter-widgets/controls",
            "_view_module_version": "1.5.0",
            "_view_name": "ProgressView",
            "bar_style": "success",
            "description": "",
            "description_tooltip": null,
            "layout": "IPY_MODEL_b2db969f39f14767987d3a89bcd896db",
            "max": 28881,
            "min": 0,
            "orientation": "horizontal",
            "style": "IPY_MODEL_ac9960964e5b4883a1e75a57443f18eb",
            "value": 28881
          }
        },
        "34d14e81588449b0be7cc68144993680": {
          "model_module": "@jupyter-widgets/controls",
          "model_name": "HTMLModel",
          "model_module_version": "1.5.0",
          "state": {
            "_dom_classes": [],
            "_model_module": "@jupyter-widgets/controls",
            "_model_module_version": "1.5.0",
            "_model_name": "HTMLModel",
            "_view_count": null,
            "_view_module": "@jupyter-widgets/controls",
            "_view_module_version": "1.5.0",
            "_view_name": "HTMLView",
            "description": "",
            "description_tooltip": null,
            "layout": "IPY_MODEL_0d0d3679c43e4dc3af722131fda17427",
            "placeholder": "​",
            "style": "IPY_MODEL_b407f143b63249c1b77a7e031922dc7f",
            "value": " 28881/28881 [00:00&lt;00:00, 819131.97it/s]"
          }
        },
        "0608686637274884aae5b4d50bc93181": {
          "model_module": "@jupyter-widgets/base",
          "model_name": "LayoutModel",
          "model_module_version": "1.2.0",
          "state": {
            "_model_module": "@jupyter-widgets/base",
            "_model_module_version": "1.2.0",
            "_model_name": "LayoutModel",
            "_view_count": null,
            "_view_module": "@jupyter-widgets/base",
            "_view_module_version": "1.2.0",
            "_view_name": "LayoutView",
            "align_content": null,
            "align_items": null,
            "align_self": null,
            "border": null,
            "bottom": null,
            "display": null,
            "flex": null,
            "flex_flow": null,
            "grid_area": null,
            "grid_auto_columns": null,
            "grid_auto_flow": null,
            "grid_auto_rows": null,
            "grid_column": null,
            "grid_gap": null,
            "grid_row": null,
            "grid_template_areas": null,
            "grid_template_columns": null,
            "grid_template_rows": null,
            "height": null,
            "justify_content": null,
            "justify_items": null,
            "left": null,
            "margin": null,
            "max_height": null,
            "max_width": null,
            "min_height": null,
            "min_width": null,
            "object_fit": null,
            "object_position": null,
            "order": null,
            "overflow": null,
            "overflow_x": null,
            "overflow_y": null,
            "padding": null,
            "right": null,
            "top": null,
            "visibility": null,
            "width": null
          }
        },
        "5edbd2702a844edaa01772f13d7be027": {
          "model_module": "@jupyter-widgets/base",
          "model_name": "LayoutModel",
          "model_module_version": "1.2.0",
          "state": {
            "_model_module": "@jupyter-widgets/base",
            "_model_module_version": "1.2.0",
            "_model_name": "LayoutModel",
            "_view_count": null,
            "_view_module": "@jupyter-widgets/base",
            "_view_module_version": "1.2.0",
            "_view_name": "LayoutView",
            "align_content": null,
            "align_items": null,
            "align_self": null,
            "border": null,
            "bottom": null,
            "display": null,
            "flex": null,
            "flex_flow": null,
            "grid_area": null,
            "grid_auto_columns": null,
            "grid_auto_flow": null,
            "grid_auto_rows": null,
            "grid_column": null,
            "grid_gap": null,
            "grid_row": null,
            "grid_template_areas": null,
            "grid_template_columns": null,
            "grid_template_rows": null,
            "height": null,
            "justify_content": null,
            "justify_items": null,
            "left": null,
            "margin": null,
            "max_height": null,
            "max_width": null,
            "min_height": null,
            "min_width": null,
            "object_fit": null,
            "object_position": null,
            "order": null,
            "overflow": null,
            "overflow_x": null,
            "overflow_y": null,
            "padding": null,
            "right": null,
            "top": null,
            "visibility": null,
            "width": null
          }
        },
        "1016db4b49f04aac80528fe6145674bd": {
          "model_module": "@jupyter-widgets/controls",
          "model_name": "DescriptionStyleModel",
          "model_module_version": "1.5.0",
          "state": {
            "_model_module": "@jupyter-widgets/controls",
            "_model_module_version": "1.5.0",
            "_model_name": "DescriptionStyleModel",
            "_view_count": null,
            "_view_module": "@jupyter-widgets/base",
            "_view_module_version": "1.2.0",
            "_view_name": "StyleView",
            "description_width": ""
          }
        },
        "b2db969f39f14767987d3a89bcd896db": {
          "model_module": "@jupyter-widgets/base",
          "model_name": "LayoutModel",
          "model_module_version": "1.2.0",
          "state": {
            "_model_module": "@jupyter-widgets/base",
            "_model_module_version": "1.2.0",
            "_model_name": "LayoutModel",
            "_view_count": null,
            "_view_module": "@jupyter-widgets/base",
            "_view_module_version": "1.2.0",
            "_view_name": "LayoutView",
            "align_content": null,
            "align_items": null,
            "align_self": null,
            "border": null,
            "bottom": null,
            "display": null,
            "flex": null,
            "flex_flow": null,
            "grid_area": null,
            "grid_auto_columns": null,
            "grid_auto_flow": null,
            "grid_auto_rows": null,
            "grid_column": null,
            "grid_gap": null,
            "grid_row": null,
            "grid_template_areas": null,
            "grid_template_columns": null,
            "grid_template_rows": null,
            "height": null,
            "justify_content": null,
            "justify_items": null,
            "left": null,
            "margin": null,
            "max_height": null,
            "max_width": null,
            "min_height": null,
            "min_width": null,
            "object_fit": null,
            "object_position": null,
            "order": null,
            "overflow": null,
            "overflow_x": null,
            "overflow_y": null,
            "padding": null,
            "right": null,
            "top": null,
            "visibility": null,
            "width": null
          }
        },
        "ac9960964e5b4883a1e75a57443f18eb": {
          "model_module": "@jupyter-widgets/controls",
          "model_name": "ProgressStyleModel",
          "model_module_version": "1.5.0",
          "state": {
            "_model_module": "@jupyter-widgets/controls",
            "_model_module_version": "1.5.0",
            "_model_name": "ProgressStyleModel",
            "_view_count": null,
            "_view_module": "@jupyter-widgets/base",
            "_view_module_version": "1.2.0",
            "_view_name": "StyleView",
            "bar_color": null,
            "description_width": ""
          }
        },
        "0d0d3679c43e4dc3af722131fda17427": {
          "model_module": "@jupyter-widgets/base",
          "model_name": "LayoutModel",
          "model_module_version": "1.2.0",
          "state": {
            "_model_module": "@jupyter-widgets/base",
            "_model_module_version": "1.2.0",
            "_model_name": "LayoutModel",
            "_view_count": null,
            "_view_module": "@jupyter-widgets/base",
            "_view_module_version": "1.2.0",
            "_view_name": "LayoutView",
            "align_content": null,
            "align_items": null,
            "align_self": null,
            "border": null,
            "bottom": null,
            "display": null,
            "flex": null,
            "flex_flow": null,
            "grid_area": null,
            "grid_auto_columns": null,
            "grid_auto_flow": null,
            "grid_auto_rows": null,
            "grid_column": null,
            "grid_gap": null,
            "grid_row": null,
            "grid_template_areas": null,
            "grid_template_columns": null,
            "grid_template_rows": null,
            "height": null,
            "justify_content": null,
            "justify_items": null,
            "left": null,
            "margin": null,
            "max_height": null,
            "max_width": null,
            "min_height": null,
            "min_width": null,
            "object_fit": null,
            "object_position": null,
            "order": null,
            "overflow": null,
            "overflow_x": null,
            "overflow_y": null,
            "padding": null,
            "right": null,
            "top": null,
            "visibility": null,
            "width": null
          }
        },
        "b407f143b63249c1b77a7e031922dc7f": {
          "model_module": "@jupyter-widgets/controls",
          "model_name": "DescriptionStyleModel",
          "model_module_version": "1.5.0",
          "state": {
            "_model_module": "@jupyter-widgets/controls",
            "_model_module_version": "1.5.0",
            "_model_name": "DescriptionStyleModel",
            "_view_count": null,
            "_view_module": "@jupyter-widgets/base",
            "_view_module_version": "1.2.0",
            "_view_name": "StyleView",
            "description_width": ""
          }
        },
        "13ddcd49c3a64d4f9522cce30fec356a": {
          "model_module": "@jupyter-widgets/controls",
          "model_name": "HBoxModel",
          "model_module_version": "1.5.0",
          "state": {
            "_dom_classes": [],
            "_model_module": "@jupyter-widgets/controls",
            "_model_module_version": "1.5.0",
            "_model_name": "HBoxModel",
            "_view_count": null,
            "_view_module": "@jupyter-widgets/controls",
            "_view_module_version": "1.5.0",
            "_view_name": "HBoxView",
            "box_style": "",
            "children": [
              "IPY_MODEL_4eac9f6ab882402ab5a6394382d513fc",
              "IPY_MODEL_f804eb4272154cd688dbfe027ab1e8ea",
              "IPY_MODEL_318dabbace42473abc291e1f3feb78e0"
            ],
            "layout": "IPY_MODEL_144699ae557940469e342a33a6a22bb4"
          }
        },
        "4eac9f6ab882402ab5a6394382d513fc": {
          "model_module": "@jupyter-widgets/controls",
          "model_name": "HTMLModel",
          "model_module_version": "1.5.0",
          "state": {
            "_dom_classes": [],
            "_model_module": "@jupyter-widgets/controls",
            "_model_module_version": "1.5.0",
            "_model_name": "HTMLModel",
            "_view_count": null,
            "_view_module": "@jupyter-widgets/controls",
            "_view_module_version": "1.5.0",
            "_view_name": "HTMLView",
            "description": "",
            "description_tooltip": null,
            "layout": "IPY_MODEL_244e6bfafcab41808833788aecb0f66d",
            "placeholder": "​",
            "style": "IPY_MODEL_93d5060710b24d53b608ef7b6f7ac556",
            "value": "100%"
          }
        },
        "f804eb4272154cd688dbfe027ab1e8ea": {
          "model_module": "@jupyter-widgets/controls",
          "model_name": "FloatProgressModel",
          "model_module_version": "1.5.0",
          "state": {
            "_dom_classes": [],
            "_model_module": "@jupyter-widgets/controls",
            "_model_module_version": "1.5.0",
            "_model_name": "FloatProgressModel",
            "_view_count": null,
            "_view_module": "@jupyter-widgets/controls",
            "_view_module_version": "1.5.0",
            "_view_name": "ProgressView",
            "bar_style": "success",
            "description": "",
            "description_tooltip": null,
            "layout": "IPY_MODEL_03d791d37a7d46b18884ccde3c3f0ce3",
            "max": 1648877,
            "min": 0,
            "orientation": "horizontal",
            "style": "IPY_MODEL_44c2d54b37ee46ccbe9b0936c2266a5d",
            "value": 1648877
          }
        },
        "318dabbace42473abc291e1f3feb78e0": {
          "model_module": "@jupyter-widgets/controls",
          "model_name": "HTMLModel",
          "model_module_version": "1.5.0",
          "state": {
            "_dom_classes": [],
            "_model_module": "@jupyter-widgets/controls",
            "_model_module_version": "1.5.0",
            "_model_name": "HTMLModel",
            "_view_count": null,
            "_view_module": "@jupyter-widgets/controls",
            "_view_module_version": "1.5.0",
            "_view_name": "HTMLView",
            "description": "",
            "description_tooltip": null,
            "layout": "IPY_MODEL_8e0f78f7c66e45caad2303bf20d8e106",
            "placeholder": "​",
            "style": "IPY_MODEL_f8023fcba1d44369b8a390fed8e030f0",
            "value": " 1648877/1648877 [00:00&lt;00:00, 12094701.13it/s]"
          }
        },
        "144699ae557940469e342a33a6a22bb4": {
          "model_module": "@jupyter-widgets/base",
          "model_name": "LayoutModel",
          "model_module_version": "1.2.0",
          "state": {
            "_model_module": "@jupyter-widgets/base",
            "_model_module_version": "1.2.0",
            "_model_name": "LayoutModel",
            "_view_count": null,
            "_view_module": "@jupyter-widgets/base",
            "_view_module_version": "1.2.0",
            "_view_name": "LayoutView",
            "align_content": null,
            "align_items": null,
            "align_self": null,
            "border": null,
            "bottom": null,
            "display": null,
            "flex": null,
            "flex_flow": null,
            "grid_area": null,
            "grid_auto_columns": null,
            "grid_auto_flow": null,
            "grid_auto_rows": null,
            "grid_column": null,
            "grid_gap": null,
            "grid_row": null,
            "grid_template_areas": null,
            "grid_template_columns": null,
            "grid_template_rows": null,
            "height": null,
            "justify_content": null,
            "justify_items": null,
            "left": null,
            "margin": null,
            "max_height": null,
            "max_width": null,
            "min_height": null,
            "min_width": null,
            "object_fit": null,
            "object_position": null,
            "order": null,
            "overflow": null,
            "overflow_x": null,
            "overflow_y": null,
            "padding": null,
            "right": null,
            "top": null,
            "visibility": null,
            "width": null
          }
        },
        "244e6bfafcab41808833788aecb0f66d": {
          "model_module": "@jupyter-widgets/base",
          "model_name": "LayoutModel",
          "model_module_version": "1.2.0",
          "state": {
            "_model_module": "@jupyter-widgets/base",
            "_model_module_version": "1.2.0",
            "_model_name": "LayoutModel",
            "_view_count": null,
            "_view_module": "@jupyter-widgets/base",
            "_view_module_version": "1.2.0",
            "_view_name": "LayoutView",
            "align_content": null,
            "align_items": null,
            "align_self": null,
            "border": null,
            "bottom": null,
            "display": null,
            "flex": null,
            "flex_flow": null,
            "grid_area": null,
            "grid_auto_columns": null,
            "grid_auto_flow": null,
            "grid_auto_rows": null,
            "grid_column": null,
            "grid_gap": null,
            "grid_row": null,
            "grid_template_areas": null,
            "grid_template_columns": null,
            "grid_template_rows": null,
            "height": null,
            "justify_content": null,
            "justify_items": null,
            "left": null,
            "margin": null,
            "max_height": null,
            "max_width": null,
            "min_height": null,
            "min_width": null,
            "object_fit": null,
            "object_position": null,
            "order": null,
            "overflow": null,
            "overflow_x": null,
            "overflow_y": null,
            "padding": null,
            "right": null,
            "top": null,
            "visibility": null,
            "width": null
          }
        },
        "93d5060710b24d53b608ef7b6f7ac556": {
          "model_module": "@jupyter-widgets/controls",
          "model_name": "DescriptionStyleModel",
          "model_module_version": "1.5.0",
          "state": {
            "_model_module": "@jupyter-widgets/controls",
            "_model_module_version": "1.5.0",
            "_model_name": "DescriptionStyleModel",
            "_view_count": null,
            "_view_module": "@jupyter-widgets/base",
            "_view_module_version": "1.2.0",
            "_view_name": "StyleView",
            "description_width": ""
          }
        },
        "03d791d37a7d46b18884ccde3c3f0ce3": {
          "model_module": "@jupyter-widgets/base",
          "model_name": "LayoutModel",
          "model_module_version": "1.2.0",
          "state": {
            "_model_module": "@jupyter-widgets/base",
            "_model_module_version": "1.2.0",
            "_model_name": "LayoutModel",
            "_view_count": null,
            "_view_module": "@jupyter-widgets/base",
            "_view_module_version": "1.2.0",
            "_view_name": "LayoutView",
            "align_content": null,
            "align_items": null,
            "align_self": null,
            "border": null,
            "bottom": null,
            "display": null,
            "flex": null,
            "flex_flow": null,
            "grid_area": null,
            "grid_auto_columns": null,
            "grid_auto_flow": null,
            "grid_auto_rows": null,
            "grid_column": null,
            "grid_gap": null,
            "grid_row": null,
            "grid_template_areas": null,
            "grid_template_columns": null,
            "grid_template_rows": null,
            "height": null,
            "justify_content": null,
            "justify_items": null,
            "left": null,
            "margin": null,
            "max_height": null,
            "max_width": null,
            "min_height": null,
            "min_width": null,
            "object_fit": null,
            "object_position": null,
            "order": null,
            "overflow": null,
            "overflow_x": null,
            "overflow_y": null,
            "padding": null,
            "right": null,
            "top": null,
            "visibility": null,
            "width": null
          }
        },
        "44c2d54b37ee46ccbe9b0936c2266a5d": {
          "model_module": "@jupyter-widgets/controls",
          "model_name": "ProgressStyleModel",
          "model_module_version": "1.5.0",
          "state": {
            "_model_module": "@jupyter-widgets/controls",
            "_model_module_version": "1.5.0",
            "_model_name": "ProgressStyleModel",
            "_view_count": null,
            "_view_module": "@jupyter-widgets/base",
            "_view_module_version": "1.2.0",
            "_view_name": "StyleView",
            "bar_color": null,
            "description_width": ""
          }
        },
        "8e0f78f7c66e45caad2303bf20d8e106": {
          "model_module": "@jupyter-widgets/base",
          "model_name": "LayoutModel",
          "model_module_version": "1.2.0",
          "state": {
            "_model_module": "@jupyter-widgets/base",
            "_model_module_version": "1.2.0",
            "_model_name": "LayoutModel",
            "_view_count": null,
            "_view_module": "@jupyter-widgets/base",
            "_view_module_version": "1.2.0",
            "_view_name": "LayoutView",
            "align_content": null,
            "align_items": null,
            "align_self": null,
            "border": null,
            "bottom": null,
            "display": null,
            "flex": null,
            "flex_flow": null,
            "grid_area": null,
            "grid_auto_columns": null,
            "grid_auto_flow": null,
            "grid_auto_rows": null,
            "grid_column": null,
            "grid_gap": null,
            "grid_row": null,
            "grid_template_areas": null,
            "grid_template_columns": null,
            "grid_template_rows": null,
            "height": null,
            "justify_content": null,
            "justify_items": null,
            "left": null,
            "margin": null,
            "max_height": null,
            "max_width": null,
            "min_height": null,
            "min_width": null,
            "object_fit": null,
            "object_position": null,
            "order": null,
            "overflow": null,
            "overflow_x": null,
            "overflow_y": null,
            "padding": null,
            "right": null,
            "top": null,
            "visibility": null,
            "width": null
          }
        },
        "f8023fcba1d44369b8a390fed8e030f0": {
          "model_module": "@jupyter-widgets/controls",
          "model_name": "DescriptionStyleModel",
          "model_module_version": "1.5.0",
          "state": {
            "_model_module": "@jupyter-widgets/controls",
            "_model_module_version": "1.5.0",
            "_model_name": "DescriptionStyleModel",
            "_view_count": null,
            "_view_module": "@jupyter-widgets/base",
            "_view_module_version": "1.2.0",
            "_view_name": "StyleView",
            "description_width": ""
          }
        },
        "25bca2429d39437bac406b75c1ff203c": {
          "model_module": "@jupyter-widgets/controls",
          "model_name": "HBoxModel",
          "model_module_version": "1.5.0",
          "state": {
            "_dom_classes": [],
            "_model_module": "@jupyter-widgets/controls",
            "_model_module_version": "1.5.0",
            "_model_name": "HBoxModel",
            "_view_count": null,
            "_view_module": "@jupyter-widgets/controls",
            "_view_module_version": "1.5.0",
            "_view_name": "HBoxView",
            "box_style": "",
            "children": [
              "IPY_MODEL_a67c0f5b435d45f2b7c9786fd4de6566",
              "IPY_MODEL_4f5736704bdf411b8059a8f08ff6265d",
              "IPY_MODEL_ea12a994827f43e082e1d204470404bd"
            ],
            "layout": "IPY_MODEL_389f1212e92e4320ad6775e59943aabc"
          }
        },
        "a67c0f5b435d45f2b7c9786fd4de6566": {
          "model_module": "@jupyter-widgets/controls",
          "model_name": "HTMLModel",
          "model_module_version": "1.5.0",
          "state": {
            "_dom_classes": [],
            "_model_module": "@jupyter-widgets/controls",
            "_model_module_version": "1.5.0",
            "_model_name": "HTMLModel",
            "_view_count": null,
            "_view_module": "@jupyter-widgets/controls",
            "_view_module_version": "1.5.0",
            "_view_name": "HTMLView",
            "description": "",
            "description_tooltip": null,
            "layout": "IPY_MODEL_44c7a24c37584b138d280b16a82524e6",
            "placeholder": "​",
            "style": "IPY_MODEL_06fe66ea32004200b59e099c0e7e2472",
            "value": "100%"
          }
        },
        "4f5736704bdf411b8059a8f08ff6265d": {
          "model_module": "@jupyter-widgets/controls",
          "model_name": "FloatProgressModel",
          "model_module_version": "1.5.0",
          "state": {
            "_dom_classes": [],
            "_model_module": "@jupyter-widgets/controls",
            "_model_module_version": "1.5.0",
            "_model_name": "FloatProgressModel",
            "_view_count": null,
            "_view_module": "@jupyter-widgets/controls",
            "_view_module_version": "1.5.0",
            "_view_name": "ProgressView",
            "bar_style": "success",
            "description": "",
            "description_tooltip": null,
            "layout": "IPY_MODEL_dbe7687c9d5743f189e2b3635a6975d1",
            "max": 4542,
            "min": 0,
            "orientation": "horizontal",
            "style": "IPY_MODEL_14b8a10935464ed994446ac745ce70e6",
            "value": 4542
          }
        },
        "ea12a994827f43e082e1d204470404bd": {
          "model_module": "@jupyter-widgets/controls",
          "model_name": "HTMLModel",
          "model_module_version": "1.5.0",
          "state": {
            "_dom_classes": [],
            "_model_module": "@jupyter-widgets/controls",
            "_model_module_version": "1.5.0",
            "_model_name": "HTMLModel",
            "_view_count": null,
            "_view_module": "@jupyter-widgets/controls",
            "_view_module_version": "1.5.0",
            "_view_name": "HTMLView",
            "description": "",
            "description_tooltip": null,
            "layout": "IPY_MODEL_aa31fdb0d84f4a028c4dfeaa8a6648c5",
            "placeholder": "​",
            "style": "IPY_MODEL_3484b892499e49cd87f83294b598cd9e",
            "value": " 4542/4542 [00:00&lt;00:00, 167985.19it/s]"
          }
        },
        "389f1212e92e4320ad6775e59943aabc": {
          "model_module": "@jupyter-widgets/base",
          "model_name": "LayoutModel",
          "model_module_version": "1.2.0",
          "state": {
            "_model_module": "@jupyter-widgets/base",
            "_model_module_version": "1.2.0",
            "_model_name": "LayoutModel",
            "_view_count": null,
            "_view_module": "@jupyter-widgets/base",
            "_view_module_version": "1.2.0",
            "_view_name": "LayoutView",
            "align_content": null,
            "align_items": null,
            "align_self": null,
            "border": null,
            "bottom": null,
            "display": null,
            "flex": null,
            "flex_flow": null,
            "grid_area": null,
            "grid_auto_columns": null,
            "grid_auto_flow": null,
            "grid_auto_rows": null,
            "grid_column": null,
            "grid_gap": null,
            "grid_row": null,
            "grid_template_areas": null,
            "grid_template_columns": null,
            "grid_template_rows": null,
            "height": null,
            "justify_content": null,
            "justify_items": null,
            "left": null,
            "margin": null,
            "max_height": null,
            "max_width": null,
            "min_height": null,
            "min_width": null,
            "object_fit": null,
            "object_position": null,
            "order": null,
            "overflow": null,
            "overflow_x": null,
            "overflow_y": null,
            "padding": null,
            "right": null,
            "top": null,
            "visibility": null,
            "width": null
          }
        },
        "44c7a24c37584b138d280b16a82524e6": {
          "model_module": "@jupyter-widgets/base",
          "model_name": "LayoutModel",
          "model_module_version": "1.2.0",
          "state": {
            "_model_module": "@jupyter-widgets/base",
            "_model_module_version": "1.2.0",
            "_model_name": "LayoutModel",
            "_view_count": null,
            "_view_module": "@jupyter-widgets/base",
            "_view_module_version": "1.2.0",
            "_view_name": "LayoutView",
            "align_content": null,
            "align_items": null,
            "align_self": null,
            "border": null,
            "bottom": null,
            "display": null,
            "flex": null,
            "flex_flow": null,
            "grid_area": null,
            "grid_auto_columns": null,
            "grid_auto_flow": null,
            "grid_auto_rows": null,
            "grid_column": null,
            "grid_gap": null,
            "grid_row": null,
            "grid_template_areas": null,
            "grid_template_columns": null,
            "grid_template_rows": null,
            "height": null,
            "justify_content": null,
            "justify_items": null,
            "left": null,
            "margin": null,
            "max_height": null,
            "max_width": null,
            "min_height": null,
            "min_width": null,
            "object_fit": null,
            "object_position": null,
            "order": null,
            "overflow": null,
            "overflow_x": null,
            "overflow_y": null,
            "padding": null,
            "right": null,
            "top": null,
            "visibility": null,
            "width": null
          }
        },
        "06fe66ea32004200b59e099c0e7e2472": {
          "model_module": "@jupyter-widgets/controls",
          "model_name": "DescriptionStyleModel",
          "model_module_version": "1.5.0",
          "state": {
            "_model_module": "@jupyter-widgets/controls",
            "_model_module_version": "1.5.0",
            "_model_name": "DescriptionStyleModel",
            "_view_count": null,
            "_view_module": "@jupyter-widgets/base",
            "_view_module_version": "1.2.0",
            "_view_name": "StyleView",
            "description_width": ""
          }
        },
        "dbe7687c9d5743f189e2b3635a6975d1": {
          "model_module": "@jupyter-widgets/base",
          "model_name": "LayoutModel",
          "model_module_version": "1.2.0",
          "state": {
            "_model_module": "@jupyter-widgets/base",
            "_model_module_version": "1.2.0",
            "_model_name": "LayoutModel",
            "_view_count": null,
            "_view_module": "@jupyter-widgets/base",
            "_view_module_version": "1.2.0",
            "_view_name": "LayoutView",
            "align_content": null,
            "align_items": null,
            "align_self": null,
            "border": null,
            "bottom": null,
            "display": null,
            "flex": null,
            "flex_flow": null,
            "grid_area": null,
            "grid_auto_columns": null,
            "grid_auto_flow": null,
            "grid_auto_rows": null,
            "grid_column": null,
            "grid_gap": null,
            "grid_row": null,
            "grid_template_areas": null,
            "grid_template_columns": null,
            "grid_template_rows": null,
            "height": null,
            "justify_content": null,
            "justify_items": null,
            "left": null,
            "margin": null,
            "max_height": null,
            "max_width": null,
            "min_height": null,
            "min_width": null,
            "object_fit": null,
            "object_position": null,
            "order": null,
            "overflow": null,
            "overflow_x": null,
            "overflow_y": null,
            "padding": null,
            "right": null,
            "top": null,
            "visibility": null,
            "width": null
          }
        },
        "14b8a10935464ed994446ac745ce70e6": {
          "model_module": "@jupyter-widgets/controls",
          "model_name": "ProgressStyleModel",
          "model_module_version": "1.5.0",
          "state": {
            "_model_module": "@jupyter-widgets/controls",
            "_model_module_version": "1.5.0",
            "_model_name": "ProgressStyleModel",
            "_view_count": null,
            "_view_module": "@jupyter-widgets/base",
            "_view_module_version": "1.2.0",
            "_view_name": "StyleView",
            "bar_color": null,
            "description_width": ""
          }
        },
        "aa31fdb0d84f4a028c4dfeaa8a6648c5": {
          "model_module": "@jupyter-widgets/base",
          "model_name": "LayoutModel",
          "model_module_version": "1.2.0",
          "state": {
            "_model_module": "@jupyter-widgets/base",
            "_model_module_version": "1.2.0",
            "_model_name": "LayoutModel",
            "_view_count": null,
            "_view_module": "@jupyter-widgets/base",
            "_view_module_version": "1.2.0",
            "_view_name": "LayoutView",
            "align_content": null,
            "align_items": null,
            "align_self": null,
            "border": null,
            "bottom": null,
            "display": null,
            "flex": null,
            "flex_flow": null,
            "grid_area": null,
            "grid_auto_columns": null,
            "grid_auto_flow": null,
            "grid_auto_rows": null,
            "grid_column": null,
            "grid_gap": null,
            "grid_row": null,
            "grid_template_areas": null,
            "grid_template_columns": null,
            "grid_template_rows": null,
            "height": null,
            "justify_content": null,
            "justify_items": null,
            "left": null,
            "margin": null,
            "max_height": null,
            "max_width": null,
            "min_height": null,
            "min_width": null,
            "object_fit": null,
            "object_position": null,
            "order": null,
            "overflow": null,
            "overflow_x": null,
            "overflow_y": null,
            "padding": null,
            "right": null,
            "top": null,
            "visibility": null,
            "width": null
          }
        },
        "3484b892499e49cd87f83294b598cd9e": {
          "model_module": "@jupyter-widgets/controls",
          "model_name": "DescriptionStyleModel",
          "model_module_version": "1.5.0",
          "state": {
            "_model_module": "@jupyter-widgets/controls",
            "_model_module_version": "1.5.0",
            "_model_name": "DescriptionStyleModel",
            "_view_count": null,
            "_view_module": "@jupyter-widgets/base",
            "_view_module_version": "1.2.0",
            "_view_name": "StyleView",
            "description_width": ""
          }
        }
      }
    }
  },
  "nbformat": 4,
  "nbformat_minor": 0
}